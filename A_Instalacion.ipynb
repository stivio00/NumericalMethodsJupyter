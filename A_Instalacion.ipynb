{
 "cells": [
  {
   "cell_type": "markdown",
   "metadata": {},
   "source": [
    "# Apendice A - Instalacion de Herramientas\n"
   ]
  },
  {
   "cell_type": "markdown",
   "metadata": {},
   "source": [
    "En esta sección se mostrara paso a paso la instalacion de las herramientas necesarias\n",
    "\n",
    "Glosario:\n",
    "Lenguaje de Programacion\n",
    "Compilador:\n",
    "Interprete\n",
    "Terminal\n",
    "IDE\n",
    "\n",
    "\n",
    "## A.1 Lista de Herramintas \n",
    "### A.1.1 Fundamentales\n",
    "Nucleo Python (kernel) : Interpete  de python version 3.7: pagina www.python.org\n",
    "\n",
    "El nucleo incluye la libreria standard, la terminar standard de python, y un IDE BASICO\n",
    "\n",
    "\n",
    "Terminal Python: IPython: ipython.org\n",
    "\n",
    "Notebooks: Jupyter\n",
    "\n",
    "### A1.1.2 Librerias para ciencia:\n",
    "Numpy\n",
    "Scipy\n",
    "\n",
    "MAtplotLib\n",
    "\n",
    "Pandas\n",
    "Sympy\n",
    "\n",
    "### A1.1.3Todo en un solo Paquete:\n",
    "Como es de esperarse un paquete que distribuya todos los componentes en una sola distribucion es conocido como Distribucion de Python:\n",
    "La mas popular es Anaconda\n",
    "E incluye un lista de paquetes extras\n",
    "\n",
    "\n",
    "## A.2 instalacion\n",
    "\n",
    "### A2.1Instacion por seprado:\n",
    "Windows(no recomendado)\n",
    "\n",
    "MacOSx\n",
    "\n",
    "Linux\n",
    "\n",
    "\n",
    "### A.2.2 Intalando Todo en uno (Anaconda):\n",
    "\n",
    "Windows (Recomendado):\n",
    "\n",
    "MacOS\n",
    "\n"
   ]
  },
  {
   "cell_type": "code",
   "execution_count": null,
   "metadata": {},
   "outputs": [],
   "source": []
  }
 ],
 "metadata": {
  "kernelspec": {
   "display_name": "Python 3",
   "language": "python",
   "name": "python3"
  },
  "language_info": {
   "codemirror_mode": {
    "name": "ipython",
    "version": 3
   },
   "file_extension": ".py",
   "mimetype": "text/x-python",
   "name": "python",
   "nbconvert_exporter": "python",
   "pygments_lexer": "ipython3",
   "version": "3.7.1"
  }
 },
 "nbformat": 4,
 "nbformat_minor": 2
}
