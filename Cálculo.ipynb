{
 "cells": [
  {
   "cell_type": "markdown",
   "metadata": {},
   "source": [
    "# Diff. Númerica\n",
    "\n",
    "La definición de la derivada es:\n",
    "\n",
    "\n",
    "$$ \\frac{d}{dx}f(x) = \\lim_{\\Delta x \\rightarrow 0} \\frac{f( x+ \\Delta x) - f(x)}{\\Delta x}  $$\n",
    "\n",
    "Aproximando la derivada por la derecha:\n",
    "$$ \\frac{d}{dx}f(x) \\approx  \\frac{f( x+ h) - f(x)}{h}  $$\n",
    "\n",
    "Aproximando la derivada por la izquierda:\n",
    "$$ \\frac{d}{dx}f(x) \\approx  \\frac{f(x) - f(x-h)}{h}  $$\n",
    "\n",
    "Aproximando la derivada por la centro:\n",
    "$$ \\frac{d}{dx}f(x) \\approx  \\frac{f(x+ \\frac{h}{2}) - f(x-\\frac{h}{2})}{h}  $$\n",
    "\n",
    "\n",
    "una funcionde prueba:\n",
    "$$ f_p(x) = cos(x) $$"
   ]
  },
  {
   "cell_type": "code",
   "execution_count": 58,
   "metadata": {},
   "outputs": [],
   "source": [
    "import numpy as np\n",
    "import matplotlib.pyplot as plt\n",
    "\n",
    "def derivada(f, x, h=1e-6):\n",
    "    return ( f(x+h) - f(x) ) / h\n",
    "\n",
    "def derivada_i(f, x, h=1e-6):\n",
    "    return ( f(x) - f(x-h) ) / h\n",
    "\n",
    "def derivada_c(f, x, h=1e-6):\n",
    "    h = h/2\n",
    "    return ( f(x +h) - f(x-h) ) / (2*h)\n",
    "\n",
    "\n",
    "def diff(f,x,i ,h=1e-6):\n",
    "    \"i=numero entero de 0,...,N-1(numero de columnas -1)\"\n",
    "    fx = f(x)\n",
    "    x[i] = x[i] +h\n",
    "    fxh = f(x)\n",
    "    return (fxh-fx)/h\n",
    "\n",
    "def jacn(f,x, h=1e-6):\n",
    "    N = len(x) #Columnas\n",
    "    M = len(f(x))\n",
    "    \n",
    "    J = np.zeros((N, M))\n",
    "    for i in range(N):\n",
    "        J[:,i] = diff(f,x,i,h)\n",
    "    \n",
    "    return J\n"
   ]
  },
  {
   "cell_type": "code",
   "execution_count": 64,
   "metadata": {},
   "outputs": [
    {
     "data": {
      "text/plain": [
       "array([[1.        , 1.        ],\n",
       "       [9.99999999, 9.000001  ]])"
      ]
     },
     "execution_count": 64,
     "metadata": {},
     "output_type": "execute_result"
    }
   ],
   "source": [
    "def f_p(x):\n",
    "    return np.array([x[0]+x[1] -5, x[0]*x[1]-6])\n",
    "\n",
    "jacn(f_p,[9,10], h=1e-6)"
   ]
  },
  {
   "cell_type": "code",
   "execution_count": 3,
   "metadata": {},
   "outputs": [],
   "source": [
    "def f_p(x):\n",
    "    return np.cos(x)"
   ]
  },
  {
   "cell_type": "code",
   "execution_count": 15,
   "metadata": {},
   "outputs": [
    {
     "data": {
      "image/png": "[encoded data removed]",
      "text/plain": [
       "<Figure size 432x288 with 1 Axes>"
      ]
     },
     "metadata": {
      "needs_background": "light"
     },
     "output_type": "display_data"
    }
   ],
   "source": [
    "t = np.linspace(0,2*np.pi,100)\n",
    "y1 = f_p(t)\n",
    "y2 = -np.sin(t)\n",
    "plt.plot(t, y1, label=\"cos(t)\")\n",
    "plt.plot(t, y2, label=\"-sin(t)\")\n",
    "plt.grid()\n",
    "plt.legend(loc=\"best\")\n",
    "plt.show()"
   ]
  },
  {
   "cell_type": "markdown",
   "metadata": {},
   "source": [
    "## Solución de la ecuación de Lazo cerrado para un mecanismo de 4 barras"
   ]
  },
  {
   "cell_type": "code",
   "execution_count": 79,
   "metadata": {},
   "outputs": [],
   "source": [
    "\n"
   ]
  },
  {
   "cell_type": "code",
   "execution_count": 81,
   "metadata": {},
   "outputs": [
    {
     "data": {
      "text/plain": [
       "array([-42.98769223,   2.97449874])"
      ]
     },
     "execution_count": 81,
     "metadata": {},
     "output_type": "execute_result"
    }
   ],
   "source": [
    "mec_4barras_pos([1,1])"
   ]
  },
  {
   "cell_type": "code",
   "execution_count": 80,
   "metadata": {},
   "outputs": [
    {
     "data": {
      "text/plain": [
       "180.0"
      ]
     },
     "execution_count": 80,
     "metadata": {},
     "output_type": "execute_result"
    }
   ],
   "source": [
    "grad(rad(180))"
   ]
  },
  {
   "cell_type": "code",
   "execution_count": 82,
   "metadata": {},
   "outputs": [
    {
     "ename": "ModuleNotFoundError",
     "evalue": "No module named 'metodos'",
     "output_type": "error",
     "traceback": [
      "\u001b[0;31m---------------------------------------------------------------------------\u001b[0m",
      "\u001b[0;31mModuleNotFoundError\u001b[0m                       Traceback (most recent call last)",
      "\u001b[0;32m<ipython-input-82-6bab4f670daa>\u001b[0m in \u001b[0;36m<module>\u001b[0;34m\u001b[0m\n\u001b[0;32m----> 1\u001b[0;31m \u001b[0;32mimport\u001b[0m \u001b[0mmetodos\u001b[0m\u001b[0;34m.\u001b[0m\u001b[0mmetodos\u001b[0m \u001b[0;32mas\u001b[0m \u001b[0mm\u001b[0m\u001b[0;34m\u001b[0m\u001b[0;34m\u001b[0m\u001b[0m\n\u001b[0m",
      "\u001b[0;31mModuleNotFoundError\u001b[0m: No module named 'metodos'"
     ]
    }
   ],
   "source": [
    "import metodos.metodos as m"
   ]
  },
  {
   "cell_type": "code",
   "execution_count": 83,
   "metadata": {},
   "outputs": [
    {
     "data": {
      "text/plain": [
       "['/Users/stephenkrol/Desktop/MetodosNumericos',\n",
       " '',\n",
       " '/usr/local/Cellar/ipython/7.2.0/libexec/lib/python3.7/site-packages',\n",
       " '/usr/local/Cellar/ipython/7.2.0/libexec/vendor/lib/python3.7/site-packages',\n",
       " '/usr/local/Cellar/python/3.7.2_1/Frameworks/Python.framework/Versions/3.7/lib/python37.zip',\n",
       " '/usr/local/Cellar/python/3.7.2_1/Frameworks/Python.framework/Versions/3.7/lib/python3.7',\n",
       " '/usr/local/Cellar/python/3.7.2_1/Frameworks/Python.framework/Versions/3.7/lib/python3.7/lib-dynload',\n",
       " '/Users/stephenkrol/Library/Python/3.7/lib/python/site-packages',\n",
       " '/usr/local/lib/python3.7/site-packages',\n",
       " '/usr/local/Cellar/numpy/1.16.1/libexec/nose/lib/python3.7/site-packages',\n",
       " '/usr/local/Cellar/ipython/7.2.0/libexec/lib/python3.7/site-packages/IPython/extensions',\n",
       " '/Users/stephenkrol/.ipython']"
      ]
     },
     "execution_count": 83,
     "metadata": {},
     "output_type": "execute_result"
    }
   ],
   "source": [
    "import sys\n",
    "sys.path"
   ]
  },
  {
   "cell_type": "code",
   "execution_count": 84,
   "metadata": {},
   "outputs": [
    {
     "ename": "ModuleNotFoundError",
     "evalue": "No module named 'metodos'",
     "output_type": "error",
     "traceback": [
      "\u001b[0;31m---------------------------------------------------------------------------\u001b[0m",
      "\u001b[0;31mModuleNotFoundError\u001b[0m                       Traceback (most recent call last)",
      "\u001b[0;32m<ipython-input-84-c323bec1d023>\u001b[0m in \u001b[0;36m<module>\u001b[0;34m\u001b[0m\n\u001b[0;32m----> 1\u001b[0;31m \u001b[0;32mimport\u001b[0m \u001b[0mmetodos\u001b[0m\u001b[0;34m\u001b[0m\u001b[0;34m\u001b[0m\u001b[0m\n\u001b[0m",
      "\u001b[0;31mModuleNotFoundError\u001b[0m: No module named 'metodos'"
     ]
    }
   ],
   "source": [
    "import metodos"
   ]
  },
  {
   "cell_type": "code",
   "execution_count": null,
   "metadata": {},
   "outputs": [],
   "source": []
  }
 ],
 "metadata": {
  "kernelspec": {
   "display_name": "Python 3",
   "language": "python",
   "name": "python3"
  },
  "language_info": {
   "codemirror_mode": {
    "name": "ipython",
    "version": 3
   },
   "file_extension": ".py",
   "mimetype": "text/x-python",
   "name": "python",
   "nbconvert_exporter": "python",
   "pygments_lexer": "ipython3",
   "version": "3.7.2"
  }
 },
 "nbformat": 4,
 "nbformat_minor": 2
}
