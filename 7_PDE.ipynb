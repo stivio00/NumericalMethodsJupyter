{
 "cells": [
  {
   "cell_type": "markdown",
   "metadata": {},
   "source": [
    "# Ecuaciones Diferenciales Parciales\n",
    "\n",
    "Muchos modelos que involucran variables distribuidas en el espacio estan modelados con ecuaciones diferenciales parciales. La solucion de un ec. dif. par. es una funcion de multiples variable y en muchas ocaciones no conocemos la solucion analitica o incluso si existe una solucion unica y continua. La ecuaciones diferenciales parciales o \"Partial diferential equations (PDE\" conocidas en la literatura internacional son de mucha impoartancia para investigar sistema continuos como mecanica de materiales, mecanica de fluidos , transferencia de calor o incluso fisica clasica y moderna. DEbido a su gran importancia diversos metodos para su solicion an sido creados y desarrollados en el ultimo siglo. Para poder aplicar estos metodos tenemos que clasificar el comportamiento de las PDE segun su comportamiento fisico. Las PDE's   hasta de segundo orden se pueden clasificar en hiperbolicas, parabolicas ey elipticas. Cada tipo tiene un comportamiento particular y su metodo de solucion es espesifico al tipo. Cabe mencionar que este tema es amplio y diverso y existe mucha literatura reciente sobre este tema. \n",
    "\n",
    "Ademas de clasificar las PDE# es importante clasificar los metodos utilizados para resolverlas:\n",
    "* FEM: Metodo de elementos finitos: se convierte las ecuaciones parciales a su forma debil se aproximan a un sistema de ecuacion ordinaria y estas se integras produciendo una solucion. Es comun en sistemas ellipticos o de estado estable.\n",
    "* Finite diferences (FDM), Metodo de diferencia finitas: Se aproximan las derivada parciales con derivadas finitas por medio de una aproximacion de taylor, el sistema resultante de multiples ecuaciones e incognitas se resuelve por medio de algebra linea, en caso de la PDE no sea linea, esta produce un sistema no lineal de ecuaciones y es necesario un paso intermedio por algun metodo de NEwton para encontrar las raices. Son comunes para todo tipo de sistemas de PDE.\n",
    "* Finite Volume Methods (FVM): metodo de volumen finito, se aproxima las ecuaciones en un forma integral(utilizando el teorema de gauss si es posible) produce resultados ismilares a FDM. Usos muy ampli en dinamica de fluidos computacional (CFD).\n",
    "\n",
    "Tambien es necesario mencionar que existen multiple métodos modernos no mencionados aquí, y otras extenciones de los métodos previamente definidos.\n",
    "\n",
    "\n",
    "## Introducción\n",
    "\n",
    "Una función de dos variables $u =u(x,y)$ pude ser derivada con respecto a una variable como:\n",
    "$$ \\frac{\\partial u}{\\partial x} = \\lim_{\\Delta x \\rightarrow 0} \\frac{u(x+\\Delta x,y) -u(x,y)}{\\Delta x}$$\n",
    "\n",
    "$$ \\frac{\\partial u}{\\partial y} = \\lim_{\\Delta y \\rightarrow 0} \\frac{u(x,y+\\Delta y) -u(x,y)}{\\Delta y}$$\n",
    "\n",
    "Algunos ejemplos de PDE son:\n",
    "$$ \\frac{\\partial u^2}{\\partial^2 x} + 2 x y \\frac{\\partial u^2}{\\partial^2 y}  + u + 1 = 0$$\n",
    "$$ \\frac{\\partial u^3}{\\partial^2 x \\partial y} +  x  \\frac{\\partial u^2}{\\partial^2 y}  + 8 u = 5 y$$\n",
    "\n",
    "\n",
    "Debido a la gran importancia de las ecuaciones diferenciales de segundo orden, vamos colocar la forma general:\n",
    "$$ A \\frac{\\partial^2 u}{\\partial x^2} + B \\frac{\\partial^2 u}{\\partial x \\partial y} + C  \\frac{\\partial^2 u}{\\partial y^2} + D = 0$$\n",
    "\n",
    "Donde $A$, $B$, $C$, $D$, son funciones de ${u, \\partial u/\\partial x, \\partial u/\\partial y, x, y}$\n",
    "\n",
    "El comportamiento de la ecuacinon difrencia esta derterminado por la pendiente de sus soluciones caracteristica, este tema es extenso y fundamental pero no es posible presentarlo a profundidad en este trabjo. Por otro lado el resumen de su clasificación se puede mostrar en la siguiente tabla:\n",
    "\n",
    "|determinante $B-2AC$| Nombre     | Ejemplo                      |\n",
    "|--------------------|------------|------------------------------|\n",
    "|$B-2AC = 0$         | Parabolica |    Transferencia de calor  (temporal)  |\n",
    "|$B-2AC < 0$         | Elliptica  |    Trasnferencia de Calor estado estable    |\n",
    "|$B-2AC > 0$         | Hiperbolica|    Equacion de onda    |\n",
    "\n",
    "Como una notación mas practica se pude escribir la derivada parcial como sub indice:\n",
    "$$ \\frac{\\partial u}{\\partial x} = u_x $$\n",
    "$$ \\frac{\\partial u}{\\partial y} = u_y $$\n",
    "$$ \\frac{\\partial^2 u}{\\partial x^2} = u_{xx} $$\n",
    "$$ \\frac{\\partial^2 u}{\\partial y^2} = u_{yy} $$\n",
    "$$ \\frac{\\partial^2 u}{\\partial x \\partial y} = u_{x y} $$\n",
    "\n",
    "\n",
    "Ademas Algunas operaciones se pueden escribir con el operador $\\nabla$, nabla es un operador vectorial y para el caso de tres dimensiones (3D) se puede escribir:\n",
    "$$ \\mathbf{\\nabla}  = \n",
    "\\begin{bmatrix}\n",
    "\\frac{\\partial }{\\partial x}  \\\\\n",
    "\\frac{\\partial }{\\partial y} \\\\\n",
    "\\frac{\\partial }{\\partial z}\n",
    "\\end{bmatrix} $$\n",
    "\n",
    "Si aplicamos el operador nabla (2D) a una función escalar $u(x,y)$ : \n",
    "$$ \\mathbf{\\nabla} u(x,y)  = \\begin{bmatrix} \\frac{\\partial u}{\\partial x} \\\\ \\frac{\\partial u}{\\partial y}\\end{bmatrix} $$\n",
    "\n",
    "Esta operacion se conoce como gradiente, es importante mencionar que el escalar de una funcion escalar es un funcion vectorial.\n",
    "\n",
    "Si aplicamos el producto punto de $\\mathbf{\\nabla} \\cdot \\mathbf{\\nabla}$ obtenemos el operador $\\Delta$:\n",
    "$$ \\mathbf{\\nabla} \\cdot \\mathbf{\\nabla}  = \\mathbf{\\nabla}^2 = \\Delta = \\frac{\\partial^2 u}{\\partial x^2} +\\frac{\\partial^2 u}{\\partial y^2} $$\n",
    "\n",
    "Este operador toma una funcion escalar y poduce una funcion escalar, esta operacion es conocida como el laplacaino.\n",
    "\n",
    "Cuando se aplica el producto punto de  $\\nabla$ a una ecuaciones vectorial se produce:\n",
    "$$ \\mathbf{\\nabla} \\cdot \\vec{f}(x,y)  = \n",
    "\\begin{bmatrix} \\frac{\\partial }{\\partial x} \\\\ \\frac{\\partial }{\\partial y}\\end{bmatrix} \n",
    "\\cdot \n",
    "\\begin{bmatrix} f_1(x,y)\\\\ f_2(x,y) \\end{bmatrix} \n",
    "=\n",
    "\\frac{\\partial f_1}{\\partial x} + \\frac{\\partial f_2}{\\partial y}\n",
    "$$\n",
    "esta operacion mantiene el rango de la funcion es decir si es escalar se mantiene escalar, si es vectorial se mantiene vectorial. A esta Operacion se conoce como divergencia.\n",
    "\n",
    "\n",
    "Por ultimo \n"
   ]
  },
  {
   "cell_type": "markdown",
   "metadata": {},
   "source": [
    "## Sistemas Elipticos\n"
   ]
  },
  {
   "cell_type": "markdown",
   "metadata": {},
   "source": [
    "Sistema eliptico modelo es la ecuacion de tranferencia de calor, la conduccion de calor es una ecuacion de el tipo\n",
    "$ \\partial_x q_x + \\partial_y q_y = 0$ balance de flujo de calor infinitodecimal en un punto.\n",
    "Si tomamos la ecuacion de fouruer, que explica que el flujo de calor ocurre de un punto caliente a un punto frio como\n",
    "$$ q_i = k \\rho C \\frac{\\partial T}{\\partial i} $$ \n",
    "\n",
    "Combinando el balance de calor  con la ecucion de difussion de Fourier obtenemos la ecucion de difussion de temperatura de laplace:\n",
    "$$ \\frac{\\partial^2 T}{\\partial x^2} + \\frac{\\partial^2 T}{\\partial y^2} = 0$$\n",
    "\n",
    "\n",
    "Si discretizamos el dominio de una placa ectangular \n",
    "![Imagen](./Images/Laplace_elliptic.png)\n",
    "Podemos observar que el dominio se \"discretiza\" utilizando una **malla** bidimensional, la interseccion de cada divisón del dominio se conoce como **nodo**. Los **nodos**  pueden identificaser con dos indice un indice $i$ que varia de $0$ a $m$ en direccion de la coordenada x. Y el indice $j$ que varia de $0$ a $n$ en direccion $y$. Por lo tanto $(m,n)§ reprecentan la resolucion de la malla.\n",
    "\n"
   ]
  },
  {
   "cell_type": "markdown",
   "metadata": {},
   "source": [
    "## Sitemas Parabolicos"
   ]
  },
  {
   "attachments": {},
   "cell_type": "markdown",
   "metadata": {},
   "source": []
  },
  {
   "cell_type": "code",
   "execution_count": null,
   "metadata": {},
   "outputs": [],
   "source": []
  },
  {
   "cell_type": "markdown",
   "metadata": {},
   "source": [
    "## Elementos finitos"
   ]
  },
  {
   "cell_type": "code",
   "execution_count": null,
   "metadata": {},
   "outputs": [],
   "source": []
  }
 ],
 "metadata": {
  "kernelspec": {
   "display_name": "Python 3",
   "language": "python",
   "name": "python3"
  },
  "language_info": {
   "codemirror_mode": {
    "name": "ipython",
    "version": 3
   },
   "file_extension": ".py",
   "mimetype": "text/x-python",
   "name": "python",
   "nbconvert_exporter": "python",
   "pygments_lexer": "ipython3",
   "version": "3.7.1"
  }
 },
 "nbformat": 4,
 "nbformat_minor": 2
}
