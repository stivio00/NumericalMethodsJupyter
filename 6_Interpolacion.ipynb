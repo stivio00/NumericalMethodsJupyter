{
 "cells": [
  {
   "cell_type": "markdown",
   "metadata": {},
   "source": [
    "# Interpolación\n",
    "## Introducción\n",
    "\n",
    "\n"
   ]
  },
  {
   "cell_type": "markdown",
   "metadata": {},
   "source": [
    "## Lagrange interpolation\n",
    "El polinomio de lagrange\n",
    "$$ f_n(x) = \\sum^n_{i=0} L_i(x) f(f_i)$$\n",
    "donde:\n",
    "$$ L_i(x) = \\prod^n_{j=0 \\bbox {..} j\\neq 1}{\\frac{x-x_j}{x_i-x_j}} $$\n",
    "\n",
    "Ejemplo:\n",
    "Si queremos utilizar el metodo de lagrange para interpolar los valores de \n",
    "\n",
    "$ x_0 = 1 \\quad f(x_0) = 0$\n",
    "\n",
    "$ x_1 = 4 \\quad f(x_1) = 1.386294$\n",
    "\n",
    "$ x_2 = 6 \\quad f(x_2) = 1.791760$\n",
    "\n",
    "El caso para una interpolacion para x = 2, podemos utilizar un polinomio lineal ($n=0$)."
   ]
  },
  {
   "cell_type": "code",
   "execution_count": 38,
   "metadata": {},
   "outputs": [],
   "source": [
    "def L_i(n,i,x,X):\n",
    "    resultado = 1;\n",
    "    for j in range(n+1):\n",
    "        #print(i,j)\n",
    "        if(not j == i ):\n",
    "            resultado = resultado * (x-X[j])/(X[i]-X[j])\n",
    "    return resultado\n",
    "\n",
    "def lagrange(n, x, X,F):\n",
    "    resultado = 0\n",
    "    for i in range(n+1):\n",
    "        #print(i)\n",
    "        resultado += L_i(n,i,x,X) * F[i]\n",
    "    return resultado\n"
   ]
  },
  {
   "cell_type": "code",
   "execution_count": 66,
   "metadata": {},
   "outputs": [
    {
     "data": {
      "text/plain": [
       "0.46209799999999995"
      ]
     },
     "execution_count": 66,
     "metadata": {},
     "output_type": "execute_result"
    }
   ],
   "source": [
    "X = [1, 4,6]\n",
    "F = [0, 1.386294, 1.791760]\n",
    "lagrange(1,2,X,F)"
   ]
  },
  {
   "cell_type": "code",
   "execution_count": 40,
   "metadata": {},
   "outputs": [
    {
     "data": {
      "text/plain": [
       "0.5658439999999999"
      ]
     },
     "execution_count": 40,
     "metadata": {},
     "output_type": "execute_result"
    }
   ],
   "source": [
    "lagrange(2,2, X,F)"
   ]
  },
  {
   "cell_type": "code",
   "execution_count": 25,
   "metadata": {},
   "outputs": [],
   "source": [
    "import numpy as np\n",
    "import matplotlib.pylab as plt"
   ]
  },
  {
   "cell_type": "code",
   "execution_count": 68,
   "metadata": {},
   "outputs": [
    {
     "data": {
      "text/plain": [
       "[<matplotlib.lines.Line2D at 0x118fa4cc0>]"
      ]
     },
     "execution_count": 68,
     "metadata": {},
     "output_type": "execute_result"
    },
    {
     "data": {
      "image/png": "[encoded data removed]",
      "text/plain": [
       "<Figure size 432x288 with 1 Axes>"
      ]
     },
     "metadata": {},
     "output_type": "display_data"
    }
   ],
   "source": [
    "x_array = np.linspace(0,6)\n",
    "f_1_array = np.array(list(map(lambda x:lagrange(1,x,X,F), x_array)))\n",
    "f_2_array = np.array(list(map(lambda x:lagrange(2,x,X,F), x_array)))\n",
    "#f_3_array = np.array(list(map(lambda x:lagrange(3,x,X,F), x_array)))\n",
    "\n",
    "plt.Figure()\n",
    "plt.plot(x_array, f_1_array)\n",
    "plt.plot(x_array, f_2_array)\n",
    "#plt.plot(x_array, f_3_array)\n",
    "plt.plot(X,F,\"or\")"
   ]
  },
  {
   "cell_type": "code",
   "execution_count": 1,
   "metadata": {},
   "outputs": [
    {
     "data": {
      "application/vnd.jupyter.widget-view+json": {
       "model_id": "fca49275ab684fe68e2e499adde9a4bb",
       "version_major": 2,
       "version_minor": 0
      },
      "text/plain": [
       "interactive(children=(IntSlider(value=5, description='n', max=9, min=1), Output()), _dom_classes=('widget-inte…"
      ]
     },
     "metadata": {},
     "output_type": "display_data"
    }
   ],
   "source": [
    "from ipywidgets import interact\n",
    "@interact(n=(1, 9))\n",
    "def f(n):\n",
    "    X = np.linspace(0,4,10)\n",
    "    F = np.sin(X)\n",
    "    x_array = np.linspace(0,4)\n",
    "    f_n_array = np.array(list(map(lambda x:lagrange(n,x,X,F), x_array)))\n",
    "    plt.plot(x_array, f_n_array)\n",
    "    plt.plot(X,F,\"or\")\n",
    "    plt.ylim(-1.5,1.5)\n",
    "    plt.show()"
   ]
  },
  {
   "cell_type": "markdown",
   "metadata": {},
   "source": [
    "## Splines\n",
    "### Splines cuadraticas\n",
    "### Splines cubicas"
   ]
  },
  {
   "cell_type": "code",
   "execution_count": null,
   "metadata": {},
   "outputs": [],
   "source": []
  },
  {
   "cell_type": "markdown",
   "metadata": {},
   "source": [
    "## Interpolacion multidimensional\n",
    "### Interpolacion bicubica"
   ]
  },
  {
   "cell_type": "code",
   "execution_count": 94,
   "metadata": {},
   "outputs": [
    {
     "data": {
      "application/vnd.jupyter.widget-view+json": {
       "model_id": "9d39b890e4684175917bb967f739cb3b",
       "version_major": 2,
       "version_minor": 0
      },
      "text/plain": [
       "interactive(children=(IntSlider(value=5, description='n', max=10, min=1), Output()), _dom_classes=('widget-int…"
      ]
     },
     "metadata": {},
     "output_type": "display_data"
    }
   ],
   "source": [
    "from ipywidgets import interact\n",
    "@interact(n=(1, 10))\n",
    "def f(n):\n",
    "    X = np.linspace(0,5,10)\n",
    "    F = np.sin(X)\n",
    "    x_array = np.linspace(0,6)\n",
    "\n",
    "    f_n_array = np.array(list(map(lambda x:lagrange(n,x,X,F), x_array)))\n",
    "\n",
    "    plt.plot(x_array, f_n_array)\n",
    "\n",
    "    plt.plot(X,F,\"or\")\n",
    "    plt.ylim(-2,2)\n",
    "    plt.show()"
   ]
  },
  {
   "cell_type": "code",
   "execution_count": null,
   "metadata": {},
   "outputs": [],
   "source": []
  },
  {
   "cell_type": "markdown",
   "metadata": {},
   "source": [
    "## Practicas\n",
    "1)  "
   ]
  }
 ],
 "metadata": {
  "kernelspec": {
   "display_name": "Python 3",
   "language": "python",
   "name": "python3"
  },
  "language_info": {
   "codemirror_mode": {
    "name": "ipython",
    "version": 3
   },
   "file_extension": ".py",
   "mimetype": "text/x-python",
   "name": "python",
   "nbconvert_exporter": "python",
   "pygments_lexer": "ipython3",
   "version": "3.7.1"
  }
 },
 "nbformat": 4,
 "nbformat_minor": 2
}
