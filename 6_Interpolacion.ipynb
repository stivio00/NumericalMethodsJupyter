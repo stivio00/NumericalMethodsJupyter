{
 "cells": [
  {
   "cell_type": "markdown",
   "metadata": {},
   "source": [
    "# Interpolación y Regresión\n",
    "## Introducción\n",
    "\n",
    "\n"
   ]
  },
  {
   "cell_type": "markdown",
   "metadata": {},
   "source": [
    "## Lagrange interpolation\n",
    "El polinomio de lagrange\n",
    "$$ f_n(x) = \\sum^n_{i=0} L_i(x) f(f_i)$$\n",
    "donde:\n",
    "$$ L_i(x) = \\prod^n_{j=0 \\bbox {..} j\\neq 1}{\\frac{x-x_j}{x_i-x_j}} $$\n",
    "\n",
    "Ejemplo:\n",
    "Si queremos utilizar el metodo de lagrange para interpolar los valores de \n",
    "\n",
    "$ x_0 = 1 \\quad f(x_0) = 0$\n",
    "\n",
    "$ x_1 = 4 \\quad f(x_1) = 1.386294$\n",
    "\n",
    "$ x_2 = 6 \\quad f(x_2) = 1.791760$\n",
    "\n",
    "El caso para una interpolacion para x = 2, podemos utilizar un polinomio lineal ($n=0$)."
   ]
  },
  {
   "cell_type": "code",
   "execution_count": 1,
   "metadata": {},
   "outputs": [],
   "source": [
    "def L_i(n,i,x,X):\n",
    "    resultado = 1;\n",
    "    for j in range(n+1):\n",
    "        #print(i,j)\n",
    "        if(not j == i ):\n",
    "            resultado = resultado * (x-X[j])/(X[i]-X[j])\n",
    "    return resultado\n",
    "\n",
    "def lagrange(n, x, X,F):\n",
    "    resultado = 0\n",
    "    for i in range(n+1):\n",
    "        #print(i)\n",
    "        resultado += L_i(n,i,x,X) * F[i]\n",
    "    return resultado\n"
   ]
  },
  {
   "cell_type": "code",
   "execution_count": 2,
   "metadata": {},
   "outputs": [
    {
     "data": {
      "text/plain": [
       "0.46209799999999995"
      ]
     },
     "execution_count": 2,
     "metadata": {},
     "output_type": "execute_result"
    }
   ],
   "source": [
    "X = [1, 4,6]\n",
    "F = [0, 1.386294, 1.791760]\n",
    "lagrange(1,2,X,F)"
   ]
  },
  {
   "cell_type": "code",
   "execution_count": 3,
   "metadata": {},
   "outputs": [
    {
     "data": {
      "text/plain": [
       "0.5658439999999999"
      ]
     },
     "execution_count": 3,
     "metadata": {},
     "output_type": "execute_result"
    }
   ],
   "source": [
    "lagrange(2,2, X,F)"
   ]
  },
  {
   "cell_type": "code",
   "execution_count": 4,
   "metadata": {},
   "outputs": [],
   "source": [
    "import numpy as np\n",
    "import matplotlib.pylab as plt"
   ]
  },
  {
   "cell_type": "code",
   "execution_count": 5,
   "metadata": {},
   "outputs": [
    {
     "data": {
      "text/plain": [
       "[<matplotlib.lines.Line2D at 0x10e7e1e10>]"
      ]
     },
     "execution_count": 5,
     "metadata": {},
     "output_type": "execute_result"
    },
    {
     "data": {
      "image/png": "[encoded data removed]",
      "text/plain": [
       "<Figure size 432x288 with 1 Axes>"
      ]
     },
     "metadata": {},
     "output_type": "display_data"
    }
   ],
   "source": [
    "x_array = np.linspace(0,6)\n",
    "f_1_array = np.array(list(map(lambda x:lagrange(1,x,X,F), x_array)))\n",
    "f_2_array = np.array(list(map(lambda x:lagrange(2,x,X,F), x_array)))\n",
    "#f_3_array = np.array(list(map(lambda x:lagrange(3,x,X,F), x_array)))\n",
    "\n",
    "plt.Figure()\n",
    "plt.plot(x_array, f_1_array)\n",
    "plt.plot(x_array, f_2_array)\n",
    "#plt.plot(x_array, f_3_array)\n",
    "plt.plot(X,F,\"or\")"
   ]
  },
  {
   "cell_type": "code",
   "execution_count": 6,
   "metadata": {},
   "outputs": [
    {
     "data": {
      "application/vnd.jupyter.widget-view+json": {
       "model_id": "05470eca3a9b407b9a3935c535fec3bd",
       "version_major": 2,
       "version_minor": 0
      },
      "text/plain": [
       "interactive(children=(IntSlider(value=5, description='n', max=9, min=1), Output()), _dom_classes=('widget-inte…"
      ]
     },
     "metadata": {},
     "output_type": "display_data"
    }
   ],
   "source": [
    "from ipywidgets import interact\n",
    "@interact(n=(1, 9))\n",
    "def f(n):\n",
    "    X = np.linspace(0,4,10)\n",
    "    F = np.sin(X)\n",
    "    x_array = np.linspace(0,4)\n",
    "    f_n_array = np.array(list(map(lambda x:lagrange(n,x,X,F), x_array)))\n",
    "    plt.plot(x_array, f_n_array)\n",
    "    plt.plot(X,F,\"or\")\n",
    "    plt.ylim(-1.5,1.5)\n",
    "    plt.show()"
   ]
  },
  {
   "cell_type": "markdown",
   "metadata": {},
   "source": [
    "## Splines\n",
    "### Splines cuadraticas\n",
    "### Splines cubicas"
   ]
  },
  {
   "cell_type": "code",
   "execution_count": null,
   "metadata": {},
   "outputs": [],
   "source": []
  },
  {
   "cell_type": "markdown",
   "metadata": {},
   "source": [
    "## Interpolacion multidimensional\n",
    "### Interpolacion bicubica"
   ]
  },
  {
   "cell_type": "code",
   "execution_count": 7,
   "metadata": {},
   "outputs": [
    {
     "data": {
      "application/vnd.jupyter.widget-view+json": {
       "model_id": "212c45f31b3a4460a6fece9dffa55799",
       "version_major": 2,
       "version_minor": 0
      },
      "text/plain": [
       "interactive(children=(IntSlider(value=5, description='n', max=10, min=1), Output()), _dom_classes=('widget-int…"
      ]
     },
     "metadata": {},
     "output_type": "display_data"
    }
   ],
   "source": [
    "from ipywidgets import interact\n",
    "@interact(n=(1, 10))\n",
    "def f(n):\n",
    "    X = np.linspace(0,5,10)\n",
    "    F = np.sin(X)\n",
    "    x_array = np.linspace(0,6)\n",
    "\n",
    "    f_n_array = np.array(list(map(lambda x:lagrange(n,x,X,F), x_array)))\n",
    "\n",
    "    plt.plot(x_array, f_n_array)\n",
    "\n",
    "    plt.plot(X,F,\"or\")\n",
    "    plt.ylim(-2,2)\n",
    "    plt.show()"
   ]
  },
  {
   "cell_type": "code",
   "execution_count": null,
   "metadata": {},
   "outputs": [],
   "source": []
  },
  {
   "cell_type": "markdown",
   "metadata": {},
   "source": [
    "## Regresión (o Ajuste de Curvas)\n",
    "El problema de ajustes de curvas es es el proseso inverso de interpolacion, donde en este caso tenemos un conjunto de puntos obtenidos de un (experimento, observacion o analisis) y deseamos construir una funcion analitica o algebraica que se aproxime a estos puntos. Este conjunto de puntos en el caso unidimensional, puede aprooximarse a una funcion de una variable por ejemplo, una linea recta una parabola, una funcion exponencial, logaritmica o incluso un polinomio. A continuación presentaremos un ejemplo  con datos de costos de casas segun su  metros cuadrados en un aregion espesifica del pais.\n",
    "\n",
    "|Casa # | $mts^2$ | costo $|  \n",
    "|-------|----|-----|\n",
    "|Casa 1 | 80 | 100,000.00|\n",
    "|Casa 2 | 99 | 220,000.00|\n",
    "|Casa 3 | 120 | 300,000.00|\n",
    "|Casa 4 | 200 | 500,000.00|\n",
    "|Casa 5 | 250 | 602,000.00|"
   ]
  },
  {
   "cell_type": "code",
   "execution_count": 8,
   "metadata": {},
   "outputs": [
    {
     "data": {
      "text/plain": [
       "array([[    80, 100000],\n",
       "       [    99, 220000],\n",
       "       [   120, 300000],\n",
       "       [   200, 500000],\n",
       "       [   250, 602000]])"
      ]
     },
     "execution_count": 8,
     "metadata": {},
     "output_type": "execute_result"
    }
   ],
   "source": [
    "a = np.array([[80,99,120,200,250],[100000,220000,300000,500000,602000]]).T\n",
    "a"
   ]
  },
  {
   "cell_type": "code",
   "execution_count": 9,
   "metadata": {},
   "outputs": [
    {
     "data": {
      "text/plain": [
       "[<matplotlib.lines.Line2D at 0x10eb00630>]"
      ]
     },
     "execution_count": 9,
     "metadata": {},
     "output_type": "execute_result"
    },
    {
     "data": {
      "image/png": "[encoded data removed]",
      "text/plain": [
       "<Figure size 432x288 with 1 Axes>"
      ]
     },
     "metadata": {},
     "output_type": "display_data"
    }
   ],
   "source": [
    "metros =  a[:,0]\n",
    "costos =  a[:,1]\n",
    "plt.plot(metros,costos,\"o\")"
   ]
  },
  {
   "cell_type": "markdown",
   "metadata": {},
   "source": [
    "El concepto de regresión es ajustar una curva que aproxime los puntos, para definir el problema debemos introducir la funcion de hipotesis en este caso una linea recta, sabemos que la linea recta tiene la funcion:\n",
    "$$ y = b + m x$$\n",
    "El cual b es el punto de cruza el eje $y$ cuando $x=0$ y m es la pendiente de la recta.\n",
    "Una  linea recta  como ejemplo seria "
   ]
  },
  {
   "cell_type": "code",
   "execution_count": 10,
   "metadata": {},
   "outputs": [
    {
     "data": {
      "application/vnd.jupyter.widget-view+json": {
       "model_id": "3b094d0bbee14875881c4e747fda8237",
       "version_major": 2,
       "version_minor": 0
      },
      "text/plain": [
       "interactive(children=(FloatSlider(value=0.0, description='b', max=5.0, min=-5.0), FloatSlider(value=0.0, descr…"
      ]
     },
     "metadata": {},
     "output_type": "display_data"
    }
   ],
   "source": [
    "@interact(b=(-5.0,5.0),m=(-3.0,3.0))\n",
    "def plot(b,m):\n",
    "    X = np.linspace(-10,10)\n",
    "    Y = b + m * X\n",
    "    plt.plot(X,Y)\n",
    "    plt.grid()\n",
    "    plt.ylim(-10,10)\n",
    "    plt.xlim(0,10)"
   ]
  },
  {
   "cell_type": "markdown",
   "metadata": {},
   "source": [
    "Si deasemos aproximar una linea recta al los puntos del ejemplo mencionado podemos utilizar dos parametros para manipular o intercatuar, estos \"parametro\" son valores arbritarios. Para fromalizar el problem de buscar la mejor curva tenemos que definir un criterio a obptimizar en este caso el error, Como los puntos se definen por una tupla o vector de valores y la curva como un continuo de infinitos puntos, necesitamos evaluar el error en cada punto, es decir, que tan lejos estamos del valor exacto.  Analiticamne este valor se define cmo la diferencia entre el valo exacto y el valor aprooximado para cada punto\n",
    "\n",
    "$$ e_i  = (y_{i} - y'_i)$$\n",
    "Donde $y'$ seria los valores aproximados\n",
    "$$ y' = b + m x$$\n",
    "\n"
   ]
  },
  {
   "cell_type": "code",
   "execution_count": 11,
   "metadata": {
    "scrolled": false
   },
   "outputs": [
    {
     "data": {
      "application/vnd.jupyter.widget-view+json": {
       "model_id": "78a8170851364bb5a54d9a9f2030057c",
       "version_major": 2,
       "version_minor": 0
      },
      "text/plain": [
       "interactive(children=(FloatSlider(value=5000.5, description='b', max=10000.0, min=1.0), FloatSlider(value=5000…"
      ]
     },
     "metadata": {},
     "output_type": "display_data"
    },
    {
     "data": {
      "image/png": "[encoded data removed]",
      "text/plain": [
       "<Figure size 432x288 with 1 Axes>"
      ]
     },
     "metadata": {},
     "output_type": "display_data"
    }
   ],
   "source": [
    "@interact(b=(1.0,1e4),m=(1.0,1e4))\n",
    "def plot(b,m):\n",
    "    X = np.linspace(metros[0],metros[-1],metros.size)\n",
    "    Y = b + m * X\n",
    "    plt.plot(metros,costos,\"o\",X,Y)\n",
    "    plt.ylim(0,7e5)\n",
    "    \n",
    "    # calculo de error\n",
    "    error\n",
    "    "
   ]
  },
  {
   "cell_type": "code",
   "execution_count": 12,
   "metadata": {},
   "outputs": [
    {
     "data": {
      "application/vnd.jupyter.widget-view+json": {
       "model_id": "bc70000385c54a748e9eea84c20a2783",
       "version_major": 2,
       "version_minor": 0
      },
      "text/plain": [
       "interactive(children=(FloatSlider(value=5000.5, description='b', max=10000.0, min=1.0), FloatSlider(value=5000…"
      ]
     },
     "metadata": {},
     "output_type": "display_data"
    }
   ],
   "source": [
    "@interact(b=(1.0,1e4),m=(1.0,1e4))\n",
    "def plot_error(b,m):\n",
    "    X = np.linspace(metros[0],metros[-1],metros.size)\n",
    "    Y = b + m * X\n",
    "    plt.figure()\n",
    "    plt.plot(metros,costos,\"o\",X,Y)\n",
    "    plt.ylim(0,7e5)\n",
    "    plt.show()\n",
    "    \n",
    "    # calculo de error\n",
    "    error = Y - costos\n",
    "    plt.figure()\n",
    "    plt.plot(metros,error)\n",
    "    plt.show()"
   ]
  },
  {
   "cell_type": "markdown",
   "metadata": {},
   "source": [
    "El error claramente depende de los valores escogidos de los parametros de la curva en este caso $b$ y $m$ por lo tanto podemos sumar el cuadrado del error ( por razone de cancelar numeros negativos y psitivos)"
   ]
  },
  {
   "cell_type": "code",
   "execution_count": 13,
   "metadata": {},
   "outputs": [
    {
     "data": {
      "image/png": "[encoded data removed]",
      "text/plain": [
       "<Figure size 432x288 with 1 Axes>"
      ]
     },
     "metadata": {},
     "output_type": "display_data"
    }
   ],
   "source": [
    "intentos = 10;\n",
    "pendientes = np.linspace(0,5000,intentos)\n",
    "errores = np.zeros(intentos)\n",
    "i = 0\n",
    "# calculo de error\n",
    "for pendiente in pendientes.tolist():\n",
    "    errores[i] = ((metros*pendiente - costos).sum(axis=0)**2)\n",
    "    i += 1\n",
    "    \n",
    "plt.plot(pendientes, errores,label=\"parametros de pendiente\")\n",
    "plt.legend(loc=\"best\")\n",
    "plt.xlabel(\"$m$ (pendiente)\")\n",
    "plt.ylabel(\"$\\sum_i error$\")\n",
    "plt.show()"
   ]
  },
  {
   "cell_type": "code",
   "execution_count": 14,
   "metadata": {},
   "outputs": [
    {
     "data": {
      "text/plain": [
       "'Errores:'"
      ]
     },
     "metadata": {},
     "output_type": "display_data"
    },
    {
     "data": {
      "text/plain": [
       "array([2.96528400e+12, 1.70534579e+12, 7.91704494e+11, 2.24360111e+11,\n",
       "       3.31264198e+09, 1.28562086e+11, 6.00108444e+11, 1.41795172e+12,\n",
       "       2.58209190e+12, 4.09252900e+12])"
      ]
     },
     "metadata": {},
     "output_type": "display_data"
    },
    {
     "data": {
      "text/plain": [
       "2222.222222222222"
      ]
     },
     "execution_count": 14,
     "metadata": {},
     "output_type": "execute_result"
    }
   ],
   "source": [
    "display(\"Errores:\",errores)\n",
    "mejor = pendientes[4]\n",
    "mejor"
   ]
  },
  {
   "cell_type": "code",
   "execution_count": 15,
   "metadata": {},
   "outputs": [
    {
     "data": {
      "image/png": "[encoded data removed]",
      "text/plain": [
       "<Figure size 432x288 with 1 Axes>"
      ]
     },
     "metadata": {},
     "output_type": "display_data"
    }
   ],
   "source": [
    "    X = np.linspace(metros[0],metros[-1],metros.size)\n",
    "    Y = 0 + (mejor) * X\n",
    "    plt.figure()\n",
    "    plt.plot(metros,costos,\"o\",X,Y)\n",
    "    plt.ylim(0,7e5)\n",
    "    plt.show()   \n"
   ]
  },
  {
   "cell_type": "markdown",
   "metadata": {},
   "source": [
    "### Métodos de minimos cuadrados\n",
    "Sin duda alguna un metodo que minimize el error cuadrado es la forma mas optima para ajustar una curva en este primer ejemplo el caso de la linea recta. definimos los \"parametros\" $[a_0,a_1]$ que se fdeniene como y $a_0=b$ y $a_1=m$.\n",
    "\n",
    "$$ y = a_0 + a_1 x$$\n",
    "\n",
    "El calculo del error como la diferencia entre el valor requerido y el valor aproximado:\n",
    "\n",
    "\n",
    "$$ \\sum_{i=1}^ne_i = \\sum_{i=1}^n (y_i - a_0 - a_1 x_i)$$\n",
    "\n",
    "Un opcion para evitar la cancelacion de errore por los signos es utilizar el valor absoluto, pero esta seleccion crea una discontinuidad de primer orden, y para propositos de optimizacion utilizando derivadas preferimos utilizar el cuadrado del error que crea por lomenos un error suave, o continuo de clase 1. El error total se puede calcular como $S$\n",
    "\n",
    "$$S = \\sum_{i=0}^n e^2_i = \\sum_{i=0}^n (y_{i, medido}-y_{i, modelo})^2 = \\sum_{i=1}^n (y_i - a_0 - a_1 x_i)^2 $$ \n",
    "\n",
    "\n",
    "El objetivo es buscar los valores de $a_i$ para $i=0,1$ que minimize el valor de $S$.\n",
    "#### Caso Lineal\n",
    "En el caso de la linea recta podemos utilizar el concepto de la primera derivada para buscar analiticamente el valor minimo de los valores de los parametros $a_0$ $a_1$.\n",
    "$$ \\frac{\\partial S}{\\partial a_0} = -2 \\sum(y_i -a_0 - a_1 x_i) $$\n",
    "$$ \\frac{\\partial S}{\\partial a_1} = -2 \\sum[(y_i -a_0 - a_1 x_i)x_i ]$$\n",
    "Podemos simplificar un poco, y aprovachar la propiedad lineal de la sumatoria:\n",
    "$$0= \\sum y_i - \\sum a_0 - \\sum a_1 x_i $$\n",
    "$$0= \\sum y_i x_i - \\sum a_0 x_i - \\sum a_1 x_i^2 $$\n",
    "\n",
    "\n",
    "Si $\\sum a_0 = na_0$ podemos escribir las dos ecuaciones como un sistema lineal de dos ecuaciones y dos incognitas:\n",
    "\n",
    "$$ n a_0 + (\\sum x_i) a_1 = \\sum y_i$$\n",
    "$$ ( \\sum x_i)a_0 + (\\sum x_i^2) a_1 = \\sum x_i y_i$$\n",
    "\n",
    "En notación matricial:\n",
    "$$ \\begin{bmatrix} n & \\sum x_i \\\\ \\sum x_i & \\sum x_i^2 \\end{bmatrix}\n",
    "\\begin{bmatrix} a_0\\\\ a_1 \\end{bmatrix} = \n",
    "\\begin{bmatrix} \\sum y_i\\\\ \\sum x_i y_i \\end{bmatrix} \n",
    "$$\n",
    "\n",
    "La solucion directa a este sistema lineal es:\n",
    "$$ a_1 = \\frac{n \\sum{x_i y_i} - \\sum{x_i}\\sum{y_i}}{n \\sum x_i^2 - (\\sum x_i)^2} $$\n",
    "\n",
    "$$ a_0 = \\bar y - a_1 \\bar x $$\n",
    "\n",
    "\n",
    "Donde $\\bar x$ y $\\bar y$ son el promedio de $x$ y $y$ respectivamente.\n"
   ]
  },
  {
   "cell_type": "markdown",
   "metadata": {},
   "source": [
    "## Practicas\n",
    "1)  definir las funciones para calculo directo de la regresion lineal a_0 y a_1\n",
    "\n",
    "2) resolver el problema de forma directa (organizar el trabajo en una tabla)\n"
   ]
  },
  {
   "cell_type": "markdown",
   "metadata": {},
   "source": [
    "## Regresion  de polinomios"
   ]
  },
  {
   "cell_type": "code",
   "execution_count": 16,
   "metadata": {},
   "outputs": [
    {
     "ename": "NameError",
     "evalue": "name 'ss' is not defined",
     "output_type": "error",
     "traceback": [
      "\u001b[0;31m---------------------------------------------------------------------------\u001b[0m",
      "\u001b[0;31mNameError\u001b[0m                                 Traceback (most recent call last)",
      "\u001b[0;32m<ipython-input-16-09dbdbc7f6cd>\u001b[0m in \u001b[0;36m<module>\u001b[0;34m()\u001b[0m\n\u001b[0;32m----> 1\u001b[0;31m \u001b[0mss\u001b[0m\u001b[0;34m\u001b[0m\u001b[0;34m\u001b[0m\u001b[0m\n\u001b[0m",
      "\u001b[0;31mNameError\u001b[0m: name 'ss' is not defined"
     ]
    }
   ],
   "source": [
    "ss"
   ]
  }
 ],
 "metadata": {
  "kernelspec": {
   "display_name": "Python 3",
   "language": "python",
   "name": "python3"
  },
  "language_info": {
   "codemirror_mode": {
    "name": "ipython",
    "version": 3
   },
   "file_extension": ".py",
   "mimetype": "text/x-python",
   "name": "python",
   "nbconvert_exporter": "python",
   "pygments_lexer": "ipython3",
   "version": "3.7.2"
  }
 },
 "nbformat": 4,
 "nbformat_minor": 2
}
