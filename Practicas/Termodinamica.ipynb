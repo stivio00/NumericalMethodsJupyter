{
 "cells": [
  {
   "cell_type": "markdown",
   "metadata": {},
   "source": [
    "# Aplicaciones en termodinamica\n",
    "# Propiedades de los Gases"
   ]
  },
  {
   "cell_type": "code",
   "execution_count": 1,
   "metadata": {},
   "outputs": [],
   "source": [
    "import numpy as np\n",
    "import matplotlib.pyplot as plt\n",
    "from ipywidgets import interact\n",
    "\n",
    "#tabla[\"nombre\"] = [masa molar, constante de gas R, Polinomi para C_p, formula]\n",
    "#pol: c_p_mol = a + bT + cT2 + dT3\n",
    "\n",
    "TablaGases = {\n",
    "    \"Agua\":          [18.015, [32.24, 0.1923e-2, 1.055e-5, -3.595e-9], \"H_2O\"], #vapor\n",
    "    \"Aire\":          [28.97,  [28.11, 0.1967e-2, 0.482e-5, -1.966e-9],  \"-\"],\n",
    "    \"Hidrogeno\":     [2.016,  [29.11, -0.1916e-2, 0.4003e-5, -0.8704e-9], \"H_2O\"],\n",
    "    \"Metano\":        [16.043, [19.89, 5.024e-2,  1.269e-5, -11.01e-9],  \"-\"],\n",
    "    \"Nitrogeno\":     [28.013, [28.90 ]],\n",
    "    \"Oxigeno\":       [31.999, [] ],\n",
    "    \"Tetrafluorometano\": [102.03]\n",
    "}\n",
    "MASA_MOLAR = 0\n",
    "C_p_mol = 1\n",
    "FORMULA = 2\n",
    "\n",
    "\n",
    "def cent(temp_K):\n",
    "    return  temp_K - 273.15\n",
    "\n",
    "def kelvin(temp_C):\n",
    "    return  temp_C + 273.15\n",
    "\n",
    "def R_gas(nombre):\n",
    "    R_universal = 8.31447 #kJ/kmol K\n",
    "    M_gas = TablaGases[nombre][MASA_MOLAR]\n",
    "    return R_universal/M_gas\n",
    "\n",
    "def Cp(nombre, T_k):\n",
    "    pol_coeff = TablaGases[nombre][C_p_mol]\n",
    "    Cp_mol = np.polyval(pol_coeff[::-1], T_k)\n",
    "    return Cp_mol / TablaGases[nombre][MASA_MOLAR]\n",
    "\n",
    "def Cv(nombre, T_k):\n",
    "    pol_coeff = TablaGases[nombre][C_p_mol]\n",
    "    pol_coeff[0] = pol_coeff[0] - R_gas(nombre) \n",
    "    Cv_mol = np.polyval(pol_coeff[::-1], T_k)\n",
    "    return Cv_mol / TablaGases[nombre][MASA_MOLAR]\n",
    "\n",
    "def h_(nombre,T_k):\n",
    "    pol_coeff = TablaGases[nombre][C_p_mol]\n",
    "    pol_int = np.polyint()"
   ]
  },
  {
   "cell_type": "code",
   "execution_count": 2,
   "metadata": {},
   "outputs": [
    {
     "data": {
      "text/plain": [
       "303.15"
      ]
     },
     "execution_count": 2,
     "metadata": {},
     "output_type": "execute_result"
    }
   ],
   "source": [
    "kelvin(30)"
   ]
  },
  {
   "cell_type": "code",
   "execution_count": 3,
   "metadata": {},
   "outputs": [
    {
     "data": {
      "text/plain": [
       "0.2870027614773904"
      ]
     },
     "execution_count": 3,
     "metadata": {},
     "output_type": "execute_result"
    }
   ],
   "source": [
    "R_gas(\"Aire\")"
   ]
  },
  {
   "cell_type": "code",
   "execution_count": 4,
   "metadata": {},
   "outputs": [
    {
     "data": {
      "text/plain": [
       "1.9644532334165974"
      ]
     },
     "execution_count": 4,
     "metadata": {},
     "output_type": "execute_result"
    }
   ],
   "source": [
    "Cp(\"Agua\", 500)"
   ]
  },
  {
   "cell_type": "code",
   "execution_count": 5,
   "metadata": {},
   "outputs": [
    {
     "data": {
      "application/vnd.jupyter.widget-view+json": {
       "model_id": "65c400d9e154473188bafc2d74a8be66",
       "version_major": 2,
       "version_minor": 0
      },
      "text/plain": [
       "interactive(children=(Dropdown(description='nombre', options=('Aire', 'Agua', 'Hidrogeno', 'Metano'), value='A…"
      ]
     },
     "metadata": {},
     "output_type": "display_data"
    }
   ],
   "source": [
    "@interact(nombre=[\"Aire\",\"Agua\",\"Hidrogeno\",\"Metano\"])\n",
    "def plot(nombre):\n",
    "    X = np.linspace(500,1300)\n",
    "    Cp_v = np.vectorize(lambda x:Cp(nombre, x))\n",
    "    \n",
    "    plt.figure()\n",
    "    plt.title(\"Energia interna de '%s'\"%(nombre))\n",
    "    plt.plot(X, Cp_v(X),label=nombre)\n",
    "    plt.legend(\"best\")\n",
    "    plt.xlabel(\"$T [K]$\")\n",
    "    plt.ylabel(\"$C_p[\\\\frac{kJ}{kg}]$\")\n",
    "    plt.show()"
   ]
  },
  {
   "cell_type": "code",
   "execution_count": 6,
   "metadata": {},
   "outputs": [
    {
     "data": {
      "text/plain": [
       "1.8901631626422426"
      ]
     },
     "execution_count": 6,
     "metadata": {},
     "output_type": "execute_result"
    }
   ],
   "source": [
    "Cp(\"Agua\",350)"
   ]
  },
  {
   "cell_type": "code",
   "execution_count": null,
   "metadata": {},
   "outputs": [],
   "source": []
  }
 ],
 "metadata": {
  "kernelspec": {
   "display_name": "Python 3",
   "language": "python",
   "name": "python3"
  },
  "language_info": {
   "codemirror_mode": {
    "name": "ipython",
    "version": 3
   },
   "file_extension": ".py",
   "mimetype": "text/x-python",
   "name": "python",
   "nbconvert_exporter": "python",
   "pygments_lexer": "ipython3",
   "version": "3.7.2"
  }
 },
 "nbformat": 4,
 "nbformat_minor": 2
}
