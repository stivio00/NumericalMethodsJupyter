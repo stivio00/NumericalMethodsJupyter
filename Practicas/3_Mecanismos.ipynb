{
 "cells": [
  {
   "cell_type": "markdown",
   "metadata": {},
   "source": [
    "Diferenciacion numerica y calculodel jacobiano numerico"
   ]
  },
  {
   "cell_type": "code",
   "execution_count": 1,
   "metadata": {},
   "outputs": [],
   "source": [
    "import numpy as np\n",
    "import matplotlib.pyplot as plt\n",
    "from ipywidgets import interact"
   ]
  },
  {
   "cell_type": "markdown",
   "metadata": {},
   "source": [
    "funciones de utileria"
   ]
  },
  {
   "cell_type": "code",
   "execution_count": 9,
   "metadata": {},
   "outputs": [],
   "source": [
    "## Solución de la ecuación de Lazo cerrado para un mecanismo de 4 barras\n",
    "\n",
    "def rad(grad):\n",
    "    return np.pi*grad/180.0\n",
    "\n",
    "def grad(r):\n",
    "    return r*180.0/np.pi\n",
    "\n",
    "def diff(f,x,i ,h=1e-6):\n",
    "    \"i=numero entero de 0,...,N-1(numero de columnas -1)\"\n",
    "    fx = f(x)\n",
    "    x[i] = x[i] +h\n",
    "    fxh = f(x)\n",
    "    return (fxh-fx)/h\n",
    "\n",
    "def jacn(f,x, h=1e-6):\n",
    "    N = len(x) #Columnas\n",
    "    M = len(f(x))\n",
    "    \n",
    "    J = np.zeros((N, M))\n",
    "    for i in range(N):\n",
    "        J[:,i] = diff(f,x,i,h)\n",
    "    \n",
    "    return J\n",
    "\n",
    "def nr_multi(f,xi,jac, tol=1e-6, iter_max=1000, params=[] ):\n",
    "    i = 0\n",
    "    while abs(f(xi, params).dot(f(xi, params))) >= tol:\n",
    "        if i > iter_max:\n",
    "            break\n",
    "            \n",
    "        i += 1 \n",
    "        xi = xi - np.linalg.solve(jac(xi),f(xi, params))\n",
    "        print(\"x(%i)=\"%i +str(xi))\n",
    "    return xi\n",
    "\n",
    "\n",
    "\n",
    "def plot_barras(L, theta):\n",
    "    O1_x = 0\n",
    "    O1_y = 0\n",
    "    \n",
    "    A_x = L[1]*np.cos(theta[1])\n",
    "    A_y = L[1]*np.sin(theta[1])\n",
    "    \n",
    "    B_x = A_x + L[2]*np.cos(theta[2])\n",
    "    B_y = A_y + L[2]*np.sin(theta[2])\n",
    "    \n",
    "    O3_x = L[0]*np.cos(theta[0])\n",
    "    O3_y = L[0]*np.sin(theta[0])\n",
    "    \n",
    "    B1_x = O3_x + L[3]*np.cos(theta[3])\n",
    "    B1_y = O3_y + L[3]*np.sin(theta[3])\n",
    "    \n",
    "    #plt.plot([x1,x2], [y1,y2], label=\"etiqueta\")\n",
    "    plt.title(\"Mecanismo de 4 barras\")\n",
    "    plt.grid()\n",
    "    \n",
    "    plt.plot([O1_x, A_x], [O1_y, A_y] , label=\"barra1\")\n",
    "    plt.plot([A_x , B_x ], [A_y, B_y ] , label=\"barra2\")\n",
    "    plt.plot([O3_x , B1_x ], [O3_y, B1_y ] , label=\"barra3\")\n",
    "    plt.plot([O1_x , O3_x ], [O1_y, O3_y ] , label=\"barra0\")\n",
    "    \n",
    "    plt.legend(loc=\"best\")\n",
    "    plt.xlim([-20,150])\n",
    "    plt.ylim([-100,100])\n",
    "    plt.show()\n",
    "\n",
    "\n"
   ]
  },
  {
   "cell_type": "markdown",
   "metadata": {},
   "source": [
    "## Solución de la ecuación de Lazo cerrado para un mecanismo de 4 barras\n",
    "$$f_1= L_1 \\cdot cos(\\theta_1) + L_2 \\cdot cos(\\theta_2) - L_0 \\cdot cos(\\theta_0) - L_3 \\cdot cos(\\theta_3) = 0 $$\n",
    "$$f_2= L_1 \\cdot sin(\\theta_1) + L_2 \\cdot sin(\\theta_2) - L_0 \\cdot sin(\\theta_0) - L_3 \\cdot sin(\\theta_3) = 0 $$"
   ]
  },
  {
   "cell_type": "markdown",
   "metadata": {},
   "source": [
    "$$\n",
    "Jac F = \n",
    " \\begin{bmatrix}\n",
    "  - L_2 sin(\\theta_2) & L_3 sin(\\theta_3) \\\\\n",
    "  L_2 cos(\\theta_2) & - L_3 cos(\\theta_3)\n",
    " \\end{bmatrix}\n",
    " $$"
   ]
  },
  {
   "cell_type": "markdown",
   "metadata": {},
   "source": [
    "Parametros del mecanismo:\n",
    "$$ L_0 = 100 mm (tierra) $$\n",
    "$$ L_1 = 40 mm (manivela)$$\n",
    "$$ L_2 = 120 mm (conectora) $$\n",
    "$$ L_3 = 80 mm (Salida) $$\n",
    "\n",
    "Para valores de manivela de $\\theta_1 = 40°$, que valores de $\\theta_2$ y $\\theta_3$ cierran el mecanismo?\n",
    "La solución es $\\theta_3 = 57.33°$ y $\\theta_2 = 20.30°$"
   ]
  },
  {
   "cell_type": "code",
   "execution_count": 3,
   "metadata": {},
   "outputs": [],
   "source": [
    "def mec_4barras_pos(x, params=[]):\n",
    "    \n",
    "    t1 = params[0]\n",
    "    \"x esta en radianes\"\n",
    "    L0 = 100 #mm\n",
    "    L1 = 40 #mm\n",
    "    L2 = 120 #mm\n",
    "    L3 = 80 #mm\n",
    "    \n",
    "    theta0 = rad(0) # barra de tierra\n",
    "    theta1 = t1# rad(40) # Angulo de entrada\n",
    "    \n",
    "    #Incognitas\n",
    "    theta2 = x[0] \n",
    "    theta3 = x[1]\n",
    "    \n",
    "    eq1 = L1*np.cos(theta1) + L2*np.cos(theta2) - L0*np.cos(theta0) - L3*np.cos(theta3)\n",
    "    eq2 = L1*np.sin(theta1) + L2*np.sin(theta2) - L0*np.sin(theta0) - L3*np.sin(theta3)\n",
    "    \n",
    "    return np.array([eq1,eq2])\n",
    "\n",
    "\n",
    "def barras_pos_(x):\n",
    "    L = np.array([100,40,120,80])\n",
    "    theta = np.array([rad(0),rad(40), x[0] ,x[1]]) \n",
    "    return np.array([\n",
    "        L[1]*np.cos(theta[1]) + L[2]*np.cos(theta[2]) - L[0]*np.cos(theta[0]) - L[3]*np.cos(theta[3]),\n",
    "        L[1]*np.sin(theta[1]) + L[2]*np.sin(theta[2]) - L[0]*np.sin(theta[0]) - L[3]*np.sin(theta[3])\n",
    "    ])"
   ]
  },
  {
   "cell_type": "code",
   "execution_count": 4,
   "metadata": {},
   "outputs": [
    {
     "data": {
      "text/plain": [
       "array([0.00447928, 0.00029972])"
      ]
     },
     "execution_count": 4,
     "metadata": {},
     "output_type": "execute_result"
    }
   ],
   "source": [
    "mec_4barras_pos([rad(20.30),rad(57.33)], params=[rad(40)])"
   ]
  },
  {
   "cell_type": "code",
   "execution_count": 5,
   "metadata": {},
   "outputs": [
    {
     "data": {
      "image/png": "[encoded data removed]",
      "text/plain": [
       "<Figure size 432x288 with 1 Axes>"
      ]
     },
     "metadata": {
      "needs_background": "light"
     },
     "output_type": "display_data"
    }
   ],
   "source": [
    "plot_barras([100, 40, 120, 80], [0, rad(40), rad(20.30), rad(57.33)])"
   ]
  },
  {
   "cell_type": "code",
   "execution_count": 6,
   "metadata": {},
   "outputs": [],
   "source": [
    "def jacobiano_numerico(x):\n",
    "    return jacn(mec_4barras_pos,x)\n",
    "\n",
    "def jacobiano_sim(x):\n",
    "    L2 = 120\n",
    "    L3 = 80\n",
    "\n",
    "    theta2 = x[0]\n",
    "    theta3 = x[1]\n",
    "    \n",
    "    return np.array( [\n",
    "        [-L2*np.sin(theta2)   , L3*np.sin(theta3)   ],\n",
    "        [ L2*np.cos(theta2)  , -L3*np.cos(theta3)   ]\n",
    "    ])\n"
   ]
  },
  {
   "cell_type": "code",
   "execution_count": 10,
   "metadata": {},
   "outputs": [
    {
     "data": {
      "application/vnd.jupyter.widget-view+json": {
       "model_id": "3c6319f4d44949d39f9bb8ddb85beafa",
       "version_major": 2,
       "version_minor": 0
      },
      "text/plain": [
       "interactive(children=(FloatSlider(value=180.0, description='t1', max=360.0, step=1.0), Output()), _dom_classes…"
      ]
     },
     "metadata": {},
     "output_type": "display_data"
    }
   ],
   "source": [
    "@interact(t1=(0.0,360.0,1.0))\n",
    "def p(t1):\n",
    "    #newton-rhapson? t2, t3\n",
    "    r = nr_multi(mec_4barras_pos,[20,10],jacobiano_sim, tol=1e-6, iter_max=100, params=[rad(t1)])\n",
    "    print(grad(r))\n",
    "    plot_barras([100, 40, 120, 80], [0, rad(t1), r[0], r[1]])\n",
    "    "
   ]
  },
  {
   "cell_type": "code",
   "execution_count": 8,
   "metadata": {},
   "outputs": [
    {
     "ename": "IndexError",
     "evalue": "list index out of range",
     "output_type": "error",
     "traceback": [
      "\u001b[0;31m---------------------------------------------------------------------------\u001b[0m",
      "\u001b[0;31mIndexError\u001b[0m                                Traceback (most recent call last)",
      "\u001b[0;32m<ipython-input-8-cc477dc8ac2c>\u001b[0m in \u001b[0;36m<module>\u001b[0;34m\u001b[0m\n\u001b[0;32m----> 1\u001b[0;31m \u001b[0mjacobiano_numerico\u001b[0m\u001b[0;34m(\u001b[0m\u001b[0;34m[\u001b[0m\u001b[0;36m1\u001b[0m\u001b[0;34m,\u001b[0m\u001b[0;36m1\u001b[0m\u001b[0;34m]\u001b[0m\u001b[0;34m)\u001b[0m\u001b[0;34m\u001b[0m\u001b[0;34m\u001b[0m\u001b[0m\n\u001b[0m",
      "\u001b[0;32m<ipython-input-6-c658e80c8390>\u001b[0m in \u001b[0;36mjacobiano_numerico\u001b[0;34m(x)\u001b[0m\n\u001b[1;32m      1\u001b[0m \u001b[0;32mdef\u001b[0m \u001b[0mjacobiano_numerico\u001b[0m\u001b[0;34m(\u001b[0m\u001b[0mx\u001b[0m\u001b[0;34m)\u001b[0m\u001b[0;34m:\u001b[0m\u001b[0;34m\u001b[0m\u001b[0;34m\u001b[0m\u001b[0m\n\u001b[0;32m----> 2\u001b[0;31m     \u001b[0;32mreturn\u001b[0m \u001b[0mjacn\u001b[0m\u001b[0;34m(\u001b[0m\u001b[0mmec_4barras_pos\u001b[0m\u001b[0;34m,\u001b[0m\u001b[0mx\u001b[0m\u001b[0;34m)\u001b[0m\u001b[0;34m\u001b[0m\u001b[0;34m\u001b[0m\u001b[0m\n\u001b[0m\u001b[1;32m      3\u001b[0m \u001b[0;34m\u001b[0m\u001b[0m\n\u001b[1;32m      4\u001b[0m \u001b[0;32mdef\u001b[0m \u001b[0mjacobiano_sim\u001b[0m\u001b[0;34m(\u001b[0m\u001b[0mx\u001b[0m\u001b[0;34m)\u001b[0m\u001b[0;34m:\u001b[0m\u001b[0;34m\u001b[0m\u001b[0;34m\u001b[0m\u001b[0m\n\u001b[1;32m      5\u001b[0m     \u001b[0mL2\u001b[0m \u001b[0;34m=\u001b[0m \u001b[0;36m120\u001b[0m\u001b[0;34m\u001b[0m\u001b[0;34m\u001b[0m\u001b[0m\n",
      "\u001b[0;32m<ipython-input-2-e1551043f171>\u001b[0m in \u001b[0;36mjacn\u001b[0;34m(f, x, h)\u001b[0m\n\u001b[1;32m     16\u001b[0m \u001b[0;32mdef\u001b[0m \u001b[0mjacn\u001b[0m\u001b[0;34m(\u001b[0m\u001b[0mf\u001b[0m\u001b[0;34m,\u001b[0m\u001b[0mx\u001b[0m\u001b[0;34m,\u001b[0m \u001b[0mh\u001b[0m\u001b[0;34m=\u001b[0m\u001b[0;36m1e-6\u001b[0m\u001b[0;34m)\u001b[0m\u001b[0;34m:\u001b[0m\u001b[0;34m\u001b[0m\u001b[0;34m\u001b[0m\u001b[0m\n\u001b[1;32m     17\u001b[0m     \u001b[0mN\u001b[0m \u001b[0;34m=\u001b[0m \u001b[0mlen\u001b[0m\u001b[0;34m(\u001b[0m\u001b[0mx\u001b[0m\u001b[0;34m)\u001b[0m \u001b[0;31m#Columnas\u001b[0m\u001b[0;34m\u001b[0m\u001b[0;34m\u001b[0m\u001b[0m\n\u001b[0;32m---> 18\u001b[0;31m     \u001b[0mM\u001b[0m \u001b[0;34m=\u001b[0m \u001b[0mlen\u001b[0m\u001b[0;34m(\u001b[0m\u001b[0mf\u001b[0m\u001b[0;34m(\u001b[0m\u001b[0mx\u001b[0m\u001b[0;34m)\u001b[0m\u001b[0;34m)\u001b[0m\u001b[0;34m\u001b[0m\u001b[0;34m\u001b[0m\u001b[0m\n\u001b[0m\u001b[1;32m     19\u001b[0m \u001b[0;34m\u001b[0m\u001b[0m\n\u001b[1;32m     20\u001b[0m     \u001b[0mJ\u001b[0m \u001b[0;34m=\u001b[0m \u001b[0mnp\u001b[0m\u001b[0;34m.\u001b[0m\u001b[0mzeros\u001b[0m\u001b[0;34m(\u001b[0m\u001b[0;34m(\u001b[0m\u001b[0mN\u001b[0m\u001b[0;34m,\u001b[0m \u001b[0mM\u001b[0m\u001b[0;34m)\u001b[0m\u001b[0;34m)\u001b[0m\u001b[0;34m\u001b[0m\u001b[0;34m\u001b[0m\u001b[0m\n",
      "\u001b[0;32m<ipython-input-3-15ba2ed6b94e>\u001b[0m in \u001b[0;36mmec_4barras_pos\u001b[0;34m(x, params)\u001b[0m\n\u001b[1;32m      1\u001b[0m \u001b[0;32mdef\u001b[0m \u001b[0mmec_4barras_pos\u001b[0m\u001b[0;34m(\u001b[0m\u001b[0mx\u001b[0m\u001b[0;34m,\u001b[0m \u001b[0mparams\u001b[0m\u001b[0;34m=\u001b[0m\u001b[0;34m[\u001b[0m\u001b[0;34m]\u001b[0m\u001b[0;34m)\u001b[0m\u001b[0;34m:\u001b[0m\u001b[0;34m\u001b[0m\u001b[0;34m\u001b[0m\u001b[0m\n\u001b[1;32m      2\u001b[0m \u001b[0;34m\u001b[0m\u001b[0m\n\u001b[0;32m----> 3\u001b[0;31m     \u001b[0mt1\u001b[0m \u001b[0;34m=\u001b[0m \u001b[0mparams\u001b[0m\u001b[0;34m[\u001b[0m\u001b[0;36m0\u001b[0m\u001b[0;34m]\u001b[0m\u001b[0;34m\u001b[0m\u001b[0;34m\u001b[0m\u001b[0m\n\u001b[0m\u001b[1;32m      4\u001b[0m     \u001b[0;34m\"x esta en radianes\"\u001b[0m\u001b[0;34m\u001b[0m\u001b[0;34m\u001b[0m\u001b[0m\n\u001b[1;32m      5\u001b[0m     \u001b[0mL0\u001b[0m \u001b[0;34m=\u001b[0m \u001b[0;36m100\u001b[0m \u001b[0;31m#mm\u001b[0m\u001b[0;34m\u001b[0m\u001b[0;34m\u001b[0m\u001b[0m\n",
      "\u001b[0;31mIndexError\u001b[0m: list index out of range"
     ]
    }
   ],
   "source": [
    "jacobiano_numerico([1,1])"
   ]
  },
  {
   "cell_type": "code",
   "execution_count": null,
   "metadata": {},
   "outputs": [],
   "source": [
    "jacobiano_sim([1,1])"
   ]
  },
  {
   "cell_type": "code",
   "execution_count": null,
   "metadata": {},
   "outputs": [],
   "source": []
  }
 ],
 "metadata": {
  "kernelspec": {
   "display_name": "Python 3",
   "language": "python",
   "name": "python3"
  },
  "language_info": {
   "codemirror_mode": {
    "name": "ipython",
    "version": 3
   },
   "file_extension": ".py",
   "mimetype": "text/x-python",
   "name": "python",
   "nbconvert_exporter": "python",
   "pygments_lexer": "ipython3",
   "version": "3.7.2"
  }
 },
 "nbformat": 4,
 "nbformat_minor": 2
}
