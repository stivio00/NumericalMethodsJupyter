{
 "cells": [
  {
   "cell_type": "code",
   "execution_count": 1,
   "metadata": {},
   "outputs": [],
   "source": [
    "#preset\n",
    "import numpy as np\n",
    "import matplotlib.pyplot as plt"
   ]
  },
  {
   "cell_type": "markdown",
   "metadata": {},
   "source": [
    "## Practicas\n",
    "\n",
    "Basico\n",
    "1. Escribir una funcion que resuelva la ecuacion cuadratica de forma directa utilizando la formula.\n",
    "2. escribir una funcion que resuelva el total de dos resistencias en Paralello\n",
    "3. Extender el problema 2, para que admita una lista de resitencias y calcule la resitencia toal.\n",
    "4. Escribir una funcion que admita la nota de un estudiante y muestre \"A\" \"b\" ... dependiento la nota de 100 a 0 acorde a la evaluacion del curso\n",
    "5. escriba una funcion que calcule el BMI y muestre su estado actual ( normal, debajo del peso norma, o obesidad)\n",
    "6. escribir funciones que tome una lista de dos elementos( componentes rectangulaes de un numero complejo) y convertir a las componentes polares.\n",
    "7. Escribir la funcion inversa de la practica 6\n",
    "\n",
    "Medio\n",
    "5. investigar el uso de ipwidgets interact, y graphique la funcion senoida con decadencia exponencial, y cree manipuladores para paremetros de frecuencia y constante de tiempo\n",
    "6. Escribir un documento en jupyter para la salucion cuadrtica utilizando LaTex\n",
    "7. Graphicar la funcion logaritmica\n",
    "\n",
    "Avanzado *\n",
    "9. Escribir manualemente una funcion que calcule el determinante de una matriz 3x3\n",
    "10. Escriba una funcion que calcule la inversa de una matriz 3x3\n",
    "11. Escribir sobre la definicion de numero de punto flotante y la definicion de mantissa(significante) y el exponente\n",
    "12. El prodcedimiento para convertir numeros enteros de entero a binario y vicevera. convertir el numero 7399 a binario. Invetigar el procedimiento en Python y comprobar.\n",
    "13. Mostrar el campo vectorial del campo electrico generado por una carga(+) utilizando matplotlib\n",
    "14. Mostrar el campo electrico generado por dos cargas(+ y -) utilizando matplotlib\n",
    "\n",
    "Proyecto:\n",
    "* Crear libreria para analisis de viga simplemente apolladas donde se define la longitud de la viga(L) de \"A\" en X=0 a \"B\" en x=L en coordenadas en x.\n",
    "* Poder colocar cargas puntuales como un arreglo o lista de tuplas (F_z(x), x) (fuerza posiscion)\n",
    "* Poder mostrar las cargas utilizando matplotlib( graphica)\n",
    "* Mostrar las reacciones R resultantes\n",
    "* Mostrar el grafico de cortantes\n",
    "* Mostrar el grafico de momento flector\n",
    "* Presentar ejemplo de cargas aleatorimente distribuida, mostarr los puntos anteriores en un reporte de  Jupyter\n"
   ]
  },
  {
   "cell_type": "code",
   "execution_count": 2,
   "metadata": {},
   "outputs": [],
   "source": [
    "# 1\n",
    "def cuadratica(a,b,c):\n",
    "    r1 = (-b+(b**2-4*a*c)**.5)/(2*a)\n",
    "    r2 = (-b-(b**2-4*a*b)**.5)/(2*a)\n",
    "    return [r1,r2]"
   ]
  },
  {
   "cell_type": "code",
   "execution_count": 3,
   "metadata": {},
   "outputs": [
    {
     "data": {
      "text/plain": [
       "[(-0.9999999999999999+1.4142135623730951j), (-1-1j)]"
      ]
     },
     "execution_count": 3,
     "metadata": {},
     "output_type": "execute_result"
    }
   ],
   "source": [
    "#test 1.1\n",
    "cuadratica( 1,2,3)"
   ]
  },
  {
   "cell_type": "code",
   "execution_count": 4,
   "metadata": {},
   "outputs": [
    {
     "data": {
      "text/plain": [
       "[2.0, 0.0]"
      ]
     },
     "execution_count": 4,
     "metadata": {},
     "output_type": "execute_result"
    }
   ],
   "source": [
    "# test 1.2\n",
    "cuadratica(1,0,-4)"
   ]
  },
  {
   "cell_type": "code",
   "execution_count": 5,
   "metadata": {},
   "outputs": [],
   "source": [
    "# 2\n",
    "def par(r1,r2):\n",
    "    return (r1*r2)/(r1+r2)"
   ]
  },
  {
   "cell_type": "code",
   "execution_count": 6,
   "metadata": {},
   "outputs": [
    {
     "data": {
      "text/plain": [
       "0.5"
      ]
     },
     "execution_count": 6,
     "metadata": {},
     "output_type": "execute_result"
    }
   ],
   "source": [
    "#test 2.1\n",
    "par(1,1)"
   ]
  },
  {
   "cell_type": "code",
   "execution_count": 7,
   "metadata": {},
   "outputs": [
    {
     "data": {
      "text/plain": [
       "157.53424657534248"
      ]
     },
     "execution_count": 7,
     "metadata": {},
     "output_type": "execute_result"
    }
   ],
   "source": [
    "#test 2.2\n",
    "par(230,500)"
   ]
  },
  {
   "cell_type": "code",
   "execution_count": 8,
   "metadata": {},
   "outputs": [],
   "source": [
    "# 3\n",
    "def Par(r_i):\n",
    "    s = sum(r_i)\n",
    "    r_t = 1\n",
    "    for r in r_i:\n",
    "        r_t = r_t * r\n",
    "    \n",
    "    return r_t / s"
   ]
  },
  {
   "cell_type": "code",
   "execution_count": 9,
   "metadata": {},
   "outputs": [
    {
     "data": {
      "text/plain": [
       "0.5"
      ]
     },
     "execution_count": 9,
     "metadata": {},
     "output_type": "execute_result"
    }
   ],
   "source": [
    "#test 3.1\n",
    "Par([1,1])"
   ]
  },
  {
   "cell_type": "code",
   "execution_count": 10,
   "metadata": {},
   "outputs": [
    {
     "data": {
      "text/plain": [
       "9.433962264150944"
      ]
     },
     "execution_count": 10,
     "metadata": {},
     "output_type": "execute_result"
    }
   ],
   "source": [
    "#test 3.2\n",
    "Par([1,1,10,200])"
   ]
  },
  {
   "cell_type": "code",
   "execution_count": 11,
   "metadata": {},
   "outputs": [],
   "source": [
    "# 4\n",
    "def nota(n):\n",
    "    if(n >= 91 and n <= 100):\n",
    "        return \"A\"\n",
    "    elif(n >= 81 and n < 91):\n",
    "        return \"B\"\n",
    "    elif(n >= 71 and n < 81):\n",
    "        return \"C\"\n",
    "    elif(n >= 61 and n < 71):\n",
    "        return \"D\"\n",
    "    elif(n >= 0 and n < 61):\n",
    "        return \"F\"\n",
    "    else: \n",
    "        return \"Error de rango\""
   ]
  },
  {
   "cell_type": "code",
   "execution_count": 12,
   "metadata": {},
   "outputs": [
    {
     "data": {
      "text/plain": [
       "'A'"
      ]
     },
     "execution_count": 12,
     "metadata": {},
     "output_type": "execute_result"
    }
   ],
   "source": [
    "#test 4.1\n",
    "nota(100)"
   ]
  },
  {
   "cell_type": "code",
   "execution_count": 13,
   "metadata": {},
   "outputs": [
    {
     "data": {
      "text/plain": [
       "'F'"
      ]
     },
     "execution_count": 13,
     "metadata": {},
     "output_type": "execute_result"
    }
   ],
   "source": [
    "#test 4.2\n",
    "nota(44)"
   ]
  },
  {
   "cell_type": "code",
   "execution_count": 14,
   "metadata": {},
   "outputs": [
    {
     "data": {
      "text/plain": [
       "'Error de rango'"
      ]
     },
     "execution_count": 14,
     "metadata": {},
     "output_type": "execute_result"
    }
   ],
   "source": [
    "#test 4.3\n",
    "nota(120)"
   ]
  },
  {
   "cell_type": "code",
   "execution_count": 15,
   "metadata": {},
   "outputs": [],
   "source": [
    "# 5\n",
    "def BMI_metrico(masa,altura):\n",
    "    bmi = masa/(altura**2)\n",
    "    print(\"bmi = \",bmi)\n",
    "    if(bmi >= 30):\n",
    "        return \"obesidad\"\n",
    "    elif bmi>= 25 and bmi < 30:\n",
    "        return \"sobrepeso\"\n",
    "    elif bmi>= 18.5 and bmi < 25:\n",
    "        return \"Peso bmiormal\"\n",
    "    elif bmi>= 16 and bmi < 18.5:\n",
    "        return \"peso bajo\"\n",
    "    elif bmi< 16:\n",
    "        return \"peso severamente bajo\"\n",
    "    else: \n",
    "        return \"Error de rango\"\n"
   ]
  },
  {
   "cell_type": "code",
   "execution_count": 16,
   "metadata": {},
   "outputs": [
    {
     "name": "stdout",
     "output_type": "stream",
     "text": [
      "bmi =  25.393431120318084\n"
     ]
    },
    {
     "data": {
      "text/plain": [
       "'sobrepeso'"
      ]
     },
     "execution_count": 16,
     "metadata": {},
     "output_type": "execute_result"
    }
   ],
   "source": [
    "#test 5.1\n",
    "BMI_metrico(76, 1.73)"
   ]
  },
  {
   "cell_type": "code",
   "execution_count": 17,
   "metadata": {},
   "outputs": [],
   "source": [
    "# 6\n",
    "import math\n",
    "\n",
    "def pol(z):\n",
    "    a = z[0]\n",
    "    b = z[1]\n",
    "    \n",
    "    phi = math.atan2(b,a)\n",
    "    R = math.sqrt(a**2+b**2)\n",
    "    return [R,phi]\n",
    "\n",
    "def rec(z):\n",
    "    R = z[0]\n",
    "    phi = z[1]\n",
    "    \n",
    "    a = R*math.cos(phi)\n",
    "    b = R*math.sin(phi)\n",
    "    return [a, b]"
   ]
  },
  {
   "cell_type": "code",
   "execution_count": 18,
   "metadata": {},
   "outputs": [
    {
     "data": {
      "text/plain": [
       "[1.4142135623730951, 0.7853981633974483]"
      ]
     },
     "execution_count": 18,
     "metadata": {},
     "output_type": "execute_result"
    }
   ],
   "source": [
    "ejemplo = pol([1,1])\n",
    "ejemplo"
   ]
  },
  {
   "cell_type": "code",
   "execution_count": 19,
   "metadata": {},
   "outputs": [
    {
     "data": {
      "text/plain": [
       "[1.0000000000000002, 1.0]"
      ]
     },
     "execution_count": 19,
     "metadata": {},
     "output_type": "execute_result"
    }
   ],
   "source": [
    "rec(ejemplo)"
   ]
  },
  {
   "cell_type": "code",
   "execution_count": 20,
   "metadata": {},
   "outputs": [
    {
     "data": {
      "application/vnd.jupyter.widget-view+json": {
       "model_id": "1df6c8bf93d84154bd09a4c601681f18",
       "version_major": 2,
       "version_minor": 0
      },
      "text/plain": [
       "interactive(children=(FloatSlider(value=1.0, description='w', max=3.0, min=-1.0), FloatSlider(value=1.0, descr…"
      ]
     },
     "metadata": {},
     "output_type": "display_data"
    }
   ],
   "source": [
    "#Intermedio\n",
    "\n",
    "import numpy as np\n",
    "import matplotlib.pyplot as plt\n",
    "from ipywidgets import interact\n",
    "\n",
    "@interact(w=1.0, c=1.0, a=1.0)\n",
    "def f(w,c,a):\n",
    "    x = np.linspace(0,10)\n",
    "    y = np.sin(x*w) * np.exp(x*c) * a\n",
    "    plt.plot(x,y)\n",
    "    "
   ]
  },
  {
   "cell_type": "markdown",
   "metadata": {},
   "source": [
    "# Solución de la ecuacion cuadratica\n",
    "dada la ecuacion :\n",
    "$$ a x^2 + b x + x = 0 $$\n",
    "la solucion es \n",
    "$$ x_{1,2} = \\frac{-b \\pm \\sqrt{b^2 -4 a c}}{2 a} $$\n",
    "\n",
    "Para el caso positivo:\n",
    "$$ x_{1} = \\frac{-b + \\sqrt{b^2 -4 a c}}{2 a} $$\n",
    "\n",
    "Para el caso negativo:\n",
    "$$ x_{2} = \\frac{-b - \\sqrt{b^2 -4 a c}}{2 a} $$"
   ]
  },
  {
   "cell_type": "code",
   "execution_count": 21,
   "metadata": {},
   "outputs": [],
   "source": [
    "#Avanzado\n",
    "\n",
    "def det33(M):\n",
    "    a = M[0,0]*(M[1,1]*M[2,2] - M[1,2]*M[2,1])\n",
    "    b = M[0,1]*(M[1,0]*M[2,2] - M[1,2]*M[2,0])\n",
    "    c = M[0,2]*(M[1,0]*M[2,1] - M[1,1]*M[2,0])\n",
    "    \n",
    "    return a - b + c"
   ]
  },
  {
   "cell_type": "code",
   "execution_count": 22,
   "metadata": {},
   "outputs": [
    {
     "data": {
      "text/plain": [
       "-18"
      ]
     },
     "execution_count": 22,
     "metadata": {},
     "output_type": "execute_result"
    }
   ],
   "source": [
    "det33(np.array([[7,2,3],[4,5,6],[7,8,9]]))"
   ]
  },
  {
   "cell_type": "code",
   "execution_count": 23,
   "metadata": {},
   "outputs": [],
   "source": [
    "# Proyecto\n",
    "\n",
    "L = 10 # metros\n",
    "F = [(10,1), (10,2), (-20,5), (10,8), (10,9)] #(F,x)\n",
    "\n",
    "\n",
    "def S_f(f):\n",
    "    \"sumatoria de todas las fuerzas, excepto las reacciones\"\n",
    "    out = 0\n",
    "    for tupla in f:\n",
    "        out += tupla[0]\n",
    "    return out \n",
    "\n",
    "def S_m_0(f):\n",
    "    \"sumatoria de todos los momentos exceto generado por la reaccion Rb\"\n",
    "    out = 0\n",
    "    for tupla in f:\n",
    "        out += -tupla[0]*tupla[1]\n",
    "    return out \n",
    "\n",
    "def reactions(l,f):\n",
    "    R_B =  S_m_0(f) / l # Sumatoria de momentos, despejando R_B\n",
    "    R_A =  - R_B - S_f(f) #Sumatoria de fuerzas \n",
    "    return [R_A, R_B]"
   ]
  },
  {
   "cell_type": "code",
   "execution_count": 24,
   "metadata": {},
   "outputs": [
    {
     "data": {
      "text/plain": [
       "-100"
      ]
     },
     "execution_count": 24,
     "metadata": {},
     "output_type": "execute_result"
    }
   ],
   "source": [
    "S_m_0(F)"
   ]
  },
  {
   "cell_type": "code",
   "execution_count": 25,
   "metadata": {},
   "outputs": [
    {
     "data": {
      "text/plain": [
       "[-10.0, -10.0]"
      ]
     },
     "execution_count": 25,
     "metadata": {},
     "output_type": "execute_result"
    }
   ],
   "source": [
    "reactions(L,F)"
   ]
  },
  {
   "cell_type": "code",
   "execution_count": 26,
   "metadata": {},
   "outputs": [],
   "source": [
    "def plot_beam(R,F,L):\n",
    "    \"graficar cargas y reacciones de viga\"\n",
    "    \n",
    "    plt.plot([0,L],[0,0], \"-o\", label=\"Viga A-B\") # Linea de la viga\n",
    "    plt.plot([0,0],[R[0],0],\"-v\", label=\"$R_A$\")\n",
    "    plt.plot([L,L],[R[1],0],\"-v\", label=\"$R_B$\")\n",
    "    \n",
    "    for f_i in F:\n",
    "        ff = f_i[0]\n",
    "        x = f_i[1]\n",
    "        plt.plot([x,x],[ff,0],\"-v\") # cada fuerza\n",
    "    \n",
    "    #plt.legend(loc=\"upper right\")"
   ]
  },
  {
   "cell_type": "code",
   "execution_count": 27,
   "metadata": {},
   "outputs": [
    {
     "data": {
      "image/png": "[encoded data removed]",
      "text/plain": [
       "<Figure size 432x288 with 1 Axes>"
      ]
     },
     "metadata": {},
     "output_type": "display_data"
    }
   ],
   "source": [
    "plot_beam(reactions(L,F),F,10)"
   ]
  },
  {
   "cell_type": "code",
   "execution_count": 28,
   "metadata": {},
   "outputs": [],
   "source": [
    "def shear(f,l,R):\n",
    "    resol = 100\n",
    "    X = np.linspace(0,L,resol);\n",
    "    V = np.zeros(resol);\n",
    "    i = 0\n",
    "    V[-1] = R[0]\n",
    "\n",
    "    for x in X: \n",
    "        V[i] = V[i-1] +  f(x); #integracion\n",
    "        i = i+1\n",
    "    \n",
    "    V[-1] = V[-1] + R[1]\n",
    "    return V\n",
    "\n",
    "def moment(V,l):\n",
    "    X = np.linspace(0,l,len(V));\n",
    "    M = np.zeros(len(V));\n",
    "    i = 0\n",
    "    for x in X: \n",
    "        M[i] = M[i-1] +  V[i]; #integracion\n",
    "        i = i+1\n",
    "\n",
    "    return M\n",
    "\n",
    "def angle(M,l):\n",
    "    X = np.linspace(0,l,len(M));\n",
    "    S = np.zeros(len(M));\n",
    "    i = 0\n",
    "    for x in X: \n",
    "        S[i] = S[i-1] +  M[i]; #integracion\n",
    "        i = i+1\n",
    "    return S\n",
    "\n",
    "def shape(A,l):\n",
    "    X = np.linspace(0,l,len(A));\n",
    "    S = np.zeros(len(A));\n",
    "    i = 0\n",
    "    for x in X: \n",
    "        S[i] = S[i-1] +  A[i]; #integracion\n",
    "        i = i+1\n",
    "    return S\n",
    "    \n",
    "def eval_forces(x,F):\n",
    "    #print(\"x=%f, first x=%f;  first Force=%f\"%(x,F[0][1],F[0][0]))\n",
    "    if len(F) >= 1:\n",
    "        if x >= F[0][1]:\n",
    "            #print(\" ** x=%f  F(%f)=%f\"%(x,F[0][1],F[0][0]))\n",
    "            r = F[0][0]\n",
    "            del F[0]\n",
    "            return r\n",
    "    return 0\n",
    "            \n",
    "\n",
    "\n",
    "def plot_shear_beam(R,F,L):\n",
    "    \"graficar cargas y reacciones de viga\"\n",
    "    V = shear(lambda x: eval_forces(x,F),L,R)\n",
    "    X = np.linspace(0,L,len(V));\n",
    "    plt.xlabel(\"x\")\n",
    "    plt.ylabel(\"shear\")\n",
    "    plt.plot([0,L],[0,0], \"-o\", label=\"Viga A-B\")\n",
    "    plt.plot(X,V)\n",
    "    plt.show()\n",
    "    #plt.legend(loc=\"upper right\")\n",
    "    \n",
    "def plot_moment_beam(R,F,L):\n",
    "    \"graficar cargas y reacciones de viga\"\n",
    "    V = shear(lambda x: eval_forces(x,F),L,R)\n",
    "    X = np.linspace(0,L,len(V));\n",
    "    M = moment(V,L)\n",
    "    plt.plot([0,L],[0,0], \"-o\", label=\"Viga A-B\")\n",
    "    plt.xlabel(\"x\")\n",
    "    plt.ylabel(\"Moment\")\n",
    "    plt.plot(X,M)\n",
    "    plt.show()\n",
    "    #plt.legend(loc=\"upper right\")\n",
    "    \n",
    "def plot_angle_beam(R,F,L):\n",
    "    \"graficar cargas y reacciones de viga\"\n",
    "    V = shear(lambda x: eval_forces(x,F),L,R)\n",
    "    X = np.linspace(0,L,len(V));\n",
    "    M = moment(V,L)\n",
    "    A = angle(M,L)\n",
    "    \n",
    "    plt.plot([0,L],[0,0], \"-o\", label=\"Viga A-B\")\n",
    "    plt.plot(X,A)\n",
    "    plt.xlabel(\"x\")\n",
    "    plt.ylabel(\"angle\")\n",
    "    plt.show()\n",
    "    #plt.legend(loc=\"upper right\")\n",
    "\n",
    "def plot_shape_beam(R,F,L):\n",
    "    \"graficar cargas y reacciones de viga\"\n",
    "    V = shear(lambda x: eval_forces(x,F),L,R)\n",
    "    X = np.linspace(0,L,len(V));\n",
    "    M = moment(V,L)\n",
    "    A = angle(M,L)\n",
    "    S = shape(A,L)\n",
    "    \n",
    "    plt.plot([0,L],[0,0], \"-o\", label=\"Viga A-B\")\n",
    "    plt.plot(X,S)\n",
    "    plt.xlabel(\"x\")\n",
    "    plt.ylabel(\"Deflection\")\n",
    "    plt.show()\n",
    "    #plt.legend(loc=\"upper right\")\n",
    "\n"
   ]
  },
  {
   "cell_type": "code",
   "execution_count": 30,
   "metadata": {},
   "outputs": [
    {
     "name": "stdout",
     "output_type": "stream",
     "text": [
      "Recations result: Ra = -10.000000 \t Rb = -10.000000\n"
     ]
    },
    {
     "data": {
      "text/plain": [
       "'Shear'"
      ]
     },
     "metadata": {},
     "output_type": "display_data"
    },
    {
     "data": {
      "image/png": "[encoded data removed]",
      "text/plain": [
       "<Figure size 432x288 with 1 Axes>"
      ]
     },
     "metadata": {},
     "output_type": "display_data"
    },
    {
     "data": {
      "image/png": "[encoded data removed]",
      "text/plain": [
       "<Figure size 432x288 with 1 Axes>"
      ]
     },
     "metadata": {},
     "output_type": "display_data"
    },
    {
     "data": {
      "text/plain": [
       "'Beanding moment'"
      ]
     },
     "metadata": {},
     "output_type": "display_data"
    },
    {
     "data": {
      "image/png": "[encoded data removed]",
      "text/plain": [
       "<Figure size 432x288 with 1 Axes>"
      ]
     },
     "metadata": {},
     "output_type": "display_data"
    },
    {
     "data": {
      "text/plain": [
       "'Angle of defelction'"
      ]
     },
     "metadata": {},
     "output_type": "display_data"
    },
    {
     "data": {
      "image/png": "[encoded data removed]",
      "text/plain": [
       "<Figure size 432x288 with 1 Axes>"
      ]
     },
     "metadata": {},
     "output_type": "display_data"
    },
    {
     "data": {
      "text/plain": [
       "'deflection'"
      ]
     },
     "metadata": {},
     "output_type": "display_data"
    },
    {
     "data": {
      "image/png": "[encoded data removed]",
      "text/plain": [
       "<Figure size 432x288 with 1 Axes>"
      ]
     },
     "metadata": {},
     "output_type": "display_data"
    }
   ],
   "source": [
    "L = 10 # metros\n",
    "F = [(10,1), (10,2), (-20,5), (10,8), (10,9)] #(F,x)\n",
    "R = reactions(L,F)\n",
    "\n",
    "plot_beam(reactions(L,F),F.copy(),10)\n",
    "\n",
    "print(\"Recations result: Ra = %f \\t Rb = %f\"%(R[0],R[1]))\n",
    "\n",
    "plt.figure()\n",
    "display(\"Shear\")\n",
    "plot_shear_beam(R,F.copy(),L)\n",
    "\n",
    "display(\"Beanding moment\")\n",
    "plt.figure()\n",
    "plot_moment_beam(R,F.copy(),L)\n",
    "\n",
    "display(\"Angle of defelction\")\n",
    "plt.figure()\n",
    "plot_angle_beam(R,F.copy(),L)\n",
    "\n",
    "display(\"deflection\")\n",
    "plt.figure()\n",
    "plot_shape_beam(R,F.copy(),L)"
   ]
  },
  {
   "cell_type": "code",
   "execution_count": null,
   "metadata": {},
   "outputs": [],
   "source": []
  }
 ],
 "metadata": {
  "kernelspec": {
   "display_name": "Python 3",
   "language": "python",
   "name": "python3"
  },
  "language_info": {
   "codemirror_mode": {
    "name": "ipython",
    "version": 3
   },
   "file_extension": ".py",
   "mimetype": "text/x-python",
   "name": "python",
   "nbconvert_exporter": "python",
   "pygments_lexer": "ipython3",
   "version": "3.7.1"
  }
 },
 "nbformat": 4,
 "nbformat_minor": 2
}
