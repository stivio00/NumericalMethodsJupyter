{
 "cells": [
  {
   "cell_type": "markdown",
   "metadata": {},
   "source": [
    "# Integración numerica\n",
    "\n",
    "\n",
    "$$ f(x) = x^2 $$\n",
    "\n",
    "$$ I =  \\int_0^2 {x^2} dx  = \\left[\\frac{1}{3} x^3\\right]^2_0 = \\frac{2^3}{3} = \\frac{8}{3} = 2.\\bar6$$"
   ]
  },
  {
   "cell_type": "code",
   "execution_count": 77,
   "metadata": {},
   "outputs": [],
   "source": [
    "import numpy as np\n",
    "import matplotlib.pylab as plt\n",
    "from ipywidgets import interact"
   ]
  },
  {
   "cell_type": "code",
   "execution_count": 4,
   "metadata": {},
   "outputs": [
    {
     "data": {
      "image/png": "[encoded data removed]",
      "text/plain": [
       "<Figure size 432x288 with 1 Axes>"
      ]
     },
     "metadata": {
      "needs_background": "light"
     },
     "output_type": "display_data"
    }
   ],
   "source": [
    "x = np.linspace(0,4,100)\n",
    "plt.plot(x,x**2)\n",
    "plt.plot\n",
    "plt.grid()\n",
    "plt.show()"
   ]
  },
  {
   "cell_type": "code",
   "execution_count": 25,
   "metadata": {},
   "outputs": [],
   "source": [
    "def f(x):\n",
    "    return x*x"
   ]
  },
  {
   "cell_type": "code",
   "execution_count": 35,
   "metadata": {},
   "outputs": [
    {
     "data": {
      "text/plain": [
       "2.0"
      ]
     },
     "execution_count": 35,
     "metadata": {},
     "output_type": "execute_result"
    }
   ],
   "source": [
    "a = 0\n",
    "b = 2\n",
    "l = b+a\n",
    "lm = l/2\n",
    "I = l*f(lm)\n",
    "I"
   ]
  },
  {
   "cell_type": "code",
   "execution_count": 75,
   "metadata": {},
   "outputs": [],
   "source": [
    "def sumatoria(f, a, b, N=1):\n",
    "    longitud = b - a \n",
    "    intervalo = longitud / N\n",
    "    print(\"N=%i, lon=%f, long_tot=%f\"%(N,intervalo,longitud))\n",
    "    i = 0\n",
    "    acum = 0\n",
    "    while i < N:\n",
    "        lm = i*intervalo + (intervalo/2)\n",
    "        I = (f(lm))*intervalo\n",
    "        acum = acum + I\n",
    "        i += 1 \n",
    "    return acum"
   ]
  },
  {
   "cell_type": "code",
   "execution_count": 84,
   "metadata": {},
   "outputs": [
    {
     "data": {
      "application/vnd.jupyter.widget-view+json": {
       "model_id": "ef62863d50e54072ba3d85647cc0633e",
       "version_major": 2,
       "version_minor": 0
      },
      "text/plain": [
       "interactive(children=(IntSlider(value=25, description='intervalos', max=50, min=1), Output()), _dom_classes=('…"
      ]
     },
     "metadata": {},
     "output_type": "display_data"
    }
   ],
   "source": [
    "@interact(intervalos=(1,50,1))\n",
    "def plot(intervalos):\n",
    "    r = sumatoria(f,0,2, N=intervalos)\n",
    "    print(\"el area es %f\"%r)\n",
    "    x = np.linspace(0,2,100)  #la x de la linea azul\n",
    "    y = np.linspace(0,2, intervalos+1) # x de los puntos naranjas\n",
    "    plt.plot(x,f(x)) # la linea azul\n",
    "    plt.plot(y,f(y), \"o\")#los puntos naranjas\n",
    "    plt.grid()\n",
    "    plt.show()\n"
   ]
  },
  {
   "cell_type": "code",
   "execution_count": 65,
   "metadata": {},
   "outputs": [
    {
     "data": {
      "text/plain": [
       "array([0.        , 0.66666667, 1.33333333, 2.        ])"
      ]
     },
     "execution_count": 65,
     "metadata": {},
     "output_type": "execute_result"
    }
   ],
   "source": []
  },
  {
   "cell_type": "code",
   "execution_count": null,
   "metadata": {},
   "outputs": [],
   "source": []
  }
 ],
 "metadata": {
  "kernelspec": {
   "display_name": "Python 3",
   "language": "python",
   "name": "python3"
  },
  "language_info": {
   "codemirror_mode": {
    "name": "ipython",
    "version": 3
   },
   "file_extension": ".py",
   "mimetype": "text/x-python",
   "name": "python",
   "nbconvert_exporter": "python",
   "pygments_lexer": "ipython3",
   "version": "3.7.2"
  }
 },
 "nbformat": 4,
 "nbformat_minor": 2
}
