{
 "cells": [
  {
   "cell_type": "markdown",
   "metadata": {},
   "source": [
    "# Integración y diferenciación numerica\n",
    "El calculo diferencial trata dos temas relacionados, las derivadas y las integrales. En nuestro caso estudiamos funciones analiticas que se pueden derivar, y ingrales propias  e impropias. Es importante tener en cuanta que el callculo o analisis real utiliza el procesos de limite. El proceso de limite es un calculo infinito y abstracto. Por otro lado las computadoras son maquinas finitas y poseen finitos recursos como memoria y tiempo de ejecucion. Por lo tanto tenemos que cuantificar el proceso de limite. En este capitulo desarrollaermos metodos numericos para computar derivadas e integrales de forma numerica."
   ]
  },
  {
   "cell_type": "code",
   "execution_count": 1,
   "metadata": {},
   "outputs": [],
   "source": [
    "# Settings\n",
    "import numpy as np\n",
    "import matplotlib.pyplot as plt\n",
    "import sympy as sym\n",
    "sym.init_printing()\n",
    "from ipywidgets import interact"
   ]
  },
  {
   "cell_type": "markdown",
   "metadata": {},
   "source": [
    "#### Derivacion finita\n",
    "el concepto de derivacion proviene de la aproximacion de el calculo de la pendiente, una pendiente aproximada con dos puntos se puede calcular como la razon entre el cambio de la funcion como:\n",
    "$$ \\frac{\\Delta f(x)}{\\Delta x} = \\frac{f(x+\\Delta x) - f(x)}{\\Delta x}$$\n",
    "\n",
    "si tenemos una funcion de prueba como $f(x) = x^2$ podemos calcular su derivada como $f'(x) = 2x$:"
   ]
  },
  {
   "cell_type": "code",
   "execution_count": 2,
   "metadata": {},
   "outputs": [
    {
     "data": {
      "text/plain": [
       "[<matplotlib.lines.Line2D at 0x116f73198>,\n",
       " <matplotlib.lines.Line2D at 0x116f733c8>]"
      ]
     },
     "execution_count": 2,
     "metadata": {},
     "output_type": "execute_result"
    },
    {
     "data": {
      "image/png": "[encoded data removed]",
      "text/plain": [
       "<Figure size 432x288 with 1 Axes>"
      ]
     },
     "metadata": {},
     "output_type": "display_data"
    }
   ],
   "source": [
    "f = lambda x: x**2\n",
    "df = lambda x: 2*x\n",
    "\n",
    "line_at = lambda x:b + m*x\n",
    "\n",
    "v_f = np.vectorize(f)\n",
    "v_df = np.vectorize(df)\n",
    "x = np.linspace(0,3)\n",
    "\n",
    "plt.plot(x,v_f(x),x,v_df(x))\n"
   ]
  },
  {
   "cell_type": "code",
   "execution_count": 3,
   "metadata": {},
   "outputs": [
    {
     "data": {
      "application/vnd.jupyter.widget-view+json": {
       "model_id": "17b40a6ce1374fa3ba06b72e7529d578",
       "version_major": 2,
       "version_minor": 0
      },
      "text/plain": [
       "interactive(children=(FloatSlider(value=0.400001, description='h', max=1.0, min=1e-06), Output()), _dom_classe…"
      ]
     },
     "metadata": {},
     "output_type": "display_data"
    }
   ],
   "source": [
    "def diff_finita(f,x,h):\n",
    "    return (f(x+h)-f(x))/(h)\n",
    "\n",
    "@interact(h=(1e-6,1.0,.1))\n",
    "def grafica(h):\n",
    "    display(diff_finita(f,1,h))"
   ]
  },
  {
   "cell_type": "markdown",
   "metadata": {},
   "source": [
    "#### Integración finita\n",
    "En esta seccion vamos a desarrollar metodos numerico para el calculo de integrales. Primero que todo vamos repasar le concepto de integral.\n",
    "\n",
    "Una integral definida, se puede representar con el simbolo de una $'S'$ alargada ($\\int$) que originalmente el corto para suma. Esto significa que el una suma infinitodecima al lo largo de x. Es muy util para calcular la contribucion total de una funcion a lo largo de un rango $[a,b]$\n",
    "\n",
    "$$ I = \\int_a^b f(x) \\quad \\mathrm d x $$\n",
    "\n",
    "Podemos imagina que la integral de $[a,b]$ computa el area debajo de la curva. en palabras simples, la integral toma una funcion y un rango y retorna un numero real. A continuacion un ejemplo\n"
   ]
  },
  {
   "cell_type": "code",
   "execution_count": 4,
   "metadata": {},
   "outputs": [],
   "source": [
    "f = lambda x: np.polyval([1,0,0],x)"
   ]
  },
  {
   "cell_type": "code",
   "execution_count": 5,
   "metadata": {},
   "outputs": [
    {
     "data": {
      "text/plain": [
       "array([ 1,  4, 16])"
      ]
     },
     "execution_count": 5,
     "metadata": {},
     "output_type": "execute_result"
    }
   ],
   "source": [
    "f([1,2,4])"
   ]
  },
  {
   "cell_type": "code",
   "execution_count": 6,
   "metadata": {},
   "outputs": [],
   "source": [
    "def sumatoria_finita(f,a,b, intervalos):\n",
    "    acumulacion = 0\n",
    "    distancia_total = b-a\n",
    "    h = distancia_total/intervalos\n",
    "    x = a \n",
    "    print( \"paso h=\" +str(h))\n",
    "    while x <= b:\n",
    "        #print(x)\n",
    "        acumulacion = acumulacion + f(x)*h\n",
    "        x = x + h\n",
    "    return acumulacion"
   ]
  },
  {
   "cell_type": "markdown",
   "metadata": {},
   "source": [
    "La integral de $f(x) = x^2$ es $\\int_0^4 {x^2} \\mathrm d x$ es igual a $[\\frac{1}{3}x^3]^4_0 = [64/3]-[0] \\approx  21.3333$"
   ]
  },
  {
   "cell_type": "code",
   "execution_count": 7,
   "metadata": {},
   "outputs": [
    {
     "name": "stdout",
     "output_type": "stream",
     "text": [
      "paso h=0.4\n"
     ]
    },
    {
     "data": {
      "image/png": "[encoded data removed]",
      "text/latex": [
       "$$24.639999999999993$$"
      ],
      "text/plain": [
       "24.639999999999993"
      ]
     },
     "execution_count": 7,
     "metadata": {},
     "output_type": "execute_result"
    }
   ],
   "source": [
    "sumatoria_finita(f,0,4,10)"
   ]
  },
  {
   "cell_type": "markdown",
   "metadata": {},
   "source": [
    "## Integración Númerica\n",
    "Como observamos en el metodo anterior necesitamos muchos intervalos para tener una paroximacion, y aun asi tenemos aproximaciones muy deficientes incluso para funciones relativamente suaves. Por lo tanto es necesario desarrollar un meotodo co una convergencia mas alta que la dumatoria finita de rectangulos.\n",
    "### Familia de metodos de Newton-Cotes\n",
    "Este metodo para integrar ecuaciones basicamente utiliza un polinomio de interpolacion de varios puntos, y precalculamos la integral analitica del polinomio y remplazamos el valor numerico. Dependiento el grado del polinomio tenemos metodos diferentes, pero su nombre general que agrupa cada metodo, se conoce como la familia de metodos de Newton-Cotes.\n",
    "#### Regla del trapezoide\n",
    "El primer metodo del tipo Newton-cotes es el metodo que aproxima el area bajo una curva utilizando dos puntos. y en vez de utilizar una altura contantes, utiliza un trapecio para proximar el area, por ejemplo, utilizando la funcion de prueba $f(x)=x^2$:\n",
    "\n",
    "$f(0) = 0$\n",
    "\n",
    "$f(1) = 1$\n",
    "\n",
    "$f(2) = 4$"
   ]
  },
  {
   "cell_type": "code",
   "execution_count": 8,
   "metadata": {},
   "outputs": [
    {
     "data": {
      "text/plain": [
       "[<matplotlib.lines.Line2D at 0x110722470>,\n",
       " <matplotlib.lines.Line2D at 0x1107226a0>]"
      ]
     },
     "execution_count": 8,
     "metadata": {},
     "output_type": "execute_result"
    },
    {
     "data": {
      "image/png": "[encoded data removed]",
      "text/plain": [
       "<Figure size 432x288 with 1 Axes>"
      ]
     },
     "metadata": {},
     "output_type": "display_data"
    }
   ],
   "source": [
    "X = [0, 1, 2]\n",
    "Y = v_f(X)\n",
    "plt.plot(x,v_f(x), X, Y, \"o\")"
   ]
  },
  {
   "cell_type": "markdown",
   "metadata": {},
   "source": [
    "En vez de evaluar el area del rectangulo justo debajo de los puntos, podemos aproximar el area del trpezoide.\n",
    "$$ I = (a-b) \\frac{f(a)+f(b)}{2} $$\n",
    "\n",
    "Si tenemos muchos intervalos podemos aproxima una integral"
   ]
  },
  {
   "cell_type": "code",
   "execution_count": 9,
   "metadata": {},
   "outputs": [],
   "source": [
    "def nc_1_simple(f,a,b):\n",
    "    print(\"h=\",b-a)\n",
    "    return (b-a)*(f(a)+f(b))/2"
   ]
  },
  {
   "cell_type": "code",
   "execution_count": 10,
   "metadata": {},
   "outputs": [
    {
     "name": "stdout",
     "output_type": "stream",
     "text": [
      "h= 4\n"
     ]
    },
    {
     "data": {
      "image/png": "[encoded data removed]",
      "text/latex": [
       "$$32.0$$"
      ],
      "text/plain": [
       "32.0"
      ]
     },
     "execution_count": 10,
     "metadata": {},
     "output_type": "execute_result"
    }
   ],
   "source": [
    "nc_1_simple(f,0,4)"
   ]
  },
  {
   "cell_type": "code",
   "execution_count": 11,
   "metadata": {},
   "outputs": [],
   "source": [
    "def nc_1(f,a,b,intervalos):\n",
    "    \"Regla del trapecio\"\n",
    "    acumulacion = 0\n",
    "    distancia_total = b-a\n",
    "    h = distancia_total/intervalos\n",
    "    x = a \n",
    "    print( \"paso h=\" +str(h))\n",
    "    while x < (b):\n",
    "        #print(x)\n",
    "        acumulacion = acumulacion + (h)*(f(x)+f(x+h))/2\n",
    "        x = x + h\n",
    "    return acumulacion"
   ]
  },
  {
   "cell_type": "code",
   "execution_count": 12,
   "metadata": {},
   "outputs": [
    {
     "name": "stdout",
     "output_type": "stream",
     "text": [
      "paso h=0.4\n"
     ]
    },
    {
     "data": {
      "image/png": "[encoded data removed]",
      "text/latex": [
       "$$28.511999999999997$$"
      ],
      "text/plain": [
       "28.511999999999997"
      ]
     },
     "execution_count": 12,
     "metadata": {},
     "output_type": "execute_result"
    }
   ],
   "source": [
    "nc_1(f,0,4,10)"
   ]
  },
  {
   "cell_type": "markdown",
   "metadata": {},
   "source": [
    "Para mantener esta seccion simple solo vamos a mencionar que la reglade simpson 1/3 utiliza 3 puntos, y su polinomi que aproxima una parabola. (los polinomios son calculados a partir de una intepolacion de newton o lagrange) a continuacion una tabla:"
   ]
  },
  {
   "cell_type": "markdown",
   "metadata": {},
   "source": [
    "| Segmentos | Puntos |    Nombre      |                 Formula                      |\n",
    "|:---------:|:------:|:--------------:|:--------------------------------------------:|\n",
    "| 1         |   2    | R. Trapezoide  | $(b-a)\\frac{f(x_0)+f(x_1)}{2}$               |\n",
    "| 2         |   3    | R. Simpson 1/3 | $(b-a)\\frac{f(x_0)+4f(x_1)+f(x_2)}{6}$       |\n",
    "| 3         |   4    | R. Simpson 3/8 | $(b-a)\\frac{f_0+3f_1+3f_2+f_3}{8}$           |\n",
    "| 4         |   5    | R. Boole       | $(b-a)\\frac{7f_0-32f_1+12f_2-32f_3+7f_4}{3}$ |\n",
    "| 5         |   6    |     ---        | $(b-a)\\frac{2f(x_1)-(x_2)+f(x_2)}{3}$        |"
   ]
  },
  {
   "cell_type": "code",
   "execution_count": 13,
   "metadata": {},
   "outputs": [],
   "source": [
    "def nc_2(f,a,b,intervalos):\n",
    "    \"Regla de Simpson 1/3\"\n",
    "    acumulacion = 0\n",
    "    distancia_total = b-a\n",
    "    h = distancia_total/(intervalos)\n",
    "    x = a \n",
    "    print(\"Paso h=\" +str(h))\n",
    "    while x < (b):\n",
    "        print(x)\n",
    "        acumulacion = acumulacion + (h)*(f(x)+4*f(x+(h/2))+f(x+h))/6\n",
    "        x = x + h\n",
    "    return acumulacion"
   ]
  },
  {
   "cell_type": "code",
   "execution_count": 17,
   "metadata": {},
   "outputs": [
    {
     "name": "stdout",
     "output_type": "stream",
     "text": [
      "Paso h=4.0\n",
      "0\n"
     ]
    },
    {
     "data": {
      "image/png": "[encoded data removed]",
      "text/latex": [
       "$$21.333333333333332$$"
      ],
      "text/plain": [
       "21.333333333333332"
      ]
     },
     "execution_count": 17,
     "metadata": {},
     "output_type": "execute_result"
    }
   ],
   "source": [
    "nc_2(f,0,4,1)"
   ]
  },
  {
   "cell_type": "markdown",
   "metadata": {},
   "source": [
    "Tarea: ImplementarNewton-cotes para simpson 3/8, y Regla de Bode. Porbar para la funcion impropia de la campana de gauss."
   ]
  },
  {
   "cell_type": "markdown",
   "metadata": {},
   "source": [
    "### Integración de ecuaciones\n"
   ]
  },
  {
   "cell_type": "code",
   "execution_count": 18,
   "metadata": {},
   "outputs": [
    {
     "name": "stdout",
     "output_type": "stream",
     "text": [
      "value\n",
      "1st option\n",
      "value\n"
     ]
    }
   ],
   "source": [
    "#@title String fields\n",
    "\n",
    "text = 'value' #@param {type:\"string\"}\n",
    "dropdown = '1st option' #@param [\"1st option\", \"2nd option\", \"3rd option\"]\n",
    "text_and_dropdown = 'value' #@param [\"1st option\", \"2nd option\", \"3rd option\"] {allow-input: true}\n",
    "\n",
    "print(text)\n",
    "print(dropdown)\n",
    "print(text_and_dropdown)"
   ]
  },
  {
   "cell_type": "code",
   "execution_count": null,
   "metadata": {},
   "outputs": [],
   "source": []
  }
 ],
 "metadata": {
  "kernelspec": {
   "display_name": "Python 3",
   "language": "python",
   "name": "python3"
  },
  "language_info": {
   "codemirror_mode": {
    "name": "ipython",
    "version": 3
   },
   "file_extension": ".py",
   "mimetype": "text/x-python",
   "name": "python",
   "nbconvert_exporter": "python",
   "pygments_lexer": "ipython3",
   "version": "3.7.2"
  }
 },
 "nbformat": 4,
 "nbformat_minor": 2
}
