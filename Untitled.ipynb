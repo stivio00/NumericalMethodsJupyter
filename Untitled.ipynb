{
 "cells": [
  {
   "cell_type": "markdown",
   "metadata": {},
   "source": [
    "# Interpolación y regresión\n",
    "\n",
    "## Interpolación utilizando diferencias finitas de Newton\n",
    "\n",
    "$$ f(x) = \\mathrm{ln} (x) $$\n",
    "\n"
   ]
  },
  {
   "cell_type": "code",
   "execution_count": 1,
   "metadata": {},
   "outputs": [],
   "source": [
    "import numpy as np\n",
    "import matplotlib.pylab as plt"
   ]
  },
  {
   "cell_type": "code",
   "execution_count": 20,
   "metadata": {},
   "outputs": [
    {
     "data": {
      "image/png": "[encoded data removed]",
      "text/plain": [
       "<Figure size 432x288 with 1 Axes>"
      ]
     },
     "metadata": {
      "needs_background": "light"
     },
     "output_type": "display_data"
    }
   ],
   "source": [
    "x = np.linspace(.5,6)\n",
    "y = np.log(x) \n",
    "\n",
    "\n",
    "\n",
    "plt.plot(x,y)\n",
    "plt.plot([1, 4], np.log([1, 4]) , \"o\")\n",
    "plt.plot([1, 4], np.log([1, 4]) , \"--\")\n",
    "plt.grid()\n",
    "plt.show()"
   ]
  },
  {
   "cell_type": "markdown",
   "metadata": {},
   "source": [
    "La formula de interpolacion lineal es:\n",
    "$$f_1(x)= f(x_0) + \\frac{f(x_1)- f(x_0)}{x_1 - x_0} (x - x_0)$$"
   ]
  },
  {
   "cell_type": "code",
   "execution_count": 13,
   "metadata": {},
   "outputs": [],
   "source": [
    "def lineal(x, xx, yy):\n",
    "    return yy[0] + (yy[1]-yy[0])/(xx[1]-xx[0])*(x-xx[0])"
   ]
  },
  {
   "cell_type": "code",
   "execution_count": 19,
   "metadata": {},
   "outputs": [
    {
     "name": "stdout",
     "output_type": "stream",
     "text": [
      "valor real es 0.9162907318741551\n",
      "valor real es 0.6931471805599453\n"
     ]
    }
   ],
   "source": [
    "valor_x = 2.5\n",
    "valor_y = np.log(valor_x)\n",
    "print(\"valor real es \"+str(valor_y))\n",
    "\n",
    "valor_y_aprox = lineal(valor_x, [1, 4], np.log([1, 4]))\n",
    "print(\"valor real es \"+str(valor_y_aprox))\n"
   ]
  },
  {
   "cell_type": "code",
   "execution_count": 23,
   "metadata": {},
   "outputs": [
    {
     "data": {
      "text/plain": [
       "200000.0"
      ]
     },
     "execution_count": 23,
     "metadata": {},
     "output_type": "execute_result"
    }
   ],
   "source": [
    "lineal(120 ,[65,120] ,[100000,200000])"
   ]
  },
  {
   "cell_type": "markdown",
   "metadata": {},
   "source": [
    "## Interpolación de Lagrange\n",
    "$$f_n(x) = \\sum_{i=0}^n{L_i(x)f(x_i)}$$\n",
    "$$L_i(x) = \\prod_{j=0 \\; j \\neq i}^n \\frac{x-x_j}{x_i-x_j} $$\n"
   ]
  },
  {
   "cell_type": "code",
   "execution_count": 33,
   "metadata": {},
   "outputs": [],
   "source": [
    "def L_i(n , i, x , xx):\n",
    "    resultado = 1\n",
    "    j=0\n",
    "    while j<n:\n",
    "        if not i == j: \n",
    "            resultado = resultado * (x-xx[j])/(xx[i]-xx[j]) \n",
    "        j += 1\n",
    "    return resultado\n",
    "\n",
    "def lagrange(n, x, xx, yy):\n",
    "    resultado = 0\n",
    "    i=0\n",
    "    while i<n:\n",
    "        resultado = resultado +  L_i(n, i, x, xx) * yy[i]\n",
    "        i += 1\n",
    "    return resultado\n",
    "    \n",
    "    "
   ]
  },
  {
   "cell_type": "code",
   "execution_count": 25,
   "metadata": {},
   "outputs": [
    {
     "name": "stdout",
     "output_type": "stream",
     "text": [
      "[1.0, 3.0, 4.0]\n",
      "[0.         1.09861229 1.38629436]\n"
     ]
    }
   ],
   "source": [
    "xx = [1.0, 3.0, 4.0]\n",
    "yy = np.log(xx)\n",
    "print(xx)\n",
    "print(yy)"
   ]
  },
  {
   "cell_type": "code",
   "execution_count": 49,
   "metadata": {},
   "outputs": [],
   "source": [
    "def lagrange_v(x_):\n",
    "    xx = np.array([1.0, 3.0, 4.0])\n",
    "    \n",
    "    yy = np.log(xx)\n",
    "    \n",
    "    salida = x_.copy() #np.zeros(len(x_))\n",
    "    \n",
    "    for i in range(len(x_)):\n",
    "        #print(i)\n",
    "        salida[i] = lagrange(3, x_[i] , xx, yy)\n",
    "        \n",
    "    return salida"
   ]
  },
  {
   "cell_type": "code",
   "execution_count": 47,
   "metadata": {},
   "outputs": [
    {
     "name": "stdout",
     "output_type": "stream",
     "text": [
      "0\n",
      "1\n",
      "2\n"
     ]
    },
    {
     "data": {
      "text/plain": [
       "[0.0, 0.636514168294813, 1.0986122886681098]"
      ]
     },
     "execution_count": 47,
     "metadata": {},
     "output_type": "execute_result"
    }
   ],
   "source": [
    "lagrange_v([1,2,3])"
   ]
  },
  {
   "cell_type": "code",
   "execution_count": 54,
   "metadata": {},
   "outputs": [
    {
     "data": {
      "image/png": "[encoded data removed]",
      "text/plain": [
       "<Figure size 432x288 with 1 Axes>"
      ]
     },
     "metadata": {
      "needs_background": "light"
     },
     "output_type": "display_data"
    }
   ],
   "source": [
    "x = np.linspace(.5,6)\n",
    "y = np.log(x) \n",
    "\n",
    "plt.plot(x,y)\n",
    "plt.plot([1, 4], np.log([1, 4]) , \"o\")\n",
    "plt.plot([1, 4], np.log([1, 4]) , \"--\")\n",
    "plt.plot(x, lagrange_v(x) , \"r--\")\n",
    "#xx_ = np.array([1.0, 3.0, 4.0])\n",
    "#plt.plot(xx_, np.log(xx_), \"b^\")\n",
    "plt.grid()\n",
    "plt.show()"
   ]
  },
  {
   "cell_type": "markdown",
   "metadata": {},
   "source": [
    "$$ a_1 = \\frac{n \\sum{x_i y_i} - \\sum{x_i}\\sum{y_i}}{n \\sum x_i^2 - (\\sum x_i)^2} $$\n",
    "\n",
    "$$ a_0 = \\bar y - a_1 \\bar x $$"
   ]
  },
  {
   "cell_type": "code",
   "execution_count": null,
   "metadata": {},
   "outputs": [],
   "source": []
  }
 ],
 "metadata": {
  "kernelspec": {
   "display_name": "Python 3",
   "language": "python",
   "name": "python3"
  },
  "language_info": {
   "codemirror_mode": {
    "name": "ipython",
    "version": 3
   },
   "file_extension": ".py",
   "mimetype": "text/x-python",
   "name": "python",
   "nbconvert_exporter": "python",
   "pygments_lexer": "ipython3",
   "version": "3.7.2"
  }
 },
 "nbformat": 4,
 "nbformat_minor": 2
}
