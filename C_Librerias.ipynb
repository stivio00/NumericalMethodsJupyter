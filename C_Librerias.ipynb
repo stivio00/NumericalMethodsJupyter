{
 "cells": [
  {
   "cell_type": "markdown",
   "metadata": {},
   "source": [
    "# Librerias para analisis de datos"
   ]
  },
  {
   "cell_type": "markdown",
   "metadata": {},
   "source": [
    "## Contenido \n",
    "* Computacion numerica\n",
    "  * Arreglos\n",
    "  * Vectores\n",
    "  * MAtrices\n",
    "\n",
    "* Visualizacion\n",
    "  * Introducción\n",
    "  * Graficas de simples\n",
    "  * Leyendas y comentarios en $\\LaTeX$\n",
    "\n",
    "* Introducción a Scipy\n",
    "  * modulos\n",
    "  * algebra lineal\n",
    "  * Estadistica"
   ]
  },
  {
   "cell_type": "code",
   "execution_count": null,
   "metadata": {},
   "outputs": [],
   "source": []
  }
 ],
 "metadata": {
  "kernelspec": {
   "display_name": "Python 3",
   "language": "python",
   "name": "python3"
  },
  "language_info": {
   "codemirror_mode": {
    "name": "ipython",
    "version": 3
   },
   "file_extension": ".py",
   "mimetype": "text/x-python",
   "name": "python",
   "nbconvert_exporter": "python",
   "pygments_lexer": "ipython3",
   "version": "3.7.1"
  }
 },
 "nbformat": 4,
 "nbformat_minor": 2
}
