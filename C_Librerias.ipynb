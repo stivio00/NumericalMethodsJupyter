{
 "cells": [
  {
   "cell_type": "markdown",
   "metadata": {},
   "source": [
    "# Librerias para analisis de datos"
   ]
  },
  {
   "cell_type": "markdown",
   "metadata": {},
   "source": [
    "## Contenido \n",
    "* Computacion numerica\n",
    "  * Arreglos\n",
    "  * Vectores\n",
    "  * MAtrices\n",
    "\n",
    "* Visualizacion\n",
    "  * Introducción\n",
    "  * Graficas de simples\n",
    "  * Leyendas y comentarios en $\\LaTeX$\n",
    "\n",
    "* Introducción a Scipy\n",
    "  * modulos\n",
    "  * algebra lineal\n",
    "  * Estadistica"
   ]
  },
  {
   "cell_type": "markdown",
   "metadata": {},
   "source": [
    "Creacion de arreglo en Python es por medio de la utilización de "
   ]
  },
  {
   "cell_type": "code",
   "execution_count": 2,
   "metadata": {},
   "outputs": [],
   "source": [
    "!rm *.png"
   ]
  },
  {
   "cell_type": "code",
   "execution_count": 3,
   "metadata": {},
   "outputs": [
    {
     "name": "stdout",
     "output_type": "stream",
     "text": [
      "1_Intro.ipynb            9_Optimizacion.ipynb     LICENSE\r\n",
      "2_Raices.ipynb           A_Instalacion.ipynb      \u001b[34mPracticas\u001b[m\u001b[m\r\n",
      "3_SistemasLineales.ipynb B_Prgramacion.ipynb      README.md\r\n",
      "4_Calculo.ipynb          CODE_OF_CONDUCT.md       notebook.tex\r\n",
      "5_ODE.ipynb              C_Librerias.ipynb        requirements.txt\r\n",
      "6_Interpolacion.ipynb    Estadistica.ipynb        \u001b[31mrun.sh\u001b[m\u001b[m\r\n",
      "7_PDE.ipynb              \u001b[34mImages\u001b[m\u001b[m\r\n"
     ]
    }
   ],
   "source": [
    "!ls"
   ]
  },
  {
   "cell_type": "code",
   "execution_count": null,
   "metadata": {},
   "outputs": [],
   "source": []
  }
 ],
 "metadata": {
  "kernelspec": {
   "display_name": "Python 3",
   "language": "python",
   "name": "python3"
  },
  "language_info": {
   "codemirror_mode": {
    "name": "ipython",
    "version": 3
   },
   "file_extension": ".py",
   "mimetype": "text/x-python",
   "name": "python",
   "nbconvert_exporter": "python",
   "pygments_lexer": "ipython3",
   "version": "3.7.1"
  }
 },
 "nbformat": 4,
 "nbformat_minor": 2
}
