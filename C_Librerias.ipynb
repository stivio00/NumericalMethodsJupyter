{
 "cells": [
  {
   "cell_type": "markdown",
   "metadata": {},
   "source": [
    "# Librerias para analisis de datos"
   ]
  },
  {
   "cell_type": "markdown",
   "metadata": {},
   "source": [
    "## Contenido \n",
    "* Computacion numerica\n",
    "  * Arreglos\n",
    "  * Vectores\n",
    "  * MAtrices\n",
    "\n",
    "* Visualizacion\n",
    "  * Introducción\n",
    "  * Graficas de simples\n",
    "  * Leyendas y comentarios en $\\LaTeX$\n",
    "\n",
    "* Introducción a Scipy\n",
    "  * modulos\n",
    "  * algebra lineal\n",
    "  * Estadistica"
   ]
  },
  {
   "cell_type": "markdown",
   "metadata": {},
   "source": [
    "* Computacion numerica"
   ]
  },
  {
   "cell_type": "code",
   "execution_count": 15,
   "metadata": {},
   "outputs": [
    {
     "name": "stdout",
     "output_type": "stream",
     "text": [
      "[[ 30  36  42]\n",
      " [ 66  81  96]\n",
      " [102 126 150]]\n"
     ]
    }
   ],
   "source": [
    "import numpy as np\n",
    "#arreglo de 9 elementos (dimnesiones)\n",
    "a = np.array([1,2,3,4,5,6,7,8,9])\n",
    "\n",
    "# la forma del arreglo \n",
    "a.shape #(9,)\n",
    "\n",
    "#una matriz  es un arreglo de forma 2 dos indices (dos dimensiones)\n",
    "a = a.reshape([3,3])\n",
    "\n",
    "#El producto de los tamaños de los indices tiene que ser el numero de elementos del arreglo\n",
    "# 3x3 = 9\n",
    "#a.reshape([filas,columna])\n",
    "\n",
    "\n",
    "#Producto punto\n",
    "print(a.dot(a))\n",
    "\n"
   ]
  },
  {
   "cell_type": "markdown",
   "metadata": {},
   "source": [
    "* Computación Simbolica"
   ]
  },
  {
   "cell_type": "code",
   "execution_count": 38,
   "metadata": {},
   "outputs": [],
   "source": [
    "import sympy as sp\n",
    "sp.init_printing()"
   ]
  },
  {
   "cell_type": "code",
   "execution_count": 56,
   "metadata": {},
   "outputs": [
    {
     "data": {
      "image/png": "[encoded data removed]",
      "text/latex": [
       "$$\\left[\\begin{matrix}1 & - \\sin^{2}{\\left (x \\right )} + \\cos^{2}{\\left (x \\right )}\\end{matrix}\\right]$$"
      ],
      "text/plain": [
       "⎡        2         2   ⎤\n",
       "⎣1  - sin (x) + cos (x)⎦"
      ]
     },
     "execution_count": 56,
     "metadata": {},
     "output_type": "execute_result"
    }
   ],
   "source": [
    "x = sp.symbols(\"x\")\n",
    "f1 = x\n",
    "f2 = sp.sin(x) * sp.cos(x)\n",
    "f_ = sp.Array([f1,f2])\n",
    "f_.diff(x)"
   ]
  },
  {
   "cell_type": "code",
   "execution_count": 58,
   "metadata": {},
   "outputs": [
    {
     "data": {
      "image/png": "[encoded data removed]",
      "text/latex": [
       "$$\\left[\\begin{matrix}0 & - 64 \\sin{\\left (x \\right )} \\cos{\\left (x \\right )}\\end{matrix}\\right]$$"
      ],
      "text/plain": [
       "[0  -64⋅sin(x)⋅cos(x)]"
      ]
     },
     "execution_count": 58,
     "metadata": {},
     "output_type": "execute_result"
    }
   ],
   "source": [
    "f_.diff(x,6)"
   ]
  },
  {
   "cell_type": "code",
   "execution_count": 55,
   "metadata": {},
   "outputs": [
    {
     "name": "stdout",
     "output_type": "stream",
     "text": [
      "rm: *.png: No such file or directory\n",
      "rm: *.tex: No such file or directory\n"
     ]
    }
   ],
   "source": [
    "#clean script cell\n",
    "!rm *.png\n",
    "!rm *.tex"
   ]
  },
  {
   "cell_type": "code",
   "execution_count": 8,
   "metadata": {},
   "outputs": [
    {
     "name": "stdout",
     "output_type": "stream",
     "text": [
      "[master 0b79051] from script\n",
      " 3 files changed, 1388 insertions(+), 1996 deletions(-)\n",
      " rewrite 1_Intro.ipynb (63%)\n",
      "Objekte aufzählen: 9, Fertig.\n",
      "Zähle Objekte: 100% (9/9), Fertig.\n",
      "Delta compression using up to 4 threads\n",
      "Komprimiere Objekte: 100% (5/5), Fertig.\n",
      "Schreibe Objekte: 100% (5/5), 13.90 KiB | 3.47 MiB/s, Fertig.\n",
      "Total 5 (delta 4), reused 0 (delta 0)\n",
      "remote: Resolving deltas: 100% (4/4), completed with 4 local objects.\u001b[K\n",
      "To https://github.com/stivio00/NumericalMethodsJupyter.git\n",
      "   bea85c1..0b79051  master -> master\n"
     ]
    }
   ],
   "source": [
    "#syn github repo \n",
    "!git add -A\n",
    "!git commit -m \"from script test (6.feb.2019)\"\n",
    "!git push origin master"
   ]
  },
  {
   "cell_type": "code",
   "execution_count": null,
   "metadata": {},
   "outputs": [],
   "source": []
  }
 ],
 "metadata": {
  "kernelspec": {
   "display_name": "Python 3",
   "language": "python",
   "name": "python3"
  },
  "language_info": {
   "codemirror_mode": {
    "name": "ipython",
    "version": 3
   },
   "file_extension": ".py",
   "mimetype": "text/x-python",
   "name": "python",
   "nbconvert_exporter": "python",
   "pygments_lexer": "ipython3",
   "version": "3.7.2"
  }
 },
 "nbformat": 4,
 "nbformat_minor": 2
}
