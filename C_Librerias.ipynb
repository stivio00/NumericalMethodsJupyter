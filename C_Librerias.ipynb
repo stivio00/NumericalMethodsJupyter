{
 "cells": [
  {
   "cell_type": "markdown",
   "metadata": {},
   "source": [
    "# Librerias para analisis de datos"
   ]
  },
  {
   "cell_type": "markdown",
   "metadata": {},
   "source": [
    "## Contenido \n",
    "* Computacion numerica\n",
    "  * Arreglos\n",
    "  * Vectores\n",
    "  * MAtrices\n",
    "\n",
    "* Visualizacion\n",
    "  * Introducción\n",
    "  * Graficas de simples\n",
    "  * Leyendas y comentarios en $\\LaTeX$\n",
    "\n",
    "* Introducción a Scipy\n",
    "  * modulos\n",
    "  * algebra lineal\n",
    "  * Estadistica"
   ]
  },
  {
   "cell_type": "markdown",
   "metadata": {},
   "source": [
    "Creacion de arreglo en Python es por medio de la utilización de "
   ]
  },
  {
   "cell_type": "code",
   "execution_count": 6,
   "metadata": {},
   "outputs": [
    {
     "name": "stdout",
     "output_type": "stream",
     "text": [
      "rm: *.png: No such file or directory\n",
      "rm: *.tex: No such file or directory\n"
     ]
    }
   ],
   "source": [
    "#clean script cell\n",
    "!rm *.png\n",
    "!rm *.tex"
   ]
  },
  {
   "cell_type": "code",
   "execution_count": 8,
   "metadata": {},
   "outputs": [
    {
     "name": "stdout",
     "output_type": "stream",
     "text": [
      "[master 0b79051] from script\n",
      " 3 files changed, 1388 insertions(+), 1996 deletions(-)\n",
      " rewrite 1_Intro.ipynb (63%)\n",
      "Objekte aufzählen: 9, Fertig.\n",
      "Zähle Objekte: 100% (9/9), Fertig.\n",
      "Delta compression using up to 4 threads\n",
      "Komprimiere Objekte: 100% (5/5), Fertig.\n",
      "Schreibe Objekte: 100% (5/5), 13.90 KiB | 3.47 MiB/s, Fertig.\n",
      "Total 5 (delta 4), reused 0 (delta 0)\n",
      "remote: Resolving deltas: 100% (4/4), completed with 4 local objects.\u001b[K\n",
      "To https://github.com/stivio00/NumericalMethodsJupyter.git\n",
      "   bea85c1..0b79051  master -> master\n"
     ]
    }
   ],
   "source": [
    "#syn github repo \n",
    "!git add -A\n",
    "!git commit -m \"from script\"\n",
    "!git push origin master"
   ]
  },
  {
   "cell_type": "code",
   "execution_count": null,
   "metadata": {},
   "outputs": [],
   "source": []
  }
 ],
 "metadata": {
  "kernelspec": {
   "display_name": "Python 3",
   "language": "python",
   "name": "python3"
  },
  "language_info": {
   "codemirror_mode": {
    "name": "ipython",
    "version": 3
   },
   "file_extension": ".py",
   "mimetype": "text/x-python",
   "name": "python",
   "nbconvert_exporter": "python",
   "pygments_lexer": "ipython3",
   "version": "3.7.1"
  }
 },
 "nbformat": 4,
 "nbformat_minor": 2
}
