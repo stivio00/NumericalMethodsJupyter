{
 "cells": [
  {
   "cell_type": "code",
   "execution_count": 4,
   "metadata": {},
   "outputs": [],
   "source": [
    "import numpy as np\n",
    "import pandas as pd\n",
    "from scipy import stats\n",
    "import matplotlib.pyplot as plt"
   ]
  },
  {
   "cell_type": "code",
   "execution_count": 3,
   "metadata": {},
   "outputs": [
    {
     "data": {
      "text/plain": [
       "array([[ 0.2522196 ,  0.49520696, -1.20392437,  0.6681448 ],\n",
       "       [-1.58982847, -0.91724746, -0.70508215,  1.27511882],\n",
       "       [ 1.17066244, -0.66570778,  1.51598778,  0.34921633],\n",
       "       [ 1.00382688, -0.66149751,  0.93398576,  2.8225142 ],\n",
       "       [ 0.89094625,  0.58286567,  0.0228283 ,  1.38496434]])"
      ]
     },
     "execution_count": 3,
     "metadata": {},
     "output_type": "execute_result"
    }
   ],
   "source": [
    "datos = np.random.randn(5, 4) # datos normalmente distribuidos\n",
    "datos"
   ]
  },
  {
   "cell_type": "code",
   "execution_count": 5,
   "metadata": {},
   "outputs": [
    {
     "data": {
      "text/html": [
       "<div>\n",
       "<style scoped>\n",
       "    .dataframe tbody tr th:only-of-type {\n",
       "        vertical-align: middle;\n",
       "    }\n",
       "\n",
       "    .dataframe tbody tr th {\n",
       "        vertical-align: top;\n",
       "    }\n",
       "\n",
       "    .dataframe thead th {\n",
       "        text-align: right;\n",
       "    }\n",
       "</style>\n",
       "<table border=\"1\" class=\"dataframe\">\n",
       "  <thead>\n",
       "    <tr style=\"text-align: right;\">\n",
       "      <th></th>\n",
       "      <th>col1</th>\n",
       "      <th>col2</th>\n",
       "      <th>col3</th>\n",
       "      <th>col4</th>\n",
       "    </tr>\n",
       "  </thead>\n",
       "  <tbody>\n",
       "    <tr>\n",
       "      <th>a</th>\n",
       "      <td>0.252220</td>\n",
       "      <td>0.495207</td>\n",
       "      <td>-1.203924</td>\n",
       "      <td>0.668145</td>\n",
       "    </tr>\n",
       "    <tr>\n",
       "      <th>b</th>\n",
       "      <td>-1.589828</td>\n",
       "      <td>-0.917247</td>\n",
       "      <td>-0.705082</td>\n",
       "      <td>1.275119</td>\n",
       "    </tr>\n",
       "    <tr>\n",
       "      <th>c</th>\n",
       "      <td>1.170662</td>\n",
       "      <td>-0.665708</td>\n",
       "      <td>1.515988</td>\n",
       "      <td>0.349216</td>\n",
       "    </tr>\n",
       "    <tr>\n",
       "      <th>d</th>\n",
       "      <td>1.003827</td>\n",
       "      <td>-0.661498</td>\n",
       "      <td>0.933986</td>\n",
       "      <td>2.822514</td>\n",
       "    </tr>\n",
       "    <tr>\n",
       "      <th>e</th>\n",
       "      <td>0.890946</td>\n",
       "      <td>0.582866</td>\n",
       "      <td>0.022828</td>\n",
       "      <td>1.384964</td>\n",
       "    </tr>\n",
       "  </tbody>\n",
       "</table>\n",
       "</div>"
      ],
      "text/plain": [
       "       col1      col2      col3      col4\n",
       "a  0.252220  0.495207 -1.203924  0.668145\n",
       "b -1.589828 -0.917247 -0.705082  1.275119\n",
       "c  1.170662 -0.665708  1.515988  0.349216\n",
       "d  1.003827 -0.661498  0.933986  2.822514\n",
       "e  0.890946  0.582866  0.022828  1.384964"
      ]
     },
     "execution_count": 5,
     "metadata": {},
     "output_type": "execute_result"
    }
   ],
   "source": [
    "# usando pandas\n",
    "dataframe = pd.DataFrame(datos, index=['a', 'b', 'c', 'd', 'e'], \n",
    "                        columns=['col1', 'col2', 'col3', 'col4'])\n",
    "dataframe"
   ]
  },
  {
   "cell_type": "code",
   "execution_count": 6,
   "metadata": {},
   "outputs": [
    {
     "data": {
      "text/html": [
       "<div>\n",
       "<style scoped>\n",
       "    .dataframe tbody tr th:only-of-type {\n",
       "        vertical-align: middle;\n",
       "    }\n",
       "\n",
       "    .dataframe tbody tr th {\n",
       "        vertical-align: top;\n",
       "    }\n",
       "\n",
       "    .dataframe thead th {\n",
       "        text-align: right;\n",
       "    }\n",
       "</style>\n",
       "<table border=\"1\" class=\"dataframe\">\n",
       "  <thead>\n",
       "    <tr style=\"text-align: right;\">\n",
       "      <th></th>\n",
       "      <th>col1</th>\n",
       "      <th>col2</th>\n",
       "      <th>col3</th>\n",
       "      <th>col4</th>\n",
       "    </tr>\n",
       "  </thead>\n",
       "  <tbody>\n",
       "    <tr>\n",
       "      <th>count</th>\n",
       "      <td>5.000000</td>\n",
       "      <td>5.000000</td>\n",
       "      <td>5.000000</td>\n",
       "      <td>5.000000</td>\n",
       "    </tr>\n",
       "    <tr>\n",
       "      <th>mean</th>\n",
       "      <td>0.345565</td>\n",
       "      <td>-0.233276</td>\n",
       "      <td>0.112759</td>\n",
       "      <td>1.299992</td>\n",
       "    </tr>\n",
       "    <tr>\n",
       "      <th>std</th>\n",
       "      <td>1.136441</td>\n",
       "      <td>0.713261</td>\n",
       "      <td>1.124063</td>\n",
       "      <td>0.952512</td>\n",
       "    </tr>\n",
       "    <tr>\n",
       "      <th>min</th>\n",
       "      <td>-1.589828</td>\n",
       "      <td>-0.917247</td>\n",
       "      <td>-1.203924</td>\n",
       "      <td>0.349216</td>\n",
       "    </tr>\n",
       "    <tr>\n",
       "      <th>25%</th>\n",
       "      <td>0.252220</td>\n",
       "      <td>-0.665708</td>\n",
       "      <td>-0.705082</td>\n",
       "      <td>0.668145</td>\n",
       "    </tr>\n",
       "    <tr>\n",
       "      <th>50%</th>\n",
       "      <td>0.890946</td>\n",
       "      <td>-0.661498</td>\n",
       "      <td>0.022828</td>\n",
       "      <td>1.275119</td>\n",
       "    </tr>\n",
       "    <tr>\n",
       "      <th>75%</th>\n",
       "      <td>1.003827</td>\n",
       "      <td>0.495207</td>\n",
       "      <td>0.933986</td>\n",
       "      <td>1.384964</td>\n",
       "    </tr>\n",
       "    <tr>\n",
       "      <th>max</th>\n",
       "      <td>1.170662</td>\n",
       "      <td>0.582866</td>\n",
       "      <td>1.515988</td>\n",
       "      <td>2.822514</td>\n",
       "    </tr>\n",
       "  </tbody>\n",
       "</table>\n",
       "</div>"
      ],
      "text/plain": [
       "           col1      col2      col3      col4\n",
       "count  5.000000  5.000000  5.000000  5.000000\n",
       "mean   0.345565 -0.233276  0.112759  1.299992\n",
       "std    1.136441  0.713261  1.124063  0.952512\n",
       "min   -1.589828 -0.917247 -1.203924  0.349216\n",
       "25%    0.252220 -0.665708 -0.705082  0.668145\n",
       "50%    0.890946 -0.661498  0.022828  1.275119\n",
       "75%    1.003827  0.495207  0.933986  1.384964\n",
       "max    1.170662  0.582866  1.515988  2.822514"
      ]
     },
     "execution_count": 6,
     "metadata": {},
     "output_type": "execute_result"
    }
   ],
   "source": [
    "# resumen estadistadistico con pandas\n",
    "dataframe.describe()"
   ]
  },
  {
   "cell_type": "code",
   "execution_count": 7,
   "metadata": {},
   "outputs": [
    {
     "ename": "ModuleNotFoundError",
     "evalue": "No module named 'seaborn'",
     "output_type": "error",
     "traceback": [
      "\u001b[0;31m---------------------------------------------------------------------------\u001b[0m",
      "\u001b[0;31mModuleNotFoundError\u001b[0m                       Traceback (most recent call last)",
      "\u001b[0;32m<ipython-input-7-d5782d18c3b7>\u001b[0m in \u001b[0;36m<module>\u001b[0;34m()\u001b[0m\n\u001b[1;32m      1\u001b[0m \u001b[0;32mimport\u001b[0m \u001b[0mmatplotlib\u001b[0m\u001b[0;34m.\u001b[0m\u001b[0mpyplot\u001b[0m \u001b[0;32mas\u001b[0m \u001b[0mplt\u001b[0m \u001b[0;31m# importando matplotlib\u001b[0m\u001b[0;34m\u001b[0m\u001b[0;34m\u001b[0m\u001b[0m\n\u001b[0;32m----> 2\u001b[0;31m \u001b[0;32mimport\u001b[0m \u001b[0mseaborn\u001b[0m \u001b[0;32mas\u001b[0m \u001b[0msns\u001b[0m \u001b[0;31m# importando seaborn\u001b[0m\u001b[0;34m\u001b[0m\u001b[0;34m\u001b[0m\u001b[0m\n\u001b[0m\u001b[1;32m      3\u001b[0m \u001b[0;34m\u001b[0m\u001b[0m\n\u001b[1;32m      4\u001b[0m \u001b[0;31m# parametros esteticos de seaborn\u001b[0m\u001b[0;34m\u001b[0m\u001b[0;34m\u001b[0m\u001b[0;34m\u001b[0m\u001b[0m\n\u001b[1;32m      5\u001b[0m \u001b[0msns\u001b[0m\u001b[0;34m.\u001b[0m\u001b[0mset_palette\u001b[0m\u001b[0;34m(\u001b[0m\u001b[0;34m\"deep\"\u001b[0m\u001b[0;34m,\u001b[0m \u001b[0mdesat\u001b[0m\u001b[0;34m=\u001b[0m\u001b[0;36m.6\u001b[0m\u001b[0;34m)\u001b[0m\u001b[0;34m\u001b[0m\u001b[0;34m\u001b[0m\u001b[0m\n",
      "\u001b[0;31mModuleNotFoundError\u001b[0m: No module named 'seaborn'"
     ]
    }
   ],
   "source": [
    "import matplotlib.pyplot as plt # importando matplotlib\n",
    "import seaborn as sns # importando seaborn\n",
    "\n",
    "# parametros esteticos de seaborn\n",
    "sns.set_palette(\"deep\", desat=.6)\n",
    "sns.set_context(rc={\"figure.figsize\": (8, 4)})"
   ]
  },
  {
   "cell_type": "markdown",
   "metadata": {},
   "source": [
    "https://relopezbriega.github.io/blog/2015/06/27/probabilidad-y-estadistica-con-python/"
   ]
  },
  {
   "cell_type": "code",
   "execution_count": null,
   "metadata": {},
   "outputs": [],
   "source": []
  }
 ],
 "metadata": {
  "kernelspec": {
   "display_name": "Python 3",
   "language": "python",
   "name": "python3"
  },
  "language_info": {
   "codemirror_mode": {
    "name": "ipython",
    "version": 3
   },
   "file_extension": ".py",
   "mimetype": "text/x-python",
   "name": "python",
   "nbconvert_exporter": "python",
   "pygments_lexer": "ipython3",
   "version": "3.7.1"
  }
 },
 "nbformat": 4,
 "nbformat_minor": 2
}
