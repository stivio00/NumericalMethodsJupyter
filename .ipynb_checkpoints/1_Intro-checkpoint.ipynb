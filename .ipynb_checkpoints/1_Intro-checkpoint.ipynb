{
 "cells": [
  {
   "cell_type": "markdown",
   "metadata": {},
   "source": [
    "# Métodos Númericos\n",
    " + Universidad Tenológica de Panamá\n",
    " + por Stephen Krol\n",
    "<img src=\"Images/FIMLOGO.png\" width=\"100\" height=\"100\" />\n",
    "<img src=\"Images/planeFEM.jpg\" width=\"200\" height=\"100\" />"
   ]
  },
  {
   "cell_type": "markdown",
   "metadata": {},
   "source": [
    "## 1. Introducción\n",
    "\n",
    "El curso de métodos númericos propone visitar métodos númericos importantes para cada seccion del analisis numerico previamnte expuesto en el contenido del curso, y en el proceso desarrollar la filosofia detras da cada método, y su intución en el desarrollo. En este curso seguiremos un orden natural desde los métodos mas sencillos para buscar raices hasta metodos para ecuaciones diferenciales parciales. Para desarrollar los metodos numericos tenemos que entender la comportamineto de los numeros reales, y su aproximación finita como el caso de los numeros de coma flotante ademas de otros topicos introductorios que se expondran en esta sección.\n"
   ]
  },
  {
   "cell_type": "markdown",
   "metadata": {},
   "source": [
    "## 1.1 Contenido\n",
    "### Resumen\n",
    "\n",
    "Numerical analysis is the study of algorithms that use numerical approximation (as opposed to general symbolic manipulations) for the problems of mathematical analysis (as distinguished from discrete mathematics). Numerical analysis naturally finds application in all fields of engineering and the physical sciences, but in the 21st century also the life sciences, social sciences, medicine, business and even the arts have adopted elements of scientific computations. As an aspect of mathematics and computer science that generates, analyzes, and implements algorithms, the growth in power and the revolution in computing has raised the use of realistic mathematical models in science and engineering, and complex numerical analysis is required to provide solutions to these more involved models of the world.\n",
    "\n",
    "### Objetivos\n",
    "\n",
    "Implementar y diseñar diferentes algoritmos para resolver modelos comunmente utilizados en la inegnieria mecanica.\n",
    "Aprender a implenetar algoritmos en un lenguaje de programación real, analizar su implmentacion. Preparara graficas con calidad de publicación. Resolver los métodos númericos de forma manual. Aplicar los metodos númericos a problemas aplicados en la ingeniería mécanica.\n",
    "\n",
    "### Contenido Resumido\n",
    "\n",
    " 1. **Introducción (intro)** _(1 Semana)_\n",
    " 2. **Raices (root)**  _(2 semana)_\n",
    " 3. **Sistemas de ecuaciones lineales (Lin alg)** _(3 semana)_\n",
    " 4. **Calculo diferencial (diff/int)** _(6 semana)_\n",
    " 6. **Interpolación** _(10 semana)_\n",
    " 7. **Ecuaciones diferenciales Parciales (PDE)** _(11 y 12 semana)_\n",
    " "
   ]
  },
  {
   "cell_type": "markdown",
   "metadata": {},
   "source": [
    "### Contenido Expandido\n",
    "\n",
    " 1. **Introducción (intro)** _(1 Semana)_ [link](#)\n",
    " \n",
    "   * Contenido, Resumen y Objetivos.\n",
    "   * Horario, Metodologia, Planificación, Calificaciones y Literatura.\n",
    "   * Introducción a Python, Numpy y Matplotlib.\n",
    "   * Sistemas Numericos.\n",
    "   * Error numerico\n",
    "   * Practicas   \n",
    "   \n",
    "   \n",
    " 2. **Raices (root)**  _(2 semana)_ [link](2_Raices.ipynb)\n",
    " \n",
    "     - Introducción a Busqueda de Raices.\n",
    "     - Raices Reales.\n",
    "     - Metodo de Biseccion.\n",
    "     - Metodo de Posición Falsa.\n",
    "     - Metodo de Secante\n",
    "     - Metodo de Newton-Rhapson\n",
    "   * Raices Complejas\n",
    "     - Bairstow\n",
    "     - Muller\n",
    "   * Raices de polinomios\n",
    "     - Metodo de Muller\n",
    "     \n",
    "     \n",
    " 3. **Sistemas de Ecuaciones Lineales (Lin alg)** _(3 semana)_ [link](3_SistemasLineales.ipynb)\n",
    " \n",
    "   * Sistema de ecuaciones lineales y notación matricial\n",
    "     - Sistema de Ecuaciones\n",
    "     - Rango e Independencia Lineal.\n",
    "     - Matrices y Vectores\n",
    "     - Matriz Aumentada\n",
    "   * Transformaciones Lineales\n",
    "     - Scala, Rotacion, identidad e inversa.\n",
    "   * Métodos Directos\n",
    "     - Reduccion gaussiana\n",
    "     - Metodo Gauss-Jordan\n",
    "     - Calculo de la inversa\n",
    "   * Metodos Iterativos\n",
    "     - Metodo Gauss-Seidel.\n",
    "     - Metodo de Jacobi.\n",
    "   * Otros\n",
    "     - Descomposicion LU\n",
    "     - Descoomposicion Espectral\n",
    "     - Sistemas esparcidos, y metodos de iteracion.\n",
    "     \n",
    "     \n",
    " 4. **Calculo diferencial (diff/int)** _(6 semana)_\n",
    " \n",
    "   * Derivación Númerica\n",
    "     - Series de taylor\n",
    "     - Diferenciación de primer orden y segundo orden\n",
    "     - Formulacion general\n",
    "   * Integración Númerica\n",
    "     - Interal de Riemann\n",
    "     - Regla de Simpson\n",
    "     - Metodo de Euler\n",
    "     \n",
    " 5. **Ecuaciones Diferenciales Ordinarias (ODE)** _(7 semana)_\n",
    " \n",
    "   * Ecuaciones Ordinarias de Primer Orden  \n",
    "     - Método de euler\n",
    "     - Método Runge-Kutta\n",
    "       + Primer Orden\n",
    "       + Cuarto Orden\n",
    "   * Sistema de Ecuaciones Diferenciales Ordinarias \n",
    "     - Método de Euler\n",
    "     - Método Runge-Kutta\n",
    "       + Primer Orden\n",
    "       + Cuarto Orden\n",
    "       \n",
    " 6. **Interpolación y Regresión** _(10 semana)_\n",
    " \n",
    "   * Interpolacón\n",
    "       * Interpolacion Lineal y Cuadratica.\n",
    "       * Polinomios de Lagrange\n",
    "       * Polinomios de Legendre\n",
    "       * Aproximacion de Taylor\n",
    "       * Aproximacion de Fourier\n",
    "   * Regresión\n",
    "       * Regresion Lineal\n",
    "       * Métodos de Minimos Cuadrados\n",
    "       * Regresión No Lineal\n",
    "   \n",
    "   \n",
    " 7. **Ecuaciones diferenciales Parciales (PDE)** _(11 y 12 semana)_\n",
    " \n",
    "   * Introducción\n",
    "     - Clasificacion y tipos\n",
    "     - Condiciones de frontera\n",
    "     - Estabilidad, consistencia y convergencia.\n",
    "   * Sistemas  Ellipticos\n",
    "     - Esquemas centrales\n",
    "     - Soluciones iterativas\n",
    "   * Sistemas Parabolicos\n",
    "     - Crank-Nicholson\n",
    "     - Analisis de Stabilidad\n",
    "   * Systemas Hyperbolicos\n",
    "     - Esquemas de marcha\n",
    "     - Analisis de Estabilida\n",
    " "
   ]
  },
  {
   "cell_type": "markdown",
   "metadata": {},
   "source": [
    "## 1.2  Planeación y Horarios\n",
    "\n",
    "Semana 4: Repaso y practicas\n",
    "\n",
    "1. Examen parcial numero 1 (5semana)\n",
    "  * ( 1. Introduccion, 2 Raices, 3 Systemas Lineales)\n",
    "\n",
    "Semana 8: Repaso y Practicas  \n",
    "  \n",
    "2. Examen parcial numero 2 (9semana)\n",
    "  * ( 4. derivacion e integracion numerica 5. Ecuaciones diferenciales)\n",
    "\n",
    "Semana 13: Repaso y Practicas\n",
    "\n",
    "3. Examen parcial numero 3 ( 14 semana)\n",
    "  * ( 6. Interpolacion, 7 Ec. Dif. PArciales)\n",
    "\n",
    "Semana 15: Practicas Finales\n",
    "\n",
    "+ Examen Semestral \n",
    "  * (Newton-Rhapson, Gauss-Jordan, Diferenciacion, Regla de simpson, Metodo Runge-Kutta 4°, Polinomio da lagrange, Metodos para sistemas Elipticos)\n",
    "\n",
    "\n",
    "## Competencias a desarrollar\n",
    "+ Habilidad de pensamiento analitico.\n",
    "+ Pensamiento algorithmico. Solucion de problemas por medio de algoritmos y secuencias de operaciones. \n",
    "+ Procesamiento de datos por medio de software.\n",
    "+ Automatizacion de procesos y tareas.\n",
    "+ Contruccion de software personalizado.\n",
    "+ Diseño y desarrolo de software\n",
    "+ Aplicacion de metodos numericos pararesolver prblemas en ingenieria.\n",
    "\n",
    "\n",
    "## Literatura\n",
    "\n",
    "#### Libro de texto:\n",
    "* Chapra, Canale, Introducción a los Métodos Númericos para la Ingeniería. McGraw-Hill 2016.\n",
    "\n",
    "#### Referencias:\n",
    "* R. Burden y  J. D. Faires ; Análisis Numérico 9na edicion.\n",
    "* Hamming, R. W. ; Numerical Methods for Scentist and Engineers. Second Edition. Dover Publications.\n",
    "* Nakamura ; Metodos Numericos Aplicados Con Software\n",
    "\n",
    "#### Extras:\n",
    "+ Tutorial de Python (en español): http://docs.python.org.ar/tutorial/3/index.html\n",
    "+ Tutorial de IPython(en ingles), proyecto padre de Jupyter: https://ipython.readthedocs.io/en/stable/interactive/tutorial.html\n",
    "+ Tuotrial completo de Python para ciencia (en ingles) : https://www.scipy-lectures.org/intro/index.html\n",
    "\n",
    "#### Ejemplos de Note book en la \"nube\"\n",
    "+ Microsoft: https://notebooks.azure.com/\n",
    "+ Google: https://colab.research.google.com"
   ]
  },
  {
   "cell_type": "markdown",
   "metadata": {},
   "source": [
    "## Calificaciones\n",
    "| Calificación       |  Porcetanje  |    descripción          |\n",
    "|--------------------|--------------|-------------------------|\n",
    "| Total de examenes  |  **45%**     |_Cada examen parcial 15%_|\n",
    "| Tareas y Practicas |  10%         |_dos tarea y tres practicas_|\n",
    "| Laboratorios       |  15%         |_se detallara en el laboratorio_     |\n",
    "|  |  |  |\n",
    "| Semestral          | **30%**      |   Examen Final           |\n",
    "| ____ | ____  |________|\n",
    "|Total $\\sum$        | ***100%***   |           ---            |\n"
   ]
  },
  {
   "cell_type": "code",
   "execution_count": 1,
   "metadata": {},
   "outputs": [
    {
     "name": "stdout",
     "output_type": "stream",
     "text": [
      " Nota final: 70\n"
     ]
    }
   ],
   "source": [
    "# Ejemplo de calificaciones \n",
    "examenes    = [57, 84, 75]\n",
    "tareas      = [100, 100, 100, 0, 100]\n",
    "#tareas      = [0, 0, 0, 0, 0]\n",
    "laboratorio = [89]\n",
    "semestral   = [68]\n",
    "\n",
    "total = sum(examenes)/3.0*(.45) + sum(tareas)/5.0*(.1) + sum(laboratorio)*(.1) + sum(semestral)*(0.30)\n",
    "print(\" Nota final: %.0f\"%(total))"
   ]
  },
  {
   "cell_type": "markdown",
   "metadata": {},
   "source": [
    "\n",
    "## Metodología\n",
    "En el procesos de enseñanza utilizaremos un libro interactivo (jupyter notebook) el cual es un conjunto de celdas. Cada celda puede ser de dos tipo diferente: texto o \n",
    "Como prime paso es la definicion del problema, se expondra un ejemplo tipo caso, donde un problema general y abstracto sin contexto se expondra y despues si es posible resolver de fomrma analitica. Despues crear la intucion detras del metodo numerico y desarrollar el algoritmo.\n",
    "Los métodos numericos se pueden derivar del analisis numerico. Despues podemos definir un algoritmo que implementa la solución. Por ultimo este algoritmo normalmente se documenta en un diagrama de flujo, pseudocodigo o codigo fuente en algun lenguaje de programación. \n",
    "\n",
    "#### Formato de tarea y practicas\n",
    "Para enterga de tarea por favor no crear pagina de presentación, utilizar una cabecera para ahorrar papel. Y no crear pagias nuevas entre secciones. utilizar un formato de reporte para ahorrar papel.\n",
    "##### Cabecera\n",
    "* Universidad - Facultad - Carrera <br>\n",
    "* Asignatura - codigo de asignatura - instructor <br>\n",
    "* Titulo - Tarea # N - fecha<br>\n",
    "* Nombre apllellido - cedula - codigo de grupo \n",
    "\n",
    "#### Secciones\n",
    "* Cabecera.\n",
    "* Cotenido (outline).\n",
    "* Cuerpo.\n",
    "\n",
    "##### Espesificaciones\n",
    "Espaciado simple, tipografia \"sans serif\" como Helvetica o Arial. Sin multiple espacios epacios entre secciones. \n",
    "\n",
    "### Definiciones Basicas\n",
    "+ *Método Númerico* : Algoritmo para solucionar un problema\n",
    "+ *Algoritmo* : Secuencia de pasos finitos. Que resuelven un problema.\n",
    "+ *Iteración* : ...\n",
    "+ *Lenguaje de programación*: nos permite implemntar un algoritmo para ejecutar en un computadora\n",
    "+ *Python*: lenguaje de proposito general, interpretado y de alto nivel.\n",
    "+ *Librerias* : Conjunto de funciones, clases y tipos predefinidos y documentados para que extienden el lenguaje de programacion\n",
    "+ *Libreria estandard de Python* : Librería de proposito general,, para entrada y salida de datos.\n",
    "+ *Numpy* : Libreria dePython para manejo de arreglos, vectores y matrices.\n",
    "+ *Matplotlib* : libreria de python para graficar.\n",
    "+ *Scipy* : Libreria de python con metodos numericos implementados profesionalmente listos para usar.\n",
    "+ *Notebook*: metafora de computacion para la creacion de documentos interactivos, usado en software comerciales como Mathematica, Maple, MathCAD y software libres como wxMaxima y Jupyter o IPython.\n",
    "+ *Jupyter* : Entorno de desarrollo para python utiliza el concepto de notebooks por medio de explorador, y un servidor local o remoto."
   ]
  },
  {
   "cell_type": "markdown",
   "metadata": {},
   "source": [
    "### Introducción a Python"
   ]
  },
  {
   "cell_type": "markdown",
   "metadata": {},
   "source": [
    "Para poder importar un modeulo dentro de las librerias en Python utilizamos la palabra reservada `import` seguida del nombre de modulo. Por ejemplo, el modulo `math` contiene las funciones mathematicas `sin` y `cos`."
   ]
  },
  {
   "cell_type": "code",
   "execution_count": 2,
   "metadata": {},
   "outputs": [],
   "source": [
    "import math"
   ]
  },
  {
   "cell_type": "markdown",
   "metadata": {},
   "source": [
    "Y para utilizar estas funciones basta utilizar las funciones dentro de el modulo tenmos que escribir el nombre del modulo despues el acceso del modulo utilizamos el operador `.` (punto) seguido del nombre de la funcion, en este caso sin. Para llamar la función utilizamos el operador de llamado `()`. Por ejemplo  para calcular el seno de $\\frac{1}{2}$ podemos escribir `math.sin(.5)`"
   ]
  },
  {
   "cell_type": "code",
   "execution_count": 3,
   "metadata": {},
   "outputs": [
    {
     "data": {
      "text/plain": [
       "0.479425538604203"
      ]
     },
     "execution_count": 3,
     "metadata": {},
     "output_type": "execute_result"
    }
   ],
   "source": [
    "math.sin(.5)"
   ]
  },
  {
   "cell_type": "markdown",
   "metadata": {},
   "source": [
    "Para importar los modulos principales podemos crear un alias para no tener que escribir el nombre completo del modulo, podemos importarlo como `import modulo as alias`"
   ]
  },
  {
   "cell_type": "code",
   "execution_count": 4,
   "metadata": {},
   "outputs": [],
   "source": [
    "import numpy as np\n",
    "import scipy as sp\n",
    "import matplotlib.pyplot as plt"
   ]
  },
  {
   "cell_type": "code",
   "execution_count": 5,
   "metadata": {},
   "outputs": [],
   "source": [
    "# Esto es un comentraio y va a ser ignorado\n",
    "# Variables definicion y asignacion\n",
    "x = 2 \n",
    "Pi = 3.1416\n",
    "diametro = 15\n",
    "titulo = \"Cálculo de area\""
   ]
  },
  {
   "cell_type": "code",
   "execution_count": 6,
   "metadata": {},
   "outputs": [
    {
     "name": "stdout",
     "output_type": "stream",
     "text": [
      "El valor de x\n",
      "2\n",
      "Cálculo de area\n"
     ]
    }
   ],
   "source": [
    "# Mostrar en la consola\n",
    "print(\"El valor de x\")\n",
    "print(x)\n",
    "print(titulo)"
   ]
  },
  {
   "cell_type": "code",
   "execution_count": 7,
   "metadata": {},
   "outputs": [
    {
     "data": {
      "text/plain": [
       "int"
      ]
     },
     "execution_count": 7,
     "metadata": {},
     "output_type": "execute_result"
    }
   ],
   "source": [
    "#Conocer los tipos de datos\n",
    "type(x)"
   ]
  },
  {
   "cell_type": "code",
   "execution_count": 8,
   "metadata": {},
   "outputs": [
    {
     "name": "stdout",
     "output_type": "stream",
     "text": [
      "333\n"
     ]
    }
   ],
   "source": [
    "#convertir tipos de datos\n",
    "x = int(\"333\")\n",
    "print(x)"
   ]
  },
  {
   "cell_type": "code",
   "execution_count": 9,
   "metadata": {},
   "outputs": [
    {
     "name": "stdout",
     "output_type": "stream",
     "text": [
      "8\n",
      "9\n",
      "64\n",
      "0.4\n",
      "1024\n"
     ]
    }
   ],
   "source": [
    "#Operaciones aritmeticas para tipos numericos( int, float)\n",
    "# suma\n",
    "print(2+6)\n",
    "#resta\n",
    "print(10-1)\n",
    "#multiplicacion\n",
    "print(16*4)\n",
    "#Division\n",
    "print(4/10)\n",
    "#expo\n",
    "print(2**10)\n",
    "\n",
    "#Asignacion y operacion \n",
    "area = Pi*(diametro/2)**2"
   ]
  },
  {
   "cell_type": "code",
   "execution_count": 10,
   "metadata": {},
   "outputs": [
    {
     "name": "stdout",
     "output_type": "stream",
     "text": [
      "hola -  mundo!\n",
      "2\n",
      "Hola -  mundo!\n"
     ]
    }
   ],
   "source": [
    "# Operaciones con cadenas (str)\n",
    "#Concatenacion\n",
    "cad1 = \"hola - \"\n",
    "cad2 = \" mundo!\"\n",
    "cad_total = cad1 + cad2\n",
    "print(cad_total)\n",
    "\n",
    "#Contar las o\n",
    "print(cad_total.count('o'))\n",
    "\n",
    "#Invitamos a copiar el nombre de la variable y colocar el \n",
    "#operador punto y presionra la tecla TAB para explorar \n",
    "#los diferentes metodos de str\n",
    "\n",
    "#Capitalizar\n",
    "print(cad_total.capitalize())\n"
   ]
  },
  {
   "cell_type": "code",
   "execution_count": 11,
   "metadata": {},
   "outputs": [
    {
     "name": "stdout",
     "output_type": "stream",
     "text": [
      "manzana\n",
      "['manzana', 'Uvas', 'pera']\n"
     ]
    },
    {
     "data": {
      "text/plain": [
       "'Pera'"
      ]
     },
     "execution_count": 11,
     "metadata": {},
     "output_type": "execute_result"
    }
   ],
   "source": [
    "# Listas\n",
    "\n",
    "#creacion con [] y seprara elementos (objetos) con ,\n",
    "canasta = [\"manzana\", \"aguacate\", \"pera\"]   # En este caso es un alista de Str\n",
    "\n",
    "\n",
    "#acceder al primer elemento\n",
    "print(canasta[0])\n",
    "\n",
    "#cambiar el segundo elemento\n",
    "canasta[1] = \"Uvas\"\n",
    "\n",
    "#mostrar la lista entera\n",
    "print(canasta)\n",
    "\n",
    "#capitalizar el primer y ultimo elemento\n",
    "canasta[0].capitalize()\n",
    "canasta[-1].capitalize() # -1 se refiere al ultimo elmento, 2 tambien es valido\n"
   ]
  },
  {
   "cell_type": "code",
   "execution_count": 12,
   "metadata": {},
   "outputs": [
    {
     "ename": "IndexError",
     "evalue": "list index out of range",
     "output_type": "error",
     "traceback": [
      "\u001b[0;31m---------------------------------------------------------------------------\u001b[0m",
      "\u001b[0;31mIndexError\u001b[0m                                Traceback (most recent call last)",
      "\u001b[0;32m<ipython-input-12-e0b0834b3e00>\u001b[0m in \u001b[0;36m<module>\u001b[0;34m()\u001b[0m\n\u001b[1;32m      1\u001b[0m \u001b[0;31m# Vamos a causar un error\u001b[0m\u001b[0;34m\u001b[0m\u001b[0;34m\u001b[0m\u001b[0;34m\u001b[0m\u001b[0m\n\u001b[0;32m----> 2\u001b[0;31m \u001b[0mprint\u001b[0m\u001b[0;34m(\u001b[0m\u001b[0mcanasta\u001b[0m\u001b[0;34m[\u001b[0m\u001b[0;36m3\u001b[0m\u001b[0;34m]\u001b[0m\u001b[0;34m)\u001b[0m\u001b[0;34m\u001b[0m\u001b[0;34m\u001b[0m\u001b[0m\n\u001b[0m",
      "\u001b[0;31mIndexError\u001b[0m: list index out of range"
     ]
    }
   ],
   "source": [
    "# Vamos a causar un error\n",
    "print(canasta[3])"
   ]
  },
  {
   "cell_type": "code",
   "execution_count": null,
   "metadata": {},
   "outputs": [],
   "source": [
    "#Cuantos elementos tiene?\n",
    "len(canasta)   #Length"
   ]
  },
  {
   "cell_type": "code",
   "execution_count": null,
   "metadata": {},
   "outputs": [],
   "source": [
    "# Tipos booleanos \n",
    "print(True)\n",
    "print(False)\n",
    "print(type(True))\n",
    "\n",
    "#Operaciones en tipos booleanos\n",
    "verdadero = True\n",
    "print(verdadero)\n",
    "print(not verdadero)\n",
    "print(not not verdadero)\n",
    "\n",
    "#Operaciones que producen booleanos a partir de otros tipos\n",
    "edad = 15\n",
    "resultado = edad >= 18\n",
    "print(\"Es mayor de edad? \" + str(resultado))\n",
    "\n",
    "edad = 25\n",
    "resultado = edad >= 18\n",
    "print(\"Es mayor de edad? \" + str(resultado))\n",
    "\n",
    "# < menor que , > mayor que, == igual que, etc"
   ]
  },
  {
   "cell_type": "code",
   "execution_count": null,
   "metadata": {},
   "outputs": [],
   "source": [
    "# Ejecucion condicional\n",
    "\n",
    "edad = 19\n",
    "resultado = edad >= 18\n",
    "\n",
    "if resultado == True :\n",
    "    print(\"Felicidades eres mayor de edad.\")\n",
    "else:\n",
    "    print(\"No eres mayor de edad.\")\n",
    "\n",
    "# if condicion:\n",
    "#    bloque de codigo a ejecutar si condicion es True\n",
    "# else:\n",
    "#    en condicion contraria, osea False"
   ]
  },
  {
   "cell_type": "code",
   "execution_count": null,
   "metadata": {},
   "outputs": [],
   "source": [
    "# Ejecucion repetida\n",
    "# introduccion al concepto de flujo de ejecucion linea a linea como un cursor\n",
    "\n",
    "final = 10\n",
    "print(\"La suma de los numeros enteros de 0 a \" + str(final))\n",
    "\n",
    "contador = 0\n",
    "acumulador = 0\n",
    "\n",
    "while contador <= final: \n",
    "    acumulador = acumulador + contador\n",
    "    contador = contador + 1\n",
    "    #print(\"acumulador: \" + str(acumulador))\n",
    "\n",
    "print(\"es :\" + str(acumulador))\n",
    "    "
   ]
  },
  {
   "cell_type": "code",
   "execution_count": null,
   "metadata": {},
   "outputs": [],
   "source": [
    "#Iteracion de iterable( o listas)\n",
    "\n",
    "for fruta in canasta:\n",
    "    print(fruta)"
   ]
  },
  {
   "cell_type": "code",
   "execution_count": null,
   "metadata": {},
   "outputs": [],
   "source": [
    "for fruta in canasta:\n",
    "    print(fruta.capitalize() + \" fresca\")"
   ]
  },
  {
   "cell_type": "code",
   "execution_count": null,
   "metadata": {},
   "outputs": [],
   "source": [
    "# combinacion de algunas estrucutra de control de flujo\n",
    "for fruta in canasta:\n",
    "    if fruta[-1] == 's':\n",
    "        print(fruta.capitalize() + \" frescas\")\n",
    "    else:\n",
    "        print(fruta.capitalize() + \" fresca\")        \n",
    "        \n",
    "# Sorpresa las cadenas son listas de caracteres"
   ]
  },
  {
   "cell_type": "code",
   "execution_count": null,
   "metadata": {},
   "outputs": [],
   "source": [
    "# IMPORTANTE!: definicion de funciones\n",
    "\n",
    "def procesar_fruta(frut):\n",
    "    if frut[-1] == 's':\n",
    "        return frut.capitalize() + \" frescas\"\n",
    "    else:\n",
    "        return frut.capitalize() + \" fresca\"\n",
    "\n",
    "print(procesar_fruta(\"Mandarina\"))\n",
    "print(procesar_fruta(\"Sandias\"))\n"
   ]
  },
  {
   "cell_type": "code",
   "execution_count": null,
   "metadata": {},
   "outputs": [],
   "source": [
    "#reutilizacion de una funcion previamente definida\n",
    "for fruta in canasta:\n",
    "    print(procesar_fruta(fruta))"
   ]
  },
  {
   "cell_type": "code",
   "execution_count": null,
   "metadata": {},
   "outputs": [],
   "source": [
    "# Funciones  matematicas\n",
    "import math\n",
    "\n",
    "math.sin(math.pi/2)  #sin(90°)\n",
    "\n"
   ]
  },
  {
   "cell_type": "code",
   "execution_count": null,
   "metadata": {},
   "outputs": [],
   "source": [
    "# Tarea: definir una funcion que transforme grados a radianes\n"
   ]
  },
  {
   "cell_type": "code",
   "execution_count": null,
   "metadata": {},
   "outputs": [],
   "source": [
    "#Extra milla\n",
    "#Creacion de lista por rangos\n",
    "\n",
    "lista_de_numeros_0_100 = list(range(0,11))\n",
    "print(lista_de_numeros_0_100)"
   ]
  },
  {
   "cell_type": "code",
   "execution_count": null,
   "metadata": {},
   "outputs": [],
   "source": [
    "#suma de los elementos de una lista\n",
    "sum(lista_de_numeros_0_100)"
   ]
  },
  {
   "cell_type": "code",
   "execution_count": null,
   "metadata": {},
   "outputs": [],
   "source": [
    "#Tarea como implementar la funcion sum?\n"
   ]
  },
  {
   "cell_type": "code",
   "execution_count": null,
   "metadata": {},
   "outputs": [],
   "source": [
    "#Tuplas\n",
    "tupla = (1,2,3)\n",
    "print(tupla)\n",
    "\n",
    "#Diccionarios\n",
    "persona1 = {\"nombre\": \"Stephen\", \"apellido\": \"Krol\", \"edad\":28} \n",
    "print(persona1)\n",
    "print(persona1[\"nombre\"])"
   ]
  },
  {
   "cell_type": "markdown",
   "metadata": {},
   "source": [
    "### Introduccion a numpy\n",
    "Libreria para manejo de arreglos(vectores y matrices). Es importante mecionar que para manejo numerico es mas eficiente utilizar objetos tipo ndarray que listas.\n",
    "Por lo tanto para manejo de vectores y matrices sufuientemente grandes utilizaremos `np.array([])` para construir arreglos numericos. Ademas obtenemos muchas operacion predefinidas en la libreria, como producto punto, producto cruz y operaciones matriciales."
   ]
  },
  {
   "cell_type": "code",
   "execution_count": null,
   "metadata": {},
   "outputs": [],
   "source": [
    "import numpy as np"
   ]
  },
  {
   "cell_type": "code",
   "execution_count": null,
   "metadata": {},
   "outputs": [],
   "source": [
    "a = np.array([1,2,3], dtype=np.int)\n",
    "b = np.array([2,3,2])\n",
    "display(a)"
   ]
  },
  {
   "cell_type": "code",
   "execution_count": null,
   "metadata": {},
   "outputs": [],
   "source": [
    "a.dot(b)"
   ]
  },
  {
   "cell_type": "code",
   "execution_count": null,
   "metadata": {},
   "outputs": [],
   "source": [
    "arreglo = np.array([1,2,3,4,5,6,7,8,9])\n",
    "matriz = arreglo.reshape(3,3)"
   ]
  },
  {
   "cell_type": "code",
   "execution_count": null,
   "metadata": {},
   "outputs": [],
   "source": [
    "matriz"
   ]
  },
  {
   "cell_type": "code",
   "execution_count": null,
   "metadata": {},
   "outputs": [],
   "source": [
    "matriz.shape"
   ]
  },
  {
   "cell_type": "code",
   "execution_count": null,
   "metadata": {},
   "outputs": [],
   "source": [
    "arreglo[2] = 9999"
   ]
  },
  {
   "cell_type": "code",
   "execution_count": null,
   "metadata": {},
   "outputs": [],
   "source": [
    "matriz"
   ]
  },
  {
   "cell_type": "code",
   "execution_count": null,
   "metadata": {},
   "outputs": [],
   "source": [
    "matriz.dot(a)"
   ]
  },
  {
   "cell_type": "code",
   "execution_count": null,
   "metadata": {},
   "outputs": [],
   "source": [
    "matriz * a"
   ]
  },
  {
   "cell_type": "code",
   "execution_count": null,
   "metadata": {},
   "outputs": [],
   "source": [
    "#Pedir ayuda\n",
    "help(np.linspace)"
   ]
  },
  {
   "cell_type": "code",
   "execution_count": null,
   "metadata": {},
   "outputs": [],
   "source": [
    "li = np.linspace(0,10,11)"
   ]
  },
  {
   "cell_type": "code",
   "execution_count": null,
   "metadata": {},
   "outputs": [],
   "source": [
    "print(li)"
   ]
  },
  {
   "cell_type": "code",
   "execution_count": null,
   "metadata": {},
   "outputs": [],
   "source": [
    "type(li)"
   ]
  },
  {
   "cell_type": "markdown",
   "metadata": {},
   "source": [
    "### Plot"
   ]
  },
  {
   "cell_type": "code",
   "execution_count": null,
   "metadata": {},
   "outputs": [],
   "source": [
    "import matplotlib.pyplot as plt"
   ]
  },
  {
   "cell_type": "code",
   "execution_count": null,
   "metadata": {},
   "outputs": [],
   "source": [
    "plt.plot([1,2,3],[1,2,3])"
   ]
  },
  {
   "cell_type": "code",
   "execution_count": null,
   "metadata": {},
   "outputs": [],
   "source": [
    "plt.plot(li,np.sin(li))"
   ]
  },
  {
   "cell_type": "code",
   "execution_count": null,
   "metadata": {},
   "outputs": [],
   "source": [
    "li = np.linspace(0,10,50)\n",
    "plt.plot(li,np.sin(li))\n"
   ]
  },
  {
   "cell_type": "markdown",
   "metadata": {},
   "source": [
    "## Systemas Numericos"
   ]
  },
  {
   "cell_type": "markdown",
   "metadata": {},
   "source": [
    "Los numeros puede pertenecer a un conjuto denominado $\\mathbb R$ o conjunto de numeros reales. \n",
    "Por ejemplo:\n",
    "$ 1.8992222  \\in \\mathbb R$.\n",
    "\n",
    "Los numeros real pueden poseer infinita presición y son utilizados ampliamente en matematicas en especial en analisis( o calcula infinito decimal). Existe el inconveniente que la computadoras son maquinas finitas, finitas en el espacio de memoria y finitas en el tiempo de calculo. Por lo tanto, es necesario delimitar los numeros reales a números de finita precición. Pero antes vamos recordad otros sistemas numerico\n",
    "El conjunto de numero naturales $ \\mathbb N $"
   ]
  },
  {
   "cell_type": "code",
   "execution_count": null,
   "metadata": {},
   "outputs": [],
   "source": [
    "naturales = [1,2,3,4,5,6]\n",
    "type(naturales[0])"
   ]
  },
  {
   "cell_type": "markdown",
   "metadata": {},
   "source": [
    "Los números naturales son los numeros que utilizamos para contar.\n",
    "\n",
    "Los numeros de base binaria, para representar un numero normalmente utilizamos un numero fijo de simbolos, la cantidad disponible de simbolos y su posicion determina el peso de su digito. por ejemplo Un sistema de base dies o decimal (10 digitos) utilizamos los simboloy de origine arabico \"0,1,2,3,4,5,6,7,8,9\" cada uno representa una cantidad definida que pueden representar maximo la 9. La posicion de derecha a izquierda representa el \"peso de dicho numero\" y como el siguiente numero es 10 el proximo digito va a se amplificado ( o multiplicado) por esta tamño, y siguiente a este 10 *10 . Podemos defnir una estrucutra unica para respresentar numeros decimales como la posicion es el exponente de 10\n",
    "\n",
    "Por ejemplo: el numero 194 =  4 * 10^0 + 9 *10^1 + 1 * 10^2 = 4 + 90 + 100\n",
    "\n",
    "Teninedo en cuenta que el peso de le digito depende de su posición podemos definir cualquier sistema númerico \n",
    "Un sistema  comunmente utilizado en computación es el sistema hexadecimal que utiliza una base de 16 simbolos\n",
    "0,1,2,3,4,5,6,7,8,9,A,B,C,D,E,F y perimite escribir numeros como 256 = FF.\n",
    "\n",
    "\n",
    "El sistema que utiliza internamente las computadoras para representar numeros es el sistema binario. El sistema utiliza dos simbolos para representar los numeros, por ejemplo 0,1 o estados reales como 0 votios o  5 voltios , etc. DEbido a la cantidad finita en la memoria de una computadora podemos espesificar una cantidad de digitos binarios (o en ingles \"**bi**nary digi**ts**\" o **bits**).\n",
    "\n",
    "Al seleccionar una cantidad fijas de bits automaticamente delimitamos el numero de posible representaciones de numeros. si utilizamos 1 digito:\n",
    "0 , 1 : podemos representar dos estados\n",
    "\n",
    "Si escogemos 2 digitos:\n",
    "00, 01, 10, 11: podemos representar 4 estados\n",
    "\n",
    "Si escogemos 3 digitos:\n",
    "000, 001, 010,  011, 100, 101, 110, 111 : podemos representar 8 estados\n",
    "\n",
    "La formula para saber cunato estados podemos representar por cantidad de digitos (N) es \n",
    "\n",
    "$$ 2^N $$\n",
    "\n",
    "si asignamos una rregla para \"codificar\" cada numero natural a un numero binario:\n",
    "0 = 000\n",
    "1 = 001\n",
    "2 = 010\n",
    "3 = 011\n",
    "4 = 100\n",
    "5 = 101\n",
    "6 = 110\n",
    "7 = 111\n",
    "\n",
    "Podemos ver que al utilizar 3 bits podemos representar 8 numeros  en este caso del 0 a 7, si deseamos saber el numero entero maximo podemos utilizar la formula \n",
    "$$ 2^N -1 $$\n",
    "\n",
    "\n",
    "Nuestro problema de representar un numero entero natural en una computadora que utiliza una memoria  de estado binario es facilmente resuelto con la codificacion expuesta.\n",
    "\n",
    "Pregunta  cuantos bits minimos necesitamos para representar un 1 millon?.\n",
    "\n",
    "Es comun agrupar conjuntos de 8 bits en una unidad superior conocida como Byte \n",
    "$$ 1 Byte = 8 bits$$\n",
    "Por lo tanto un Byte de memoria es capas de representar numeros enteros positivos de 0 a 255.\n",
    "\n",
    "Existe una codificacion de orden superior que agrupa un caracter ( o letra en un byte) estas reglas de codificacion permiter persistir valores de texto en memoria, y esta fuera del alcance de este libro. estas reglas de codificacion mas estrucutrad de orden superior como estructurad de datos permiten \"guardar\" imagenes listas de numeros, videos, y otros tipos de documentos.\n",
    "\n",
    "\n",
    "Pero nuestro problema es como representar un numero de coma fija como\n",
    "129.575\n",
    "La solución mas ismple es utilizar un numero finito de bit para representar la parte entera y un numero finito de bits para la parte de coma decimal.\n",
    "\n",
    "El problem de esta regla de representacion es que en calculo cientifico podemos encontrar valores muy grandes o muy pequeños y  la cantidad de bit para representar la parte decimal puede crecer considerable emnte.\n",
    "\n",
    "La solución es utilizar la notación cientifica donde el significante o mantissa se guarda en una cantidad fija de bits y el exponente en otra cantidad finita de bits, a esta representación binaria de numeros se conoce como codificacion de coma flotante. Tenemos una mayor libertar para reprsentar numeros  muy grande o muy pequeños a cambio de sacrificar precición en valores extremos.\n",
    "\n",
    "En computacion la cantidad de bit que utilizamos para la mantissa y el exponente permite defnir una prección. \n",
    "Tradicionalmente utilizamos 4 bytes  (32 bits) para representar la precicion mas simple, de las cuales utilizamos 27 bits para la mantisssa y 5 bits para el exponente ( 4 bits significativos + 1 bit de signo)\n",
    "La doble precicion (double) que es de uso preferencial para calculo cientifico  en fisica e ingenieiria, utiliza tradicionalmente 8 bytes ( o 64 bits), invitamos al lector a investigar los limites teoricos utilizando doble precicion flotante.\n",
    "\n",
    "\n",
    "Existe diversa literatura que profundisa el aspecto problematico de discretiza los numeros reales dentro del sub conjunto de numero de coma flotante, y el efecto de presicion variable a lo largo de diferente numeros de mantisssa. y peor aun el dañino efecto de truncar un numero real dentro de un numero de coma flotante, y la acumulación de este error  a medida de la cantidad de calculos de coma flotante. Por lo tanto un proeso de pasoso finitos de computo con numeros flotantes aumentara el error de truncamiento proporcionalmente al numero de operacion con numeros flotantes. Debido a estos es comun  utilizar metodos directo para sistemas pequeños, y metodos iterativos para sistemas grandes y complejos por que continene ccondiciones de tolerancia que permiten corregir el error acumulado de truncamiento.\n",
    "\n",
    "\n",
    "\n"
   ]
  },
  {
   "cell_type": "code",
   "execution_count": 2,
   "metadata": {},
   "outputs": [
    {
     "data": {
      "text/plain": [
       "340282366920938463463374607431768211456"
      ]
     },
     "execution_count": 2,
     "metadata": {},
     "output_type": "execute_result"
    }
   ],
   "source": [
    "def numeros_posibles(numero_de_bits):\n",
    "    return 2**numero_de_bits\n",
    "\n",
    "numeros_posibles(128)"
   ]
  },
  {
   "cell_type": "markdown",
   "metadata": {},
   "source": [
    "Los numeros reales no se pueden representar en un computadora solo un subconjunto de ellos. Un numero racionalfacilmente se puede representar como la division de dos numeros naturales, por lo tanto es facilemente representable en una computadora. pero el caso de numeros de finita precicon podemos mencionar un sistema de coma fija.\n",
    "\n",
    "Si tenemos una cantidad de memoria de 8 bit "
   ]
  },
  {
   "cell_type": "code",
   "execution_count": 4,
   "metadata": {},
   "outputs": [],
   "source": [
    "flotantes = [0.1,0.2,0.44444440,.123456789,20e10,20.99,6e99]"
   ]
  },
  {
   "cell_type": "code",
   "execution_count": 5,
   "metadata": {},
   "outputs": [
    {
     "data": {
      "text/plain": [
       "float"
      ]
     },
     "execution_count": 5,
     "metadata": {},
     "output_type": "execute_result"
    }
   ],
   "source": [
    "type(flotantes[0])"
   ]
  },
  {
   "cell_type": "code",
   "execution_count": 8,
   "metadata": {},
   "outputs": [
    {
     "data": {
      "text/plain": [
       "float"
      ]
     },
     "execution_count": 8,
     "metadata": {},
     "output_type": "execute_result"
    }
   ],
   "source": [
    "type(flotantes[-1])"
   ]
  },
  {
   "cell_type": "code",
   "execution_count": 9,
   "metadata": {},
   "outputs": [
    {
     "data": {
      "text/plain": [
       "'Cantidad de estados que se pueden representar con 1 bit = 2'"
      ]
     },
     "metadata": {},
     "output_type": "display_data"
    },
    {
     "data": {
      "text/plain": [
       "'Cantidad de estados que se pueden representar con 2 bits = 4'"
      ]
     },
     "metadata": {},
     "output_type": "display_data"
    },
    {
     "data": {
      "text/plain": [
       "'Cantidad de estados que se pueden representar con 3 bits = 8'"
      ]
     },
     "metadata": {},
     "output_type": "display_data"
    }
   ],
   "source": [
    "# cantidad de estados que se pueden represnetar con 1 byte\n",
    "display(\"Cantidad de estados que se pueden representar con 1 bit = %i\"%(2**1))\n",
    "display(\"Cantidad de estados que se pueden representar con 2 bits = %i\"%(2**2))\n",
    "display(\"Cantidad de estados que se pueden representar con 3 bits = %i\"%(2**3))"
   ]
  },
  {
   "cell_type": "code",
   "execution_count": 10,
   "metadata": {},
   "outputs": [
    {
     "data": {
      "text/plain": [
       "'Cantidad de estados que se pueden representar con 1 bit = 2'"
      ]
     },
     "metadata": {},
     "output_type": "display_data"
    },
    {
     "data": {
      "text/plain": [
       "'Cantidad de estados que se pueden representar con 2 bit = 4'"
      ]
     },
     "metadata": {},
     "output_type": "display_data"
    },
    {
     "data": {
      "text/plain": [
       "'Cantidad de estados que se pueden representar con 3 bit = 8'"
      ]
     },
     "metadata": {},
     "output_type": "display_data"
    },
    {
     "data": {
      "text/plain": [
       "'Cantidad de estados que se pueden representar con 4 bit = 16'"
      ]
     },
     "metadata": {},
     "output_type": "display_data"
    },
    {
     "data": {
      "text/plain": [
       "'Cantidad de estados que se pueden representar con 5 bit = 32'"
      ]
     },
     "metadata": {},
     "output_type": "display_data"
    },
    {
     "data": {
      "text/plain": [
       "'Cantidad de estados que se pueden representar con 6 bit = 64'"
      ]
     },
     "metadata": {},
     "output_type": "display_data"
    },
    {
     "data": {
      "text/plain": [
       "'Cantidad de estados que se pueden representar con 7 bit = 128'"
      ]
     },
     "metadata": {},
     "output_type": "display_data"
    },
    {
     "data": {
      "text/plain": [
       "'Cantidad de estados que se pueden representar con 8 bit = 256'"
      ]
     },
     "metadata": {},
     "output_type": "display_data"
    },
    {
     "data": {
      "text/plain": [
       "'Cantidad de estados que se pueden representar con 16 bit = 65536'"
      ]
     },
     "metadata": {},
     "output_type": "display_data"
    },
    {
     "data": {
      "text/plain": [
       "'Cantidad de estados que se pueden representar con 32 bit = 4294967296'"
      ]
     },
     "metadata": {},
     "output_type": "display_data"
    },
    {
     "data": {
      "text/plain": [
       "'Cantidad de estados que se pueden representar con 64 bit = 18446744073709551616'"
      ]
     },
     "metadata": {},
     "output_type": "display_data"
    }
   ],
   "source": [
    "for i in [1,2,3,4,5,6,7,8,16,32,64]:\n",
    "    display(\"Cantidad de estados que se pueden representar con %i bit = %i\"%(i, 2**i))"
   ]
  },
  {
   "cell_type": "code",
   "execution_count": 11,
   "metadata": {},
   "outputs": [
    {
     "data": {
      "text/plain": [
       "'Cantidad de estados que se pueden representar con 1 bytes = 256'"
      ]
     },
     "metadata": {},
     "output_type": "display_data"
    },
    {
     "data": {
      "text/plain": [
       "'Cantidad de estados que se pueden representar con 2 bytes = 65536'"
      ]
     },
     "metadata": {},
     "output_type": "display_data"
    },
    {
     "data": {
      "text/plain": [
       "'Cantidad de estados que se pueden representar con 3 bytes = 16777216'"
      ]
     },
     "metadata": {},
     "output_type": "display_data"
    },
    {
     "data": {
      "text/plain": [
       "'Cantidad de estados que se pueden representar con 4 bytes = 4294967296'"
      ]
     },
     "metadata": {},
     "output_type": "display_data"
    },
    {
     "data": {
      "text/plain": [
       "'Cantidad de estados que se pueden representar con 5 bytes = 1099511627776'"
      ]
     },
     "metadata": {},
     "output_type": "display_data"
    },
    {
     "data": {
      "text/plain": [
       "'Cantidad de estados que se pueden representar con 6 bytes = 281474976710656'"
      ]
     },
     "metadata": {},
     "output_type": "display_data"
    },
    {
     "data": {
      "text/plain": [
       "'Cantidad de estados que se pueden representar con 7 bytes = 72057594037927936'"
      ]
     },
     "metadata": {},
     "output_type": "display_data"
    },
    {
     "data": {
      "text/plain": [
       "'Cantidad de estados que se pueden representar con 8 bytes = 18446744073709551616'"
      ]
     },
     "metadata": {},
     "output_type": "display_data"
    },
    {
     "data": {
      "text/plain": [
       "'Cantidad de estados que se pueden representar con 16 bytes = 340282366920938463463374607431768211456'"
      ]
     },
     "metadata": {},
     "output_type": "display_data"
    },
    {
     "data": {
      "text/plain": [
       "'Cantidad de estados que se pueden representar con 32 bytes = 115792089237316195423570985008687907853269984665640564039457584007913129639936'"
      ]
     },
     "metadata": {},
     "output_type": "display_data"
    },
    {
     "data": {
      "text/plain": [
       "'Cantidad de estados que se pueden representar con 64 bytes = 13407807929942597099574024998205846127479365820592393377723561443721764030073546976801874298166903427690031858186486050853753882811946569946433649006084096'"
      ]
     },
     "metadata": {},
     "output_type": "display_data"
    }
   ],
   "source": [
    "# un byte equivale a un bit\n",
    "for i in [1,2,3,4,5,6,7,8,16,32,64]:\n",
    "    display(\"Cantidad de estados que se pueden representar con %i bytes = %i\"%(i, 2**(8*i)))\n",
    "    "
   ]
  },
  {
   "cell_type": "code",
   "execution_count": null,
   "metadata": {},
   "outputs": [],
   "source": [
    "type(2**(64*8))"
   ]
  },
  {
   "cell_type": "code",
   "execution_count": null,
   "metadata": {},
   "outputs": [],
   "source": [
    "2**(64*8)"
   ]
  },
  {
   "cell_type": "markdown",
   "metadata": {},
   "source": [
    "### Arreglos númericos\n",
    "El concepto de arreglo es fundamental para la computación cientifica. Aun asi es extremadamente simple.\n",
    "Un arreglo es una estructura de datos, que agrupa datos del mismo tipo de manera contigua en memoria. En palabras mas simples es una lista finita de elementos.\n",
    "\n",
    "el arreglo [1,2,3,5,9 ] es un arreglo de 5 elementos, por lo tanto decimos que el arreglo tiene un tamaño de 5 elementos, el tipo de datos es enteros naturales. Basicamente es la definicion de un arreglo.\n",
    "\n",
    "Utilizamos arreglos para \"codificar\" vectores, metrices  o tensores. utilizando reglas de columna  o fila.\n",
    "\n",
    "Los objetos como matrices o tensores se pueden \"flatear en un vector o arreglo\" utilizando reglas como \"column mayor\" o \"row major\" pero aprate es necesario guardar informacion extra como la cantidad de indices del tensor, y los tamaõs de cada indice o dimensiones.\n",
    "\n",
    "En python existe una forma para utilizar arreglos y es atravez de la libreria \"**Num**erical **Py**thon (Numpy)\""
   ]
  },
  {
   "cell_type": "markdown",
   "metadata": {},
   "source": [
    "#### Funciones recursivas contra iterativas\n",
    "La iteraciones un concepto de repeticón, si una funcion repite la llamada de una fucnión y utiliza el resultado para la siguietne se conoce com una iteracion o paso. Otro tipo de definicion es el concepto de recursividad, en una definición simple es que una funcion recursiva se lllama a si misma una cantidad finita de veces a continuacion famos a implementar una funcion que implemnte el factorial:"
   ]
  },
  {
   "cell_type": "code",
   "execution_count": null,
   "metadata": {},
   "outputs": [],
   "source": [
    "def factorial_recursivo(n):\n",
    "    if n<=1 :\n",
    "        return 1\n",
    "    else:\n",
    "        return n*factorial_recursivo(n-1)"
   ]
  },
  {
   "cell_type": "code",
   "execution_count": null,
   "metadata": {},
   "outputs": [],
   "source": [
    "#test\n",
    "factorial_recursivo(6)"
   ]
  },
  {
   "cell_type": "code",
   "execution_count": null,
   "metadata": {},
   "outputs": [],
   "source": [
    "#prueba\n",
    "6*5*4*3*2*1"
   ]
  },
  {
   "cell_type": "code",
   "execution_count": null,
   "metadata": {},
   "outputs": [],
   "source": [
    "def factorial_iterativo(n):\n",
    "    resultado = 1\n",
    "    i = 1;\n",
    "    while i <= n:\n",
    "        resultado = resultado * i\n",
    "        i = i + 1\n",
    "    return resultado"
   ]
  },
  {
   "cell_type": "code",
   "execution_count": null,
   "metadata": {},
   "outputs": [],
   "source": [
    "factorial_iterativo(6)"
   ]
  },
  {
   "cell_type": "code",
   "execution_count": null,
   "metadata": {},
   "outputs": [],
   "source": [
    "# Tarea implementar una funcion que calcule los elemeto n de la serie de Fibonacci, de forma iterativa y la forma recursiva"
   ]
  },
  {
   "cell_type": "markdown",
   "metadata": {},
   "source": [
    "#### Otros lenguajes de programacion\n",
    "Lengauje de proposito general significa que no tiene algun objetivo de permancer en un rango espeifico de aplicacion, por ejemplo lenaguuajes com Python pertence a esta categoria. Sin embargo, la mayoria de los lenguages de programción pertences a un nicho. Por ejemplo Fortran era por muchos años la lingua franca el lenguaje de uso profesional para metodos numerico, y hasta la fecha utilizado por muchas aplicaciones comerciales debido a su cercania al lenguaje de maquinas. Pero esta ventaja es una desventaja porque  no permite crear aplicacion con un pbjetivo mas amplia, es posible pero no con tanta facilidad. Lenguaje de programacion como Java y c# son utilizados ampliamaente en la industria de l desarrrollo de software comercial con contratos militares o aplicaciones para bancos por su seguridad y robustes, pero al tener una arquitectura de software \"manejado\" no son tan eficientes para computacion cientifica. Lenguajes como Lavascript, PHP son muy populares en entornos web pero tampoco muy comunmente utilizados para computacion cientifica. Python es sin duda muy popular en diferentes campos pero el campo de analisis de datos disfurta por el momento un papel muy importante junto a R. Por ultimo el sucesor de FORTRAn en los clusters de programación es C++. C++ esun decendiente directo de C un lenguage simple por diseño pero capaz de traducir a lenguaje de maquina sin mucha indireccion. Por esto C es el lenguage que esta debajo de toda nuestra civilizacion moderna. Este lenguaje se utiliza par crear sistemas( lenguajes, servidores, sistemas operativos) su unico rival es assembler que technicamente no es un lenguaje de programcion si no una traducción nemotenica del lenguaje de maquina. El lenguaje de maquina es muy impractico par la computación moderna sin embargo aun goza exito en programacion embedida de microcontroladores o en casos especiales en sistemas operativos. Pero debido al avance masivo en optimizadores de codigo lenguaje de alto nivel generan codigo mas eficiente que los escritos directamente en ASM por humanos. Por ultimo C++, Es un lengauje muy especial, estremadamente exotico, multiparadigma y en muchas ocaciones los paradigmas se trslapan haciendolo un lenguaje muy complicado. Este lenguaje es la opción mas eficiente a la hora de contruir software cientifico. Permite crear capas de abstraccion con paradigmas orientado a objetos y al mismo tiempo sin sacrificar eficiencia como muchos lenguajes de alto nivel. Muchos sistema soperativos software comerciales de todo tipo estan contruidos en c++.\n",
    "En este curso usaremos Python como lenguaje de referencia pero se ofrence codigos fuentes para diferentes lenguajes.\n",
    "\n",
    "#### Paquetes de software\n",
    "Los paquete o software comerciales perimeter enfocarnos mas en el dominio del problma y menos en el dominio de la maquina o el lenguaje. por desgracias muchos son de ambito comercial y muy costosos. Por ejemplo el mas utilizado academicamente en ingenieria es Matlab, originalmente creado para no lidia con FORTRA, uno de los autore de Linpack( libreria de algebra linea de FORTRAN) fue credo para enfocar a los estudiantes en el area de algebra lineal y no en el dominio de la ciencia de computacion. Este lenguaje que evoluciono a en una suite de softwares(compiladores librerira o toolboxes), interfay grafica, etc. Permite crear plataformas para analisis numerico y simbolico. El paquete de software simbolicos tenemos Maple, MathCAD entre otros. uno muy utilizado por la comunidad cientifica e empresarial para analisis de datos es Mathematica, con espesificaciones muy amplias.\n",
    "En este curso utilisaremos Jupyter con las librerias Numpy, matplotlib, Sympy, entre otras. Juntos producen un paquete de software libre capaza de simular muchas de las opciones de matlab y mathematica sin coste alguno. con el sacrificio de la facilidad de uso y el soporte comercial. Como motivacion podemos mencionar que Python internacionalmente es mucho mas usados que todos los paquetes comericales previamente mencionados.\n",
    "\n",
    "#### Entornos de apoyo\n",
    "Tambien es importante mencion que Excel o cualquier hoja de numeros(OpenOffice o Apple Numbers), permite la implementacion de metodos numericos de una forma muy didactica y facil. Pero no puede compararse con el nivel de eficiencia y flexibilidad de utilizar un paquete de software o escribir nuestro codigo directamente en un lenguaje de programación. Por lo tanto solo se demostrara su uso de forma de referencia para aumentar las competencias en el uso de multiud de software."
   ]
  },
  {
   "cell_type": "markdown",
   "metadata": {},
   "source": [
    "## Practicas\n",
    "\n",
    "### Básico\n",
    "1. Escribir una función que resuelva la ecuación cuadratica de forma directa utilizando la formula cuadratica.\n",
    "2. escribir una función que resuelva el total de dos resistencias en paralello.\n",
    "3. Extender el problema 2, para que admita una lista de resitencias y calcule la resitencia toal.\n",
    "4. Escribir una función que admita la nota de un estudiante y muestre \"A\" \"b\" ... dependiento la nota de 100 a 0 acorde a la evaluación del curso.\n",
    "5. Escribir una función que calcule el BMI (indice de masa corporal) y muestre su estado actual ( normal, debajo del peso normal o obesidad).\n",
    "6. Escribir funciones que tome una lista de dos elementos ( componentes rectangulaes de un numero complejo) y convertir a las componentes polares.\n",
    "7. Escribir la funcion inversa de la practica 6.\n",
    "\n",
    "### Medio\n",
    "5. Investigar el uso de ipwidgets interact, y graphique la funcion senoida con decadencia exponencial y cree manipuladores para paremetros de frecuencia y constante de tiempo.\n",
    "6. Escribir un documento en jupyter para la salucion cuadrtica utilizando LaTex\n",
    "\n",
    "### Avanzado *\n",
    "7. Escribir manualemente una funcion que calcule el determinante de una matriz 3x3.\n",
    "8. Escriba una funcion que calcule la inversa de una matriz 3x3.\n",
    "9. Escribir sobre la definicion de numero de punto flotante y la definicion de mantissa(significante) y el exponente\n",
    "10. El prodcedimiento para convertir numeros enteros de entero a binario y vicevera. convertir el numero 7399 a binario. Invetigar el procedimiento en Python y comprobar.\n",
    "11. Mostrar el campo vectorial del campo electrico generado por una carga(+) utilizando matplotlib\n",
    "12. Mostrar el campo electrico generado por dos cargas(+ y -) utilizando matplotlib\n",
    "\n",
    "## Proyecto:\n",
    "* Crear libreria para analisis de viga simplemente apolladas donde se define la longitud de la viga(L) de \"A\" en X=0 a \"B\" en x=L en coordenadas en x.\n",
    "* Poder colocar cargas puntuales como un arreglo o lista de tuplas (F_z(x), x) (fuerza posiscion)\n",
    "* Poder mostrar las cargas utilizando matplotlib( graphica)\n",
    "* Mostrar las reacciones R resultantes\n",
    "* Mostrar el grafico de cortantes\n",
    "* Mostrar el grafico de momento flector\n",
    "* Presentar ejemplo de cargas aleatorimente distribuida, mostar los puntos anteriores en un reporte de  Jupyter\n"
   ]
  },
  {
   "cell_type": "code",
   "execution_count": null,
   "metadata": {},
   "outputs": [],
   "source": [
    "%matplotlib inline"
   ]
  },
  {
   "cell_type": "code",
   "execution_count": null,
   "metadata": {},
   "outputs": [],
   "source": [
    "plt.figure(\"Figura 1\")\n",
    "plt.plot([1,2,3],[1,2,3],label=\"test:  $x^2$\")\n",
    "plt.xlabel(\"X\")\n",
    "plt.ylabel(\"F(X)\")\n",
    "plt.legend(loc=\"best\")\n",
    "plt.subplot()\n",
    "plt.show()"
   ]
  },
  {
   "cell_type": "code",
   "execution_count": null,
   "metadata": {},
   "outputs": [],
   "source": []
  }
 ],
 "metadata": {
  "kernelspec": {
   "display_name": "Python 3",
   "language": "python",
   "name": "python3"
  },
  "language_info": {
   "codemirror_mode": {
    "name": "ipython",
    "version": 3
   },
   "file_extension": ".py",
   "mimetype": "text/x-python",
   "name": "python",
   "nbconvert_exporter": "python",
   "pygments_lexer": "ipython3",
   "version": "3.7.2"
  }
 },
 "nbformat": 4,
 "nbformat_minor": 2
}
