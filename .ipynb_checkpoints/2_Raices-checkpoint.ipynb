{
 "cells": [
  {
   "cell_type": "markdown",
   "metadata": {},
   "source": [
    "# Busqueda de Raices"
   ]
  },
  {
   "cell_type": "markdown",
   "metadata": {},
   "source": [
    "Mientras la funciones simples racies funciones simples como\n",
    "$$f_1(x) = x^2 - 4$$\n",
    "Otras funciones como \n",
    "$$f_2(x) = e^x - x^2$$\n",
    "No tienen raices de forma analitica, el objetivo de este capitulo es introducir a metodos numericos que busquen raices."
   ]
  },
  {
   "cell_type": "markdown",
   "metadata": {},
   "source": [
    "## Raices Reales"
   ]
  },
  {
   "cell_type": "code",
   "execution_count": 156,
   "metadata": {},
   "outputs": [],
   "source": [
    "import math\n",
    "#Funcion de prueba f1\n",
    "def f1(x):\n",
    "    return x**2 - 4\n",
    "\n",
    "#Funcion de prueba f2\n",
    "def f2(x):\n",
    "    return math.exp(x)-x**2"
   ]
  },
  {
   "cell_type": "markdown",
   "metadata": {},
   "source": [
    "La funcion la podemos evaluar en varios puntos"
   ]
  },
  {
   "cell_type": "code",
   "execution_count": 9,
   "metadata": {},
   "outputs": [
    {
     "name": "stdout",
     "output_type": "stream",
     "text": [
      "f2(1) = 1.718281828459045\n",
      "f2(2) = 3.3890560989306504\n",
      "f2(3) = 11.085536923187668\n"
     ]
    }
   ],
   "source": [
    "print(\"f2(1) = \" + str(f2(1)))\n",
    "print(\"f2(2) = \" + str(f2(2)))\n",
    "print(\"f2(3) = \" + str(f2(3)))"
   ]
  },
  {
   "cell_type": "markdown",
   "metadata": {},
   "source": [
    "La pregunta fundamental es: que valor de $x$ hace que la funcion $f_2$ es igual a $0$?\n",
    "La solucion mas simple es probar aletoriamente la funcion hasta que encontremos un valor muy cercano a cero."
   ]
  },
  {
   "cell_type": "markdown",
   "metadata": {},
   "source": [
    "SAbemos que valor de $f2(1)$ es el mas cercano a 0y por lo tanto podemos  evaluar la funcion con numero mas pequeños."
   ]
  },
  {
   "cell_type": "code",
   "execution_count": 12,
   "metadata": {},
   "outputs": [
    {
     "name": "stdout",
     "output_type": "stream",
     "text": [
      "f2(0) = 1.0\n",
      "f2(-1) = -0.6321205588285577\n",
      "f2(-2) = -3.864664716763387\n"
     ]
    }
   ],
   "source": [
    "print(\"f2(0) = \" + str(f2(0)))\n",
    "print(\"f2(-1) = \" + str(f2(-1)))\n",
    "print(\"f2(-2) = \" + str(f2(-2)))"
   ]
  },
  {
   "cell_type": "markdown",
   "metadata": {},
   "source": [
    "Nuestro mejor resultado fue $x=-1$, sin embargo, no es una raiz valida. Por otro lado con la funcion de prueba $f_1(x)$ podemos calcular la raiyz de forma analiitca. Por ejemplo\n",
    "$$f_1(x) = x^2 - 4 = 0$$\n",
    "$$x^2 - 4 = 0$$\n",
    "$$x^2 = 4$$\n",
    "$$x = 2$$\n",
    "El valor de $x=2$ se puede comprar que es una raiz, evaluando la funcion en este punto:\n",
    "$$f_1(x) = x^2 - 4 $$\n",
    "$$f_1(x=2) = 2^2 - 4 $$\n",
    "$$f_1(2) = 4 - 4 $$\n",
    "$$f_1(2) = 0 $$\n",
    "Y a continuacion podemos evaluar la funciona arbitrariamente por varios puntos alrededor de su raiz:\n"
   ]
  },
  {
   "cell_type": "code",
   "execution_count": 155,
   "metadata": {},
   "outputs": [
    {
     "name": "stdout",
     "output_type": "stream",
     "text": [
      "f1(1) = -15\n",
      "f1(2) = -12\n",
      "f1(3) = -7\n"
     ]
    }
   ],
   "source": [
    "print(\"f1(1) = \" + str(f1(1)))\n",
    "print(\"f1(2) = \" + str(f1(2)))\n",
    "print(\"f1(3) = \" + str(f1(3)))"
   ]
  },
  {
   "cell_type": "markdown",
   "metadata": {},
   "source": [
    "Podemos observar que este metodo es como jugar a la loteria, es question de suerte. El siguiente metodo es conocido como el metodo Grafico. Este metodo trata de seleccionar muchos puntos en una region definida de la funcion y graficarla."
   ]
  },
  {
   "cell_type": "code",
   "execution_count": 26,
   "metadata": {},
   "outputs": [
    {
     "data": {
      "text/plain": [
       "[<matplotlib.lines.Line2D at 0x119189550>]"
      ]
     },
     "execution_count": 26,
     "metadata": {},
     "output_type": "execute_result"
    },
    {
     "data": {
      "image/png": "[encoded data removed]",
      "text/plain": [
       "<Figure size 432x288 with 1 Axes>"
      ]
     },
     "metadata": {},
     "output_type": "display_data"
    }
   ],
   "source": [
    "import numpy as np\n",
    "import matplotlib.pyplot as plt\n",
    "\n",
    "dominio = [-1,0,1,2,3]\n",
    "y = [f1(-1),f1(0),f1(1),f1(2),f1(3)]\n",
    "#Graficamos los puntos\n",
    "plt.plot(dominio,y,\"o\")"
   ]
  },
  {
   "cell_type": "code",
   "execution_count": 37,
   "metadata": {},
   "outputs": [
    {
     "data": {
      "text/plain": [
       "[<matplotlib.lines.Line2D at 0x1197fbc50>,\n",
       " <matplotlib.lines.Line2D at 0x1197fbda0>]"
      ]
     },
     "execution_count": 37,
     "metadata": {},
     "output_type": "execute_result"
    },
    {
     "data": {
      "image/png": "[encoded data removed]",
      "text/plain": [
       "<Figure size 432x288 with 1 Axes>"
      ]
     },
     "metadata": {},
     "output_type": "display_data"
    }
   ],
   "source": [
    "#Grafica de la funcion de prueba 1 con pocos puntos e interpolacion lineal (6 puntos)\n",
    "plt.plot(dominio,y,[-1,3],[0,0])"
   ]
  },
  {
   "cell_type": "markdown",
   "metadata": {},
   "source": [
    "graficamos con mas puntos con 100 puntos"
   ]
  },
  {
   "cell_type": "code",
   "execution_count": 36,
   "metadata": {},
   "outputs": [
    {
     "data": {
      "text/plain": [
       "[<matplotlib.lines.Line2D at 0x1197959b0>,\n",
       " <matplotlib.lines.Line2D at 0x119795b00>,\n",
       " <matplotlib.lines.Line2D at 0x1197a00b8>,\n",
       " <matplotlib.lines.Line2D at 0x1197a04e0>]"
      ]
     },
     "execution_count": 36,
     "metadata": {},
     "output_type": "execute_result"
    },
    {
     "data": {
      "image/png": "[encoded data removed]",
      "text/plain": [
       "<Figure size 432x288 with 1 Axes>"
      ]
     },
     "metadata": {},
     "output_type": "display_data"
    }
   ],
   "source": [
    "xx = np.linspace(-1,3,100)\n",
    "yy = np.array([f1(xi) for xi in xx])\n",
    "plt.plot(xx,yy,[-1,3],[0,0],[2,2],[0,0],\"ro\",[2,2],[0,-4],\"r\")"
   ]
  },
  {
   "cell_type": "markdown",
   "metadata": {},
   "source": [
    "Ahora Aplicaremos el metodo Grafico para encontrar la raiz de la funcionde prueba 2, en el rango de x entre -3 y 3"
   ]
  },
  {
   "cell_type": "code",
   "execution_count": 43,
   "metadata": {},
   "outputs": [
    {
     "data": {
      "text/plain": [
       "[<matplotlib.lines.Line2D at 0x119c35f98>,\n",
       " <matplotlib.lines.Line2D at 0x119c3e128>]"
      ]
     },
     "execution_count": 43,
     "metadata": {},
     "output_type": "execute_result"
    },
    {
     "data": {
      "image/png": "[encoded data removed]",
      "text/plain": [
       "<Figure size 432x288 with 1 Axes>"
      ]
     },
     "metadata": {},
     "output_type": "display_data"
    }
   ],
   "source": [
    "xx = np.linspace(-3,3,100)\n",
    "yy = np.array([f2(xi) for xi in xx])\n",
    "plt.plot(xx,yy,[-3,3],[0,0])"
   ]
  },
  {
   "cell_type": "markdown",
   "metadata": {},
   "source": [
    "No es tan facil disernir el valor de x que hace que la funciont enga un valor de 0, pero podemos reducir el rango de busqueda de -1 a 0"
   ]
  },
  {
   "cell_type": "code",
   "execution_count": 44,
   "metadata": {},
   "outputs": [
    {
     "data": {
      "text/plain": [
       "[<matplotlib.lines.Line2D at 0x119d5e358>,\n",
       " <matplotlib.lines.Line2D at 0x119d5e4a8>]"
      ]
     },
     "execution_count": 44,
     "metadata": {},
     "output_type": "execute_result"
    },
    {
     "data": {
      "image/png": "[encoded data removed]",
      "text/plain": [
       "<Figure size 432x288 with 1 Axes>"
      ]
     },
     "metadata": {},
     "output_type": "display_data"
    }
   ],
   "source": [
    "xx = np.linspace(-1,0,100)\n",
    "yy = np.array([f2(xi) for xi in xx])\n",
    "plt.plot(xx,yy,[-1,0],[0,0])"
   ]
  },
  {
   "cell_type": "code",
   "execution_count": 45,
   "metadata": {},
   "outputs": [
    {
     "data": {
      "text/plain": [
       "[<matplotlib.lines.Line2D at 0x119dbcb38>,\n",
       " <matplotlib.lines.Line2D at 0x119dbcc88>]"
      ]
     },
     "execution_count": 45,
     "metadata": {},
     "output_type": "execute_result"
    },
    {
     "data": {
      "image/png": "[encoded data removed]",
      "text/plain": [
       "<Figure size 432x288 with 1 Axes>"
      ]
     },
     "metadata": {},
     "output_type": "display_data"
    }
   ],
   "source": [
    "# REfinando la busqueda\n",
    "xx = np.linspace(-0.8,-0.6,100)\n",
    "yy = np.array([f2(xi) for xi in xx])\n",
    "plt.plot(xx,yy,[-0.8,-0.6],[0,0])"
   ]
  },
  {
   "cell_type": "markdown",
   "metadata": {},
   "source": [
    "El metodo grafico porve una herramienta viisual para encontrar raices, pero es poco util, debido a l constante escalamiento manual , la la presicion depende de la resolucion del grafico."
   ]
  },
  {
   "cell_type": "markdown",
   "metadata": {},
   "source": [
    "## Método de Bisección\n",
    "A continuacion presentaremos el primer metodo numerico del curso. Este método se basa en un proceso iterativo el cual busca encontrar la raiz de una función. Este metodo utiliza la intucion de que en un rango definido de una funcion si este rango en sus extremos conocido conocemos el valor, podemos inferir que si existe un cambio de signo significa que la funcion paso por la linea 0. Entonces podemos dividir el rango en algun punto interno, evalur donde ocurre el cambio de signo. Especificamente dividiremos el rango justo en sus centro.\n",
    "\n",
    "Por ejemplo, si deseamos buscar la raiz de la funcionde prueba 1, debemos seleccionar un rango de busqueda por ejemplo, entre 0 y 6 ( sabemos que la raiz esta en x=2, e inclusive existe tambien la raiz x=-2). \n",
    "Evaluamos la funcion en tres puntos, los extremos y el punto medio $(0+6)/2 = 3$.\n",
    "$$ f_1(x=0) $$\n",
    "$$ f_1(x=3) $$\n",
    "$$ f_1(x=6) $$"
   ]
  },
  {
   "cell_type": "code",
   "execution_count": 48,
   "metadata": {},
   "outputs": [
    {
     "name": "stdout",
     "output_type": "stream",
     "text": [
      "f1(0.000000) = -4\n",
      "f1(3.000000) = 5\n",
      "f1(6.000000) = 32\n"
     ]
    }
   ],
   "source": [
    "def evaluar(donde, funcion, nombre):\n",
    "    print(nombre+\"(%f) = \"%donde + str(funcion(donde)))\n",
    "    \n",
    "evaluar(0,f1,\"f1\")\n",
    "evaluar(3,f1,\"f1\")\n",
    "evaluar(6,f1,\"f1\")"
   ]
  },
  {
   "cell_type": "markdown",
   "metadata": {},
   "source": [
    "Si graficamos estos puntos:"
   ]
  },
  {
   "cell_type": "code",
   "execution_count": 51,
   "metadata": {},
   "outputs": [
    {
     "data": {
      "text/plain": [
       "[<matplotlib.lines.Line2D at 0x11a007940>,\n",
       " <matplotlib.lines.Line2D at 0x11a007a58>]"
      ]
     },
     "execution_count": 51,
     "metadata": {},
     "output_type": "execute_result"
    },
    {
     "data": {
      "image/png": "[encoded data removed]",
      "text/plain": [
       "<Figure size 432x288 with 1 Axes>"
      ]
     },
     "metadata": {},
     "output_type": "display_data"
    }
   ],
   "source": [
    "plt.plot([0,3,6],[-4,5,32],\"o\", [0,6],[0,0])"
   ]
  },
  {
   "cell_type": "markdown",
   "metadata": {},
   "source": [
    "Podemos notar que el valor de la primera seccioón del rango cruza el cero, podemos creer que enta seccion se ecuentra la raiz. Seguimos refinando , ya que tomamos la subseccion con cambio de signo como nuevo rango, y biseccionamos en el punto medio y repetimos el proceso hasta encontrar  un valor  cercano a 0"
   ]
  },
  {
   "cell_type": "code",
   "execution_count": 52,
   "metadata": {},
   "outputs": [
    {
     "name": "stdout",
     "output_type": "stream",
     "text": [
      "f1(0.000000) = -4\n",
      "f1(1.500000) = -1.75\n",
      "f1(3.000000) = 5\n"
     ]
    }
   ],
   "source": [
    "evaluar(0,f1,\"f1\")\n",
    "evaluar(1.5,f1,\"f1\")\n",
    "evaluar(3,f1,\"f1\")"
   ]
  },
  {
   "cell_type": "code",
   "execution_count": 53,
   "metadata": {},
   "outputs": [
    {
     "data": {
      "text/plain": [
       "[<matplotlib.lines.Line2D at 0x11a067e80>,\n",
       " <matplotlib.lines.Line2D at 0x11a067f98>]"
      ]
     },
     "execution_count": 53,
     "metadata": {},
     "output_type": "execute_result"
    },
    {
     "data": {
      "image/png": "[encoded data removed]",
      "text/plain": [
       "<Figure size 432x288 with 1 Axes>"
      ]
     },
     "metadata": {},
     "output_type": "display_data"
    }
   ],
   "source": [
    "plt.plot([0,1.5,3],[-4,-1.75,5],\"o\", [0,3],[0,0])"
   ]
  },
  {
   "cell_type": "markdown",
   "metadata": {},
   "source": [
    "Si reptimos el proceso, la nueva subseccion que cruza el cero se encuentra en la seccion de la derecha."
   ]
  },
  {
   "cell_type": "code",
   "execution_count": 54,
   "metadata": {},
   "outputs": [
    {
     "name": "stdout",
     "output_type": "stream",
     "text": [
      "f1(1.500000) = -1.75\n",
      "f1(2.250000) = 1.0625\n",
      "f1(3.000000) = 5\n"
     ]
    }
   ],
   "source": [
    "evaluar(1.5,f1,\"f1\")\n",
    "evaluar((1.5+3)/2,f1,\"f1\")\n",
    "evaluar(3,f1,\"f1\")"
   ]
  },
  {
   "cell_type": "code",
   "execution_count": 56,
   "metadata": {},
   "outputs": [
    {
     "data": {
      "text/plain": [
       "[<matplotlib.lines.Line2D at 0x11a248240>,\n",
       " <matplotlib.lines.Line2D at 0x11a248358>]"
      ]
     },
     "execution_count": 56,
     "metadata": {},
     "output_type": "execute_result"
    },
    {
     "data": {
      "image/png": "[encoded data removed]",
      "text/plain": [
       "<Figure size 432x288 with 1 Axes>"
      ]
     },
     "metadata": {},
     "output_type": "display_data"
    }
   ],
   "source": [
    "plt.plot([1.5,2.25,3],[-1.75,1.0625,5],\"o\", [1.5,3],[0,0])"
   ]
  },
  {
   "cell_type": "markdown",
   "metadata": {},
   "source": [
    "Vamos a detenernos en esta iteracion, ya que podemos entender el proceso iterativo , va convergiendo lentamente a x=2, ya que los valores de la funcion se van aproximando a 0. A continuacion vamos a definir el algoritmo necesario para implementar esta función. \n",
    "\n",
    "+ Paso 1: definir un rango de busqueda $x_i$ y $x_f$\n",
    "+ Paso 2: Calcular el punto medio $x_m = (x_i + x_f)/2$\n",
    "+ Paso 3: Si el punto medio es cercano a 0 Parar, de lo contrario seguir\n",
    "+ Paso 4: Buscar la seccion de cambio de signo, y redefinir $x_i$ y $x_f$\n",
    "+ Paso 5: Ir al Paso 2\n",
    "\n",
    "A continuacion un funcion en python que toma como argumentos una funcion de prueba y un rango de busqueda:"
   ]
  },
  {
   "cell_type": "code",
   "execution_count": 94,
   "metadata": {},
   "outputs": [],
   "source": [
    "def biseccion(funcion, x_i, x_f, tol = 0.001):\n",
    "    iteracion = 0\n",
    "    print(\"Metodo de biseccion: tolerancia %f\"%tol)\n",
    "    \n",
    "    while True:\n",
    "    \n",
    "        x_m = (x_i + x_f) / 2\n",
    "        iteracion += 1\n",
    "        print(\"Iteracion#%i -  x_i = %f ; x_m = %f ; x_f = %f   ;; error=%f\"%(iteracion,x_i,x_m,x_f,funcion(x_m)))\n",
    "        \n",
    "        if abs(funcion(x_m)) < tol:\n",
    "            print(\"Raiz encontrada: \"+ str(x_m))\n",
    "            return x_m\n",
    "    \n",
    "        seccion_izq = funcion(x_i) * funcion(x_m)\n",
    "        seccion_der = funcion(x_m) * funcion(x_f)\n",
    "    \n",
    "        if seccion_izq < 0:\n",
    "            x_f = x_m\n",
    "            continue\n",
    "        elif seccion_der < 0:\n",
    "            x_i = x_m\n",
    "            continue  \n",
    "        else:\n",
    "            print(\"Error: no hay cambio de signo en ninguna seccion\")\n",
    "            return None\n"
   ]
  },
  {
   "cell_type": "markdown",
   "metadata": {},
   "source": [
    "Probamos nuesttro metodo de biseccion automatizado con la funcion de prueba:"
   ]
  },
  {
   "cell_type": "code",
   "execution_count": 95,
   "metadata": {},
   "outputs": [
    {
     "name": "stdout",
     "output_type": "stream",
     "text": [
      "Metodo de biseccion: tolerancia 0.001000\n",
      "Iteracion#1 -  x_i = 0.000000 ; x_m = 3.000000 ; x_f = 6.000000   ;; error=5.000000\n",
      "Iteracion#2 -  x_i = 0.000000 ; x_m = 1.500000 ; x_f = 3.000000   ;; error=-1.750000\n",
      "Iteracion#3 -  x_i = 1.500000 ; x_m = 2.250000 ; x_f = 3.000000   ;; error=1.062500\n",
      "Iteracion#4 -  x_i = 1.500000 ; x_m = 1.875000 ; x_f = 2.250000   ;; error=-0.484375\n",
      "Iteracion#5 -  x_i = 1.875000 ; x_m = 2.062500 ; x_f = 2.250000   ;; error=0.253906\n",
      "Iteracion#6 -  x_i = 1.875000 ; x_m = 1.968750 ; x_f = 2.062500   ;; error=-0.124023\n",
      "Iteracion#7 -  x_i = 1.968750 ; x_m = 2.015625 ; x_f = 2.062500   ;; error=0.062744\n",
      "Iteracion#8 -  x_i = 1.968750 ; x_m = 1.992188 ; x_f = 2.015625   ;; error=-0.031189\n",
      "Iteracion#9 -  x_i = 1.992188 ; x_m = 2.003906 ; x_f = 2.015625   ;; error=0.015640\n",
      "Iteracion#10 -  x_i = 1.992188 ; x_m = 1.998047 ; x_f = 2.003906   ;; error=-0.007809\n",
      "Iteracion#11 -  x_i = 1.998047 ; x_m = 2.000977 ; x_f = 2.003906   ;; error=0.003907\n",
      "Iteracion#12 -  x_i = 1.998047 ; x_m = 1.999512 ; x_f = 2.000977   ;; error=-0.001953\n",
      "Iteracion#13 -  x_i = 1.999512 ; x_m = 2.000244 ; x_f = 2.000977   ;; error=0.000977\n",
      "Raiz encontrada: 2.000244140625\n"
     ]
    },
    {
     "data": {
      "text/plain": [
       "2.000244140625"
      ]
     },
     "execution_count": 95,
     "metadata": {},
     "output_type": "execute_result"
    }
   ],
   "source": [
    "biseccion(f1,0,6)"
   ]
  },
  {
   "cell_type": "markdown",
   "metadata": {},
   "source": [
    "Modificamos la funcion biseccion para que devuelva una tabla de para posterior analisis: y graficar la error vs el numero de iteracion."
   ]
  },
  {
   "cell_type": "code",
   "execution_count": 126,
   "metadata": {},
   "outputs": [],
   "source": [
    "def biseccion_(f, x_i, x_f, tol = 0.001):\n",
    "    i = 0\n",
    "    x_m = (x_i + x_f) / 2\n",
    "    out_i = []\n",
    "    out_error = []\n",
    "    out_xm = []\n",
    "    while abs(f(x_m)) > tol:\n",
    "        x_m = (x_i + x_f) / 2\n",
    "        i += 1\n",
    "        out_i.append(i)\n",
    "        out_xm.append(x_m)\n",
    "        out_error.append(f(x_m))\n",
    "        seccion_izq = f(x_i) * f(x_m)\n",
    "        seccion_der = f(x_m) * f(x_f)\n",
    "        if seccion_izq < 0:\n",
    "            x_f = x_m\n",
    "        elif seccion_der < 0:\n",
    "            x_i = x_m\n",
    "        else:\n",
    "            return None\n",
    "        \n",
    "    return [out_i, out_xm, out_error]"
   ]
  },
  {
   "cell_type": "code",
   "execution_count": 131,
   "metadata": {},
   "outputs": [
    {
     "data": {
      "text/plain": [
       "[<matplotlib.lines.Line2D at 0x11a3a3dd8>]"
      ]
     },
     "execution_count": 131,
     "metadata": {},
     "output_type": "execute_result"
    },
    {
     "data": {
      "image/png": "[encoded data removed]",
      "text/plain": [
       "<Figure size 432x288 with 1 Axes>"
      ]
     },
     "metadata": {},
     "output_type": "display_data"
    }
   ],
   "source": [
    "out = biseccion_(f1,0,6)\n",
    "#Grafica de Error vs unmero de iteracion\n",
    "plt.plot(out[0],out[2])"
   ]
  },
  {
   "cell_type": "markdown",
   "metadata": {},
   "source": [
    "AA continuacion utlizaremos nuestro primer metodo numerico para encontrar el valor de la funcion de prueba numero 2, que hasta entonces era casi imposible encontrar una raiz:"
   ]
  },
  {
   "cell_type": "code",
   "execution_count": 133,
   "metadata": {},
   "outputs": [
    {
     "name": "stdout",
     "output_type": "stream",
     "text": [
      "Metodo de biseccion: tolerancia 0.001000\n",
      "Iteracion#1 -  x_i = -2.000000 ; x_m = -1.000000 ; x_f = 0.000000   ;; error=-0.632121\n",
      "Iteracion#2 -  x_i = -1.000000 ; x_m = -0.500000 ; x_f = 0.000000   ;; error=0.356531\n",
      "Iteracion#3 -  x_i = -1.000000 ; x_m = -0.750000 ; x_f = -0.500000   ;; error=-0.090133\n",
      "Iteracion#4 -  x_i = -0.750000 ; x_m = -0.625000 ; x_f = -0.500000   ;; error=0.144636\n",
      "Iteracion#5 -  x_i = -0.750000 ; x_m = -0.687500 ; x_f = -0.625000   ;; error=0.030175\n",
      "Iteracion#6 -  x_i = -0.750000 ; x_m = -0.718750 ; x_f = -0.687500   ;; error=-0.029240\n",
      "Iteracion#7 -  x_i = -0.718750 ; x_m = -0.703125 ; x_f = -0.687500   ;; error=0.000651\n",
      "Raiz encontrada: -0.703125\n"
     ]
    },
    {
     "data": {
      "text/plain": [
       "-0.703125"
      ]
     },
     "execution_count": 133,
     "metadata": {},
     "output_type": "execute_result"
    }
   ],
   "source": [
    "biseccion(f2,-2,0)"
   ]
  },
  {
   "cell_type": "markdown",
   "metadata": {},
   "source": [
    "El resulto es $x=-0.703125$ con un error de $0.000651$, ademas podemos comprobar si este valor es una raiz:\n"
   ]
  },
  {
   "cell_type": "code",
   "execution_count": 134,
   "metadata": {},
   "outputs": [
    {
     "data": {
      "text/plain": [
       "0.0006511313011985931"
      ]
     },
     "execution_count": 134,
     "metadata": {},
     "output_type": "execute_result"
    }
   ],
   "source": [
    "f2(-0.703125)"
   ]
  },
  {
   "cell_type": "markdown",
   "metadata": {},
   "source": [
    "Si deseamos 6 sifras decimales de presicion podemos volver a buscar la raiz con este nuevo parametro:"
   ]
  },
  {
   "cell_type": "code",
   "execution_count": 135,
   "metadata": {},
   "outputs": [
    {
     "name": "stdout",
     "output_type": "stream",
     "text": [
      "Metodo de biseccion: tolerancia 0.000001\n",
      "Iteracion#1 -  x_i = -2.000000 ; x_m = -1.000000 ; x_f = 0.000000   ;; error=-0.632121\n",
      "Iteracion#2 -  x_i = -1.000000 ; x_m = -0.500000 ; x_f = 0.000000   ;; error=0.356531\n",
      "Iteracion#3 -  x_i = -1.000000 ; x_m = -0.750000 ; x_f = -0.500000   ;; error=-0.090133\n",
      "Iteracion#4 -  x_i = -0.750000 ; x_m = -0.625000 ; x_f = -0.500000   ;; error=0.144636\n",
      "Iteracion#5 -  x_i = -0.750000 ; x_m = -0.687500 ; x_f = -0.625000   ;; error=0.030175\n",
      "Iteracion#6 -  x_i = -0.750000 ; x_m = -0.718750 ; x_f = -0.687500   ;; error=-0.029240\n",
      "Iteracion#7 -  x_i = -0.718750 ; x_m = -0.703125 ; x_f = -0.687500   ;; error=0.000651\n",
      "Iteracion#8 -  x_i = -0.718750 ; x_m = -0.710938 ; x_f = -0.703125   ;; error=-0.014249\n",
      "Iteracion#9 -  x_i = -0.710938 ; x_m = -0.707031 ; x_f = -0.703125   ;; error=-0.006787\n",
      "Iteracion#10 -  x_i = -0.707031 ; x_m = -0.705078 ; x_f = -0.703125   ;; error=-0.003065\n",
      "Iteracion#11 -  x_i = -0.705078 ; x_m = -0.704102 ; x_f = -0.703125   ;; error=-0.001206\n",
      "Iteracion#12 -  x_i = -0.704102 ; x_m = -0.703613 ; x_f = -0.703125   ;; error=-0.000277\n",
      "Iteracion#13 -  x_i = -0.703613 ; x_m = -0.703369 ; x_f = -0.703125   ;; error=0.000187\n",
      "Iteracion#14 -  x_i = -0.703613 ; x_m = -0.703491 ; x_f = -0.703369   ;; error=-0.000045\n",
      "Iteracion#15 -  x_i = -0.703491 ; x_m = -0.703430 ; x_f = -0.703369   ;; error=0.000071\n",
      "Iteracion#16 -  x_i = -0.703491 ; x_m = -0.703461 ; x_f = -0.703430   ;; error=0.000013\n",
      "Iteracion#17 -  x_i = -0.703491 ; x_m = -0.703476 ; x_f = -0.703461   ;; error=-0.000016\n",
      "Iteracion#18 -  x_i = -0.703476 ; x_m = -0.703468 ; x_f = -0.703461   ;; error=-0.000002\n",
      "Iteracion#19 -  x_i = -0.703468 ; x_m = -0.703465 ; x_f = -0.703461   ;; error=0.000006\n",
      "Iteracion#20 -  x_i = -0.703468 ; x_m = -0.703466 ; x_f = -0.703465   ;; error=0.000002\n",
      "Iteracion#21 -  x_i = -0.703468 ; x_m = -0.703467 ; x_f = -0.703466   ;; error=0.000000\n",
      "Raiz encontrada: -0.7034673690795898\n"
     ]
    },
    {
     "data": {
      "text/plain": [
       "-0.7034673690795898"
      ]
     },
     "execution_count": 135,
     "metadata": {},
     "output_type": "execute_result"
    }
   ],
   "source": [
    "biseccion(f2,-2,0, 1e-6)"
   ]
  },
  {
   "cell_type": "markdown",
   "metadata": {},
   "source": [
    "A continuacion probamos esta nueva raiz con mayor presicion:"
   ]
  },
  {
   "cell_type": "code",
   "execution_count": 136,
   "metadata": {},
   "outputs": [
    {
     "data": {
      "text/plain": [
       "1.0159194241410319e-07"
      ]
     },
     "execution_count": 136,
     "metadata": {},
     "output_type": "execute_result"
    }
   ],
   "source": [
    "f2(-0.7034673690795898)"
   ]
  },
  {
   "cell_type": "markdown",
   "metadata": {},
   "source": [
    "Por solo 6 cifras decimales estamos lejos del cero, esto comprueba que que este metodo con 21 iteracion, logra alacanzar una raiy de manera exitosa. A contnuacion vamos a graficar la convergencia de este metodo con la segunda funcion de prueba:"
   ]
  },
  {
   "cell_type": "code",
   "execution_count": 139,
   "metadata": {},
   "outputs": [
    {
     "data": {
      "text/plain": [
       "[<matplotlib.lines.Line2D at 0x11a51b240>]"
      ]
     },
     "execution_count": 139,
     "metadata": {},
     "output_type": "execute_result"
    },
    {
     "data": {
      "image/png": "[encoded data removed]",
      "text/plain": [
       "<Figure size 432x288 with 1 Axes>"
      ]
     },
     "metadata": {},
     "output_type": "display_data"
    }
   ],
   "source": [
    "out = biseccion_(f2,-2,0,1e-6)\n",
    "#Grafica de Error vs unmero de iteracion\n",
    "plt.plot(out[0],out[2])"
   ]
  },
  {
   "cell_type": "markdown",
   "metadata": {},
   "source": [
    "## Posicion Falsa"
   ]
  },
  {
   "cell_type": "code",
   "execution_count": null,
   "metadata": {},
   "outputs": [],
   "source": []
  },
  {
   "cell_type": "markdown",
   "metadata": {},
   "source": [
    "## Newton-Rhapson"
   ]
  },
  {
   "cell_type": "markdown",
   "metadata": {},
   "source": [
    "Probablemente el metodo mas utilizado para calculo de raices. El metodo se basa en la intuicion de utilizar la pendiente la funcion para aproximar su acercamiento al cero. En su version de primer orden, tratamos de predecir que la funcion sigue su comportamiento de linea recta. Para demostrar este comportamiento utilizaremos la funcion de prueba numero 1.\n",
    "$$ f_1(x) = x^2-4$$\n",
    "Si derivamos :\n",
    "$$ f_1'(x) = 2x$$\n",
    "\n",
    "En este metodo no necesitamos definir un rango de busque, si no, un punto incial. El metodo utilizara la informacion de la pendiente para buscar los valores de x que hagan la funcion $0$\n",
    "\n",
    "Por ejemplo podemos utilizar el valor de 6 como punto inicial ($x_i$)"
   ]
  },
  {
   "cell_type": "code",
   "execution_count": 141,
   "metadata": {},
   "outputs": [],
   "source": [
    "def d_f1(x):\n",
    "    return 2*x\n",
    "# Definicion de la derivada analitica"
   ]
  },
  {
   "cell_type": "markdown",
   "metadata": {},
   "source": [
    "si evaluamos la funcion y su derivada en $x=6$ obtenemos:"
   ]
  },
  {
   "cell_type": "code",
   "execution_count": 142,
   "metadata": {},
   "outputs": [
    {
     "name": "stdout",
     "output_type": "stream",
     "text": [
      "f1(6.000000) = 32\n",
      "d_f1(6.000000) = 12\n"
     ]
    }
   ],
   "source": [
    "evaluar(donde=6,funcion=f1,nombre=\"f1\")\n",
    "evaluar(donde=6,funcion=d_f1,nombre=\"d_f1\")"
   ]
  },
  {
   "cell_type": "markdown",
   "metadata": {},
   "source": [
    "Si graficamos estos valores y la pendiente de la funcion en este punto:"
   ]
  },
  {
   "cell_type": "code",
   "execution_count": 157,
   "metadata": {},
   "outputs": [
    {
     "data": {
      "text/plain": [
       "[<matplotlib.lines.Line2D at 0x11ad61358>,\n",
       " <matplotlib.lines.Line2D at 0x11ad614a8>,\n",
       " <matplotlib.lines.Line2D at 0x11ad619e8>,\n",
       " <matplotlib.lines.Line2D at 0x11ad61e10>]"
      ]
     },
     "execution_count": 157,
     "metadata": {},
     "output_type": "execute_result"
    },
    {
     "data": {
      "image/png": "[encoded data removed]",
      "text/plain": [
       "<Figure size 432x288 with 1 Axes>"
      ]
     },
     "metadata": {},
     "output_type": "display_data"
    }
   ],
   "source": [
    "xx = np.linspace(0,10,100)\n",
    "yy = np.array([f1(xi) for xi in xx])\n",
    "plt.plot(xx,yy,[0,10],[0,0],[6,6],[f1(6),f1(6)],\"ro\",[2,6],[32-(4*12),32],\"r\")"
   ]
  },
  {
   "cell_type": "markdown",
   "metadata": {},
   "source": [
    "Al \"seguir\" la información de la pendiente de la graficapodemos aproximar la raiz de la sigiente manera:\n",
    "$$ x_{i+1} = x_i - \\frac{f(x_i)}{f'(x_i)} $$\n",
    "Es importante mensionar que la primera aproximacion no necesariamente alcanza al cero, dependiendo de la curvatura de la funcion, tendremos diferente grados de convergencia.\n",
    "\n",
    "El diseño de el algoritmo es relativamente sencillo, peor por el monento se necesita suministrar como argumento la funcion que computa la derivada de la funcion.\n",
    "\n",
    "+ PASO1 : Definir un punto inicial ($x_i$)\n",
    "+ PASO2 : calcular $ x_{i+1} = x_i - \\frac{f(x_i)}{f'(x_i)} $\n",
    "+ PASO3 : siguiente iteracion $ i = i+1$ \n",
    "+ PASO4 : Si el valor actual de $f(x_i)$ es menor que la toleracia establecida, Parar.\n",
    "+ Paso5 : Repetir PASO 2\n",
    "\n",
    "A continuacion una implementacion modelo del algoritmo de newthon rhapson:"
   ]
  },
  {
   "cell_type": "code",
   "execution_count": 189,
   "metadata": {},
   "outputs": [],
   "source": [
    "def newton_rhapson(f,df,xi,tol=0.0001):\n",
    "    i = 0\n",
    "    while abs(f(xi)) > tol:\n",
    "        i += 1\n",
    "        print(\"X_%i  =  %f    ; error=%f\"%(i,xi,(f(xi))))\n",
    "        xi = xi - f(xi)/df(xi)\n",
    "        \n",
    "    print(\"Raiz encontrada: \"+str(xi))\n",
    "    return xi"
   ]
  },
  {
   "cell_type": "markdown",
   "metadata": {},
   "source": [
    "Para probar este metodo para la funcion de prueba 1:"
   ]
  },
  {
   "cell_type": "code",
   "execution_count": 162,
   "metadata": {},
   "outputs": [
    {
     "name": "stdout",
     "output_type": "stream",
     "text": [
      "X_1  =  6.000000    ; error=32.000000\n",
      "X_2  =  3.333333    ; error=7.111111\n",
      "X_3  =  2.266667    ; error=1.137778\n",
      "X_4  =  2.015686    ; error=0.062991\n",
      "X_5  =  2.000061    ; error=0.000244\n",
      "Raiz encontrada: 2.0000000009313226\n"
     ]
    },
    {
     "data": {
      "text/plain": [
       "2.0000000009313226"
      ]
     },
     "execution_count": 162,
     "metadata": {},
     "output_type": "execute_result"
    }
   ],
   "source": [
    "newton_rhapson(f1,d_f1,6)"
   ]
  },
  {
   "cell_type": "markdown",
   "metadata": {},
   "source": [
    "Podemos notar la importancia de este metodo y su velocidad de convergencia. A continuacion vamos a modificar el metodo para que retorne informacion tabulada sobre cada paso de iteracion para posterior analisis."
   ]
  },
  {
   "cell_type": "code",
   "execution_count": 186,
   "metadata": {},
   "outputs": [],
   "source": [
    "def newton_rhapson_(f,df,xi,tol=0.0001):\n",
    "    i = 0\n",
    "    out_i = []\n",
    "    out_x = []\n",
    "    out_error = []\n",
    "    while abs(f(xi)) >= tol:\n",
    "        i += 1\n",
    "        out_i.append(i)\n",
    "        out_x.append(xi)\n",
    "        out_error.append(f(xi))\n",
    "        xi = xi - f(xi)/df(xi)\n",
    "        \n",
    "    return [out_i, out_x, out_error]"
   ]
  },
  {
   "cell_type": "markdown",
   "metadata": {},
   "source": [
    "Graficamos su numero de iteracion vs el error:"
   ]
  },
  {
   "cell_type": "code",
   "execution_count": 165,
   "metadata": {},
   "outputs": [
    {
     "data": {
      "text/plain": [
       "[<matplotlib.lines.Line2D at 0x11ae8a940>]"
      ]
     },
     "execution_count": 165,
     "metadata": {},
     "output_type": "execute_result"
    },
    {
     "data": {
      "image/png": "[encoded data removed]",
      "text/plain": [
       "<Figure size 432x288 with 1 Axes>"
      ]
     },
     "metadata": {},
     "output_type": "display_data"
    }
   ],
   "source": [
    "out = newton_rhapson_(f1,d_f1,6,1e-6)\n",
    "#Grafica de Error vs unmero de iteracion\n",
    "plt.plot(out[0],out[2])"
   ]
  },
  {
   "cell_type": "markdown",
   "metadata": {},
   "source": [
    "Se puede observar una rapida convergencia y muy importante una estabilidad. A continuacion repiteremos el proceso para la funcion de prueba 2."
   ]
  },
  {
   "cell_type": "code",
   "execution_count": 193,
   "metadata": {},
   "outputs": [
    {
     "name": "stdout",
     "output_type": "stream",
     "text": [
      "X_1  =  0.000000    ; error=1.000000\n",
      "X_2  =  -1.000000    ; error=-0.632121\n",
      "X_3  =  -0.733044    ; error=-0.056908\n",
      "X_4  =  -0.703808    ; error=-0.000647\n",
      "Raiz encontrada: -0.7034674683317975\n"
     ]
    },
    {
     "data": {
      "text/plain": [
       "-0.7034674683317975"
      ]
     },
     "execution_count": 193,
     "metadata": {},
     "output_type": "execute_result"
    }
   ],
   "source": [
    "def d_f2(x):\n",
    "    return math.exp(x) - 2*x\n",
    "\n",
    "newton_rhapson(f2,d_f2,0,1e-6)"
   ]
  },
  {
   "cell_type": "code",
   "execution_count": 194,
   "metadata": {},
   "outputs": [
    {
     "data": {
      "text/plain": [
       "-8.716603061564854e-08"
      ]
     },
     "execution_count": 194,
     "metadata": {},
     "output_type": "execute_result"
    }
   ],
   "source": [
    "f2(-0.7034674683317975)"
   ]
  },
  {
   "cell_type": "markdown",
   "metadata": {},
   "source": [
    "Como siguiente paso mostraremos la convergencia:\n"
   ]
  },
  {
   "cell_type": "code",
   "execution_count": 198,
   "metadata": {},
   "outputs": [
    {
     "data": {
      "text/plain": [
       "[<matplotlib.lines.Line2D at 0x11b16fb70>]"
      ]
     },
     "execution_count": 198,
     "metadata": {},
     "output_type": "execute_result"
    },
    {
     "data": {
      "image/png": "[encoded data removed]",
      "text/plain": [
       "<Figure size 432x288 with 1 Axes>"
      ]
     },
     "metadata": {},
     "output_type": "display_data"
    }
   ],
   "source": [
    "out = newton_rhapson_(f2,d_f2,0,1e-6)\n",
    "#Grafica de Error vs unmero de iteracion\n",
    "plt.plot(out[0],out[2])"
   ]
  },
  {
   "cell_type": "markdown",
   "metadata": {},
   "source": [
    "# Raices Imaginarias"
   ]
  },
  {
   "cell_type": "markdown",
   "metadata": {},
   "source": [
    "# Raices de Polinomios"
   ]
  },
  {
   "cell_type": "code",
   "execution_count": null,
   "metadata": {},
   "outputs": [],
   "source": []
  }
 ],
 "metadata": {
  "kernelspec": {
   "display_name": "Python 3",
   "language": "python",
   "name": "python3"
  },
  "language_info": {
   "codemirror_mode": {
    "name": "ipython",
    "version": 3
   },
   "file_extension": ".py",
   "mimetype": "text/x-python",
   "name": "python",
   "nbconvert_exporter": "python",
   "pygments_lexer": "ipython3",
   "version": "3.7.1"
  }
 },
 "nbformat": 4,
 "nbformat_minor": 2
}
