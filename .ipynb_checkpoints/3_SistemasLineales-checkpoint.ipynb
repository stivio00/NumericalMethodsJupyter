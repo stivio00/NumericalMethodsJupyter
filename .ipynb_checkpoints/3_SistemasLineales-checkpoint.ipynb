{
 "cells": [
  {
   "cell_type": "markdown",
   "metadata": {},
   "source": [
    "# Sistemas de ecuaciones Lineales\n",
    "En este capitulo visitaremos el tema de los metodos numericos para resolver sistemas lineas de eacuciones.\n",
    "\n",
    "Definicion 2.1 Sistema de EcuacioneW Lineal:\n",
    "\n",
    "EJEMPLO un sistema lineal de 2 eacuciones simulataneas y 2 incognitas.\n",
    "$$ a_{11} x_1 + a_{12} x_2 = b_1 \\\\\n",
    "a_{21} x_1 + a_{22} x_2 = b_2 $$\n",
    "\n",
    "El sistema anterior se puede escribir como una igualtad de de dos vectores:\n",
    "$$\n",
    "\\begin{gather}\n",
    " \\begin{bmatrix}\n",
    "  a_{11} x_1 + a_{12} x_2 \\\\\n",
    "  a_{21} x_1 + a_{22} x_2\n",
    " \\end{bmatrix}\n",
    " =\n",
    "  \\begin{bmatrix}\n",
    "   b_1\\\\\n",
    "   b_2 \n",
    "   \\end{bmatrix}\n",
    "\\end{gather}\n",
    "$$\n",
    "\n",
    "Se puede reescribir la combinacion lineal de incognitas en forma de un producto matricial:\n",
    "$$\n",
    "\\begin{gather}\n",
    " \\begin{bmatrix}\n",
    "  a_{11} & a_{12}\\\\\n",
    "  a_{21} & a_{22}\n",
    " \\end{bmatrix}\n",
    "  \\begin{bmatrix}\n",
    "  x_1\\\\\n",
    "  x_2\n",
    " \\end{bmatrix}\n",
    " =\n",
    "  \\begin{bmatrix}\n",
    "   b_1\\\\\n",
    "   b_2 \n",
    "   \\end{bmatrix}\n",
    "\\end{gather}\n",
    "$$\n",
    "Se puede reescribir en forma compacta y general como:\n",
    "\n",
    "$$\n",
    "Ax=b\n",
    "$$\n",
    "\n",
    "Donde:\n",
    "$$\n",
    "A=  \n",
    " \\begin{bmatrix}\n",
    "  a_{11} & a_{12}\\\\\n",
    "  a_{21} & a_{22}\n",
    " \\end{bmatrix}\n",
    "$$\n",
    "$$\n",
    "x= \n",
    "\\begin{bmatrix}\n",
    "  x_1\\\\\n",
    "  x_2\n",
    " \\end{bmatrix}\n",
    "$$\n",
    "$$\n",
    "b=\n",
    "  \\begin{bmatrix}\n",
    "   b_1\\\\\n",
    "   b_2 \n",
    "   \\end{bmatrix} \n",
    "$$\n",
    " \n",
    " \n",
    "La matriz $A$ es conocida como la matriz de coeficientes, el vector x es conocido como el vector de incognitas y  b el vector de terminos libres\n",
    " "
   ]
  },
  {
   "cell_type": "markdown",
   "metadata": {},
   "source": [
    "## Rango, independecia lineal, transformaciones lineales\n"
   ]
  },
  {
   "cell_type": "markdown",
   "metadata": {},
   "source": [
    "## Matrizes o trnasformaciones lineales importantes e inversa\n",
    "El concepto de de transformacion lineal , es cualquier objeto u operacion que transforma un vector en otro vector. El producto matriz vector produce otro vector por lo tanto el sistema de ecuaciones lineales es una tranformacion linea.\n",
    "Comunmente existe multiple tipos y grupos de tranformaciones. A continuacion expondremos casos de tranformaciones lineal mas comunes\n",
    "### Identidad\n",
    "la matriz identidad posee la propiedad de transformar un vector a sis mismo. en esencia no altera el vector de entrada. es equivalente a al elmento 0 en la suma o el elemento 1 en la multiplicacion.\n",
    "Ejemplo de matriz identidad en 3  dimensiones.\n",
    "\n",
    "$$\n",
    "I=  \n",
    " \\begin{bmatrix}\n",
    "  1 & 0 & 0\\\\\n",
    "  0 & 1 & 0\\\\\n",
    "  0 & 0 & 1\n",
    " \\end{bmatrix}\n",
    "$$\n",
    "\n",
    "Se puede demostrar facilemente que la matriz que contiene 1 en la diagonal producira el mismo vector como $ Ix=x$.\n",
    "\n",
    "La tranformacion inversa de la matriz identidad es ella misma $$ I^{-1} = I $$\n",
    "\n",
    "### Scalado\n",
    "La matriz que scala un vector estirandolo o comprimiendolo se conoce como scala y posee la siguiente estructura:\n",
    "$$\n",
    "S=  \n",
    " \\begin{bmatrix}\n",
    "  s_1 & 0 & 0\\\\\n",
    "  0 & s_2 & 0\\\\\n",
    "  0 & 0 & s_3\n",
    " \\end{bmatrix}\n",
    "$$\n",
    "En el caso de una escala homogenea $s_1=s_2=s_3=s$\n",
    "\n",
    "### Distorsion cortante\n",
    "$$\n",
    "F=  \n",
    " \\begin{bmatrix}\n",
    "  1 & s_{12} & 0\\\\\n",
    "  0 & 1 & 0\\\\\n",
    "  0 & 0 & 1\n",
    " \\end{bmatrix}\n",
    "$$\n",
    "\n",
    "### Rotacion\n",
    "Solo por mostrar un ejemplo la rotacion de un vector en el eje Z\n",
    "$$\n",
    "R_z=  \n",
    " \\begin{bmatrix}\n",
    "  cos(\\theta) & -sin(\\theta) & 0\\\\\n",
    "  sin(\\theta) & cos(\\theta) & 0\\\\\n",
    "  0 & 0 & 1\n",
    " \\end{bmatrix}\n",
    "$$\n",
    "\n",
    "### Matrices ortogonales\n",
    "Son matrices que sus inversas son su transpuesta\n",
    "$$ Q^{-1} = Q^T $$\n",
    "Como ejemplo clasico la matrices de rotacion son matrices ortogonales.\n",
    "\n",
    "\n",
    "### MAtrices simetricas\n",
    "Sus elementos son simetricos a lo largo de la diagonal(ejemplo scalaado)\n",
    "$$\n",
    "symm=  \n",
    " \\begin{bmatrix}\n",
    "  x_1 & a & b\\\\\n",
    "  a & x_2 & c\\\\\n",
    "  b & c & x_3\n",
    " \\end{bmatrix}\n",
    "$$\n",
    "Esto implica $ M^T = M $\n",
    "\n",
    "### Matrices anti-simetricas\n",
    "Sus elementos son de signo opuesto a lo largo de la diagonal(ejemplo rotacion)\n",
    "$$\n",
    "symm=  \n",
    " \\begin{bmatrix}\n",
    "  x_1 & a & b\\\\\n",
    "  -a & x_2 & c\\\\\n",
    "  -b & -c & x_3\n",
    " \\end{bmatrix}\n",
    "$$\n",
    "Esto implica $ -K^T = K $\n",
    "\n",
    "### Projecciones\n"
   ]
  },
  {
   "cell_type": "markdown",
   "metadata": {},
   "source": [
    "## Systemas lineales y algunas definiciones:"
   ]
  },
  {
   "cell_type": "code",
   "execution_count": null,
   "metadata": {},
   "outputs": [],
   "source": []
  },
  {
   "cell_type": "markdown",
   "metadata": {},
   "source": [
    "# Métodos Directos\n",
    "MEtodos que utilizan una cantidad finita y restablecidad de pasos para determinar la solucion de un sistema lineal. Estos metodos.\n",
    "## Reduccion Gausseana\n",
    "Este metodo utilizado para resolver sistemas lineales utilizando el concepto de transformaciones lineales, y con ol objetivo de reducir el sistema lineal.\n",
    "$$Ax = b$$\n",
    "$$\n",
    "A=  \n",
    " \\begin{bmatrix}\n",
    "  a & b & c\\\\\n",
    "  d & e & f\\\\\n",
    "  g & h & i\n",
    " \\end{bmatrix}\n",
    "$$\n",
    "\n",
    "$$\n",
    "b=  \n",
    " \\begin{bmatrix}\n",
    "  b_1\\\\\n",
    "  b_2\\\\\n",
    "  b_3\n",
    " \\end{bmatrix}\n",
    "$$\n",
    "\n",
    "La matriz aumentada:\n",
    "$$\n",
    "\\begin{array}{ccc|c}\n",
    "  a & b & c & b_1\\\\\n",
    "  d & e & f & b_2\\\\\n",
    "  g & h & i & b_3\n",
    "\\end{array}\n",
    "$$\n",
    "Paso 1: normalizar  la primera fila con el elemento diagonal\n",
    "\n",
    "$$\n",
    "\\begin{array}{ccc|c}\n",
    "  \\fbox 1 & \\frac{b}{a} & \\frac{c}{a} & \\frac{b_1}{a}\\\\\n",
    "  d & e & f & b_2\\\\\n",
    "  g & h & i & b_3\n",
    "\\end{array}\n",
    "$$\n",
    "\n",
    "Paso 2: eliminar los elementos debajo del primer elemento de la diagonal\n",
    "$fila_2 = fila_2 - d * fila_1$\n",
    "$$\n",
    "\\begin{array}{ccc|c}\n",
    "  1 & \\frac{b}{a} & \\frac{c}{a} & \\frac{b_1}{a}\\\\\n",
    "  \\fbox 0 & e - d \\frac{b}{a} & f - d \\frac{c}{a} &b_2 -  \\frac{d*b_1}{a} \\\\\n",
    "  \\fbox 0 & h - d*b/a & i - d*c/a\n",
    "\\end{array}\n",
    "$$\n",
    "\n",
    "Paso 3: nomalizar el segundo elemento de la diagonal\n",
    "\n",
    "$$\n",
    "\\begin{array}{ccc|c}\n",
    "  1 & b/a & c/a  & \\frac{b_1}{a}\\\\\n",
    "  0 & \\fbox 1 & \\frac{f - \\frac{d c}{a}}{e - \\frac{d b}{a}} & b_2 -  \\frac{d*b_1}{a}\\\\\n",
    "  0 & h - \\frac{d b}{a} & i - \\frac{d c}{a}\n",
    "\\end{array}\n",
    "$$\n",
    "\n",
    "Paso 3: Repetir el paso 2 con el siguiente elemento\n",
    "$$\n",
    "\\begin{array}{ccc|c}\n",
    "  1 & b/a & c/a & \\frac{b_1}{a}\\\\\n",
    "  0 & \\fbox 1 & \\frac{f - \\frac{d c}{a}}{e - \\frac{d b}{a}} &b_2 -  \\frac{d*b_1}{a}\\\\\n",
    "  0 & 0 & i - \\frac{d c}{a} - (\\frac{f - \\frac{d c}{a}}{e - \\frac{d b}{a}})(h - \\frac{d b}{a})\n",
    "\\end{array}\n",
    "$$\n",
    "\n",
    "Paso 4: Normalizar el ultimo elemento de la diagonal\n",
    "\\begin{array}{ccc|c}\n",
    "  1 & b/a & c/a & \\frac{b_1}{a}\\\\\n",
    "  0 & 1 & \\frac{f - \\frac{d c}{a}}{e - \\frac{d b}{a}} &b_2 -  \\frac{d*b_1}{a}\\\\\n",
    "  0 & 0 & \\fbox 1 & b'_3\n",
    "\\end{array}\n",
    "\n",
    "\n",
    "En este punto el sistema linea debe de tener un triangulo de ceros debajo de la diagonal, y una diagonal de 1. En este punto la matriy esta \"reducida\". El siguiente paso se conoce como *substitucion  inversa*, este proceso comienza desde el ultimo elemento y se remplaza n la eqcuaciones hasta resolver todas las incognitas.\n",
    "\n",
    "$$ x_3 =  b_3'$$\n",
    "\n",
    "Y remplazamos en la fila 2 el valor de $x_3$\n",
    "\n",
    "$$ x_2 = b'_2 - x_3*() $$"
   ]
  },
  {
   "cell_type": "code",
   "execution_count": 1,
   "metadata": {},
   "outputs": [],
   "source": [
    "import numpy as np\n",
    "import matplotlib.pyplot as plt"
   ]
  },
  {
   "cell_type": "code",
   "execution_count": 42,
   "metadata": {},
   "outputs": [
    {
     "data": {
      "text/plain": [
       "array([[10.,  3.,  2.],\n",
       "       [ 4.,  5.,  3.],\n",
       "       [ 1., 10., 20.]])"
      ]
     },
     "execution_count": 42,
     "metadata": {},
     "output_type": "execute_result"
    }
   ],
   "source": [
    "#sMatriz de prueba\n",
    "A = np.array([[10,3,2],[4,5,3],[1,10,20]],dtype=np.double)\n",
    "A[:,:] #vista de la matriz entera "
   ]
  },
  {
   "cell_type": "code",
   "execution_count": 19,
   "metadata": {},
   "outputs": [
    {
     "data": {
      "text/plain": [
       "array([10.,  3.,  2.])"
      ]
     },
     "execution_count": 19,
     "metadata": {},
     "output_type": "execute_result"
    }
   ],
   "source": [
    "A[0,:] #Primera fila"
   ]
  },
  {
   "cell_type": "code",
   "execution_count": 20,
   "metadata": {},
   "outputs": [
    {
     "data": {
      "text/plain": [
       "array([4., 5., 3.])"
      ]
     },
     "execution_count": 20,
     "metadata": {},
     "output_type": "execute_result"
    }
   ],
   "source": [
    "A[1,:] #Segunda fila"
   ]
  },
  {
   "cell_type": "code",
   "execution_count": 21,
   "metadata": {},
   "outputs": [
    {
     "data": {
      "text/plain": [
       "array([ 1., 10., 20.])"
      ]
     },
     "execution_count": 21,
     "metadata": {},
     "output_type": "execute_result"
    }
   ],
   "source": [
    "A[2,:] #Primera fila"
   ]
  },
  {
   "cell_type": "code",
   "execution_count": 22,
   "metadata": {},
   "outputs": [
    {
     "data": {
      "text/plain": [
       "array([10.,  4.,  1.])"
      ]
     },
     "execution_count": 22,
     "metadata": {},
     "output_type": "execute_result"
    }
   ],
   "source": [
    "A[:,0] #Primera columna"
   ]
  },
  {
   "cell_type": "code",
   "execution_count": 23,
   "metadata": {},
   "outputs": [
    {
     "data": {
      "text/plain": [
       "5.0"
      ]
     },
     "execution_count": 23,
     "metadata": {},
     "output_type": "execute_result"
    }
   ],
   "source": [
    "#Elemento a_2,2\n",
    "A[1,1]"
   ]
  },
  {
   "cell_type": "code",
   "execution_count": 24,
   "metadata": {},
   "outputs": [],
   "source": [
    "#Modificar elemento\n",
    "A[1,1] = 6"
   ]
  },
  {
   "cell_type": "code",
   "execution_count": 25,
   "metadata": {},
   "outputs": [
    {
     "data": {
      "text/plain": [
       "array([[10.,  3.,  2.],\n",
       "       [ 4.,  6.,  3.],\n",
       "       [ 1., 10., 20.]])"
      ]
     },
     "execution_count": 25,
     "metadata": {},
     "output_type": "execute_result"
    }
   ],
   "source": [
    "A"
   ]
  },
  {
   "cell_type": "markdown",
   "metadata": {},
   "source": [
    "A continuacion vamos a modificar la matriz para reducirla en su forma de triangulos de 0 utilizando el algoritmo de gauss:"
   ]
  },
  {
   "cell_type": "code",
   "execution_count": 43,
   "metadata": {},
   "outputs": [
    {
     "data": {
      "text/plain": [
       "array([[ 1. ,  0.3,  0.2],\n",
       "       [ 4. ,  5. ,  3. ],\n",
       "       [ 1. , 10. , 20. ]])"
      ]
     },
     "execution_count": 43,
     "metadata": {},
     "output_type": "execute_result"
    }
   ],
   "source": [
    "#Paso1\n",
    "A[0] = A[0] / A[0,0]\n",
    "A"
   ]
  },
  {
   "cell_type": "code",
   "execution_count": 46,
   "metadata": {},
   "outputs": [
    {
     "data": {
      "text/plain": [
       "array([[ 1. ,  0.3,  0.2],\n",
       "       [ 0. ,  3.8,  2.2],\n",
       "       [ 0. ,  9.7, 19.8]])"
      ]
     },
     "execution_count": 46,
     "metadata": {},
     "output_type": "execute_result"
    }
   ],
   "source": [
    "#Paso 2\n",
    "A[1] = A[1] - A[1,0]*A[0]\n",
    "A[2] = A[2] - A[2,0]*A[0]\n",
    "A"
   ]
  },
  {
   "cell_type": "code",
   "execution_count": null,
   "metadata": {},
   "outputs": [],
   "source": [
    "#Paso 3\n"
   ]
  }
 ],
 "metadata": {
  "kernelspec": {
   "display_name": "Python 3",
   "language": "python",
   "name": "python3"
  },
  "language_info": {
   "codemirror_mode": {
    "name": "ipython",
    "version": 3
   },
   "file_extension": ".py",
   "mimetype": "text/x-python",
   "name": "python",
   "nbconvert_exporter": "python",
   "pygments_lexer": "ipython3",
   "version": "3.7.1"
  }
 },
 "nbformat": 4,
 "nbformat_minor": 2
}
