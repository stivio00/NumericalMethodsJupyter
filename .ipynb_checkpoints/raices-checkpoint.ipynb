{
 "cells": [
  {
   "cell_type": "markdown",
   "metadata": {},
   "source": [
    "# Busqueda de Raices\n",
    "En este notebook interactivo vamos a describir e implementar diferente algoritmos de busqueda de raices\n",
    "\n",
    "$$ f(\\mathbf{x}) = \\mathbf 0 $$\n",
    "\n",
    "$$ x^2 = 4 $$\n",
    "$$ x_1 = 2 $$\n",
    "$$ x_2 = -2 $$\n",
    "\n",
    "$$ f(x) = x^2 - 4 = 0 $$\n",
    "\n",
    "Funciones de prueba:\n",
    "\n",
    "$$ f_1(x) = x^2 -4 $$\n",
    "$$ f_2(x) = e^x - x^2 $$"
   ]
  },
  {
   "cell_type": "code",
   "execution_count": 16,
   "metadata": {},
   "outputs": [],
   "source": [
    "import numpy as np\n",
    "import matplotlib.pylab as plt\n",
    "\n",
    "def f1(x):\n",
    "    return  x*x - 4\n",
    "\n",
    "def f2(x):\n",
    "    return np.exp(x) - x*x"
   ]
  },
  {
   "cell_type": "code",
   "execution_count": 11,
   "metadata": {},
   "outputs": [],
   "source": [
    "xx = np.linspace(-5,5, 50)"
   ]
  },
  {
   "cell_type": "code",
   "execution_count": 25,
   "metadata": {},
   "outputs": [
    {
     "data": {
      "image/png": "[encoded data removed]",
      "text/plain": [
       "<Figure size 432x288 with 1 Axes>"
      ]
     },
     "metadata": {},
     "output_type": "display_data"
    }
   ],
   "source": [
    "plt.plot(xx,xx*xx)\n",
    "plt.plot(xx,np.exp(xx))\n",
    "plt.ylim(-2,2)\n",
    "plt.xlim(-2,0)\n",
    "plt.grid()"
   ]
  },
  {
   "cell_type": "code",
   "execution_count": 24,
   "metadata": {},
   "outputs": [
    {
     "data": {
      "text/plain": [
       "-0.05099100990979749"
      ]
     },
     "execution_count": 24,
     "metadata": {},
     "output_type": "execute_result"
    }
   ],
   "source": [
    "f2(-.73)"
   ]
  },
  {
   "cell_type": "code",
   "execution_count": 55,
   "metadata": {},
   "outputs": [],
   "source": [
    "def biseccion(f, x0, x1, tol=1.0e-3, max_iter=1000):\n",
    "    xm = (x1+x0)/2 #calculo del punto medio\n",
    "    i = 0\n",
    "    while i < max_iter:\n",
    "        i = i + 1 # proxima iter\n",
    "        f0 = f(x0)\n",
    "        f1 = f(x1)\n",
    "        fm = f(xm)\n",
    "        print(\"#iter=\"+str(i)+\" x0=%f; xm=%f; x1=%f;  f(x0)=%f; f(xm)=%f; f(x1)=%f;\"%(x0,xm,x1,f0,fm,f1))\n",
    "    \n",
    "        if np.abs(fm) < tol:\n",
    "            print(\"La raiz esta en x=\" + str(xm))\n",
    "            return xm\n",
    "    \n",
    "        if f0*fm < 0:  #cambio de sgn en el primer intervalo\n",
    "            x1 = xm\n",
    "        elif fm*f1 < 0:\n",
    "            x0 = xm\n",
    "        else: \n",
    "            print(\"No se encontro un cambio de signo en ningun intervalo\")\n",
    "            return\n",
    "        xm = (x1+x0)/2 \n",
    "    return 0"
   ]
  },
  {
   "cell_type": "code",
   "execution_count": 56,
   "metadata": {},
   "outputs": [
    {
     "name": "stdout",
     "output_type": "stream",
     "text": [
      "La raiz esta en x=-2.000000238418579\n"
     ]
    },
    {
     "data": {
      "text/plain": [
       "-2.000000238418579"
      ]
     },
     "execution_count": 56,
     "metadata": {},
     "output_type": "execute_result"
    }
   ],
   "source": [
    "biseccion(f1,0,6s)"
   ]
  },
  {
   "cell_type": "code",
   "execution_count": 53,
   "metadata": {},
   "outputs": [
    {
     "name": "stdout",
     "output_type": "stream",
     "text": [
      "#iter=1 x0=10.000000; xm=55.000000; x1=100.000000;  f(x0)=96.000000; f(xm)=3021.000000; f(x1)=9996.000000;\n",
      "No se encontro un cambio de signo en ningun intervalo\n"
     ]
    }
   ],
   "source": [
    "biseccion(f1,10,100, tol=1e-6)"
   ]
  },
  {
   "cell_type": "code",
   "execution_count": 52,
   "metadata": {},
   "outputs": [
    {
     "data": {
      "text/plain": [
       "1.0159194241410319e-07"
      ]
     },
     "execution_count": 52,
     "metadata": {},
     "output_type": "execute_result"
    }
   ],
   "source": [
    "f2(x=-0.7034673690795898)"
   ]
  },
  {
   "cell_type": "code",
   "execution_count": 73,
   "metadata": {},
   "outputs": [],
   "source": [
    "def newton(f,df,x0, tol=1.0e-3, max_iter=1000 ):\n",
    "    i = 0\n",
    "    while i < max_iter:\n",
    "        i = i + 1\n",
    "        x0 = x0 - f(x0)/df(x0)\n",
    "        \n",
    "        print(\"Iter#%i;  x=%f\"%(i,x0))\n",
    "        \n",
    "        if np.abs(f(x0)) < tol :\n",
    "            print(\"la raiz esta en x=\"+str(x0))\n",
    "            return\n",
    "    "
   ]
  },
  {
   "cell_type": "code",
   "execution_count": 65,
   "metadata": {},
   "outputs": [],
   "source": [
    "def df1(x):\n",
    "    return 2*x"
   ]
  },
  {
   "cell_type": "code",
   "execution_count": 74,
   "metadata": {},
   "outputs": [
    {
     "name": "stdout",
     "output_type": "stream",
     "text": [
      "Iter#1;  x=3.333333\n",
      "Iter#2;  x=2.266667\n",
      "Iter#3;  x=2.015686\n",
      "Iter#4;  x=2.000061\n",
      "la raiz esta en x=2.000061036087587\n"
     ]
    }
   ],
   "source": [
    "newton(f1,df1,6)"
   ]
  },
  {
   "cell_type": "code",
   "execution_count": null,
   "metadata": {},
   "outputs": [],
   "source": []
  },
  {
   "cell_type": "code",
   "execution_count": null,
   "metadata": {},
   "outputs": [],
   "source": []
  },
  {
   "cell_type": "code",
   "execution_count": null,
   "metadata": {},
   "outputs": [],
   "source": []
  }
 ],
 "metadata": {
  "kernelspec": {
   "display_name": "Python 3",
   "language": "python",
   "name": "python3"
  },
  "language_info": {
   "codemirror_mode": {
    "name": "ipython",
    "version": 3
   },
   "file_extension": ".py",
   "mimetype": "text/x-python",
   "name": "python",
   "nbconvert_exporter": "python",
   "pygments_lexer": "ipython3",
   "version": "3.7.2"
  }
 },
 "nbformat": 4,
 "nbformat_minor": 2
}
