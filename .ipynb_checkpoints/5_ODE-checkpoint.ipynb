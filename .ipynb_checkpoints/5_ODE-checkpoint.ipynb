{
 "cells": [
  {
   "cell_type": "markdown",
   "metadata": {
    "slideshow": {
     "slide_type": "slide"
    },
    "tags": [
     "intro"
    ]
   },
   "source": [
    "# 5 Ecuaciones diferenciales ordinaria (ODE)\n",
    "Ecuaciones diferenciales ordinarias son esenciales en las aplicaciones en ingenieria, ya que muchos modelos fisicos utilizan derivada para cuantificar cantidades fisicas. Por ejemplo el casi mas esencial en ingenieria mecania son las ecuaciones de conservacion. Conservacion de energia, de momentum y masa. Estas ecuaciones se escriben de forma diferencial y su solucion muchas veces el el comportamiento del sistema. Como variable depentiendes de tiempo podemos detectar la posición y sus derivadas velocidad y aceleracion. Un sistema mecanica podemos escribirlos, si las condiciones son propicias, como un sistema diferencial lineal. Por lo tanto la solucion se busqueda puede recaer en una solucion analitica o numerica.\n",
    "En el caso de las soluciones numericas si los teoremas de -- podemos aplicarlos a sistemas no lineas."
   ]
  },
  {
   "cell_type": "markdown",
   "metadata": {
    "slideshow": {
     "slide_type": "slide"
    }
   },
   "source": [
    "## 5.1 Introducción\n",
    "Una ecuacion diferencia ordinaria es una ecuacion el que la funcion incognita solo deriva con respecto a a la variable independiente. Esto contrasta con las ecuaciones diferenciales parciales que su definicion canonica es una ecuacionq ue posee derivada de una funcion de de dos o mas variable.\n",
    "Un ejemplo de ecuacion diferencia es la ecuacion de un grado de liberatd lineal\n",
    "\n",
    "$$m \\frac{\\mathrm d^2 x}{\\mathrm d t^2} - c \\frac{\\mathrm d x}{\\mathrm d t} + k x = f(t) $$\n",
    "\n",
    "Para el caso homogeneeo de $f(t) = 0$ optenemos un ecuación homogenea donde la funcion $x(t)$ es desconocida.  Y podemos utilizar metodos analiticos simples para determinar la familia de curvas que resuelve la ecuacion.\n",
    "\n",
    "Antes de continuar tenemos que mencionar que una ecución deferencial de primer orden superior, por ejemplo de orden `n`, se puede transformar a un sistema de  `n`ecuaciones. En el ejemplo anterior se puede convertir al hacer un cambio de variables. El objetivo es Convertir las derivadas de orden superior por ejmplo la velocidad se puede escribir como \n",
    "$$ v = \\frac{\\mathrm d x}{\\mathrm d t}$$\n",
    "\n",
    "y reescribir la ecuacion de primer orden en un sistemas de dos ecuaciones de primer orden:\n",
    "\n",
    "$  \\frac{\\mathrm d v}{\\mathrm d t} = \\frac{c}{m} v(t) - \\frac{k}{m} x(t)  $\n",
    "\n",
    "$ \\frac{\\mathrm d x}{\\mathrm d t} = v(t)$\n",
    "\n",
    "Donde la variable incognitas son $x(t)$ y $v(t)$. Y se pueden escribir en forma matricial como:\n",
    "$$\n",
    "\\begin{bmatrix}\n",
    " \\frac{\\mathrm d v}{\\mathrm d t} \\\\\n",
    " \\frac{\\mathrm d x}{\\mathrm d t}\n",
    "\\end{bmatrix}\n",
    "=\n",
    "\\begin{bmatrix}\n",
    " \\frac{c}{m} & -\\frac{k}{m} \\\\\n",
    " 0 & 1\n",
    "\\end{bmatrix}\n",
    "\\begin{bmatrix}\n",
    " x(t)\\\\\n",
    " v(t)\n",
    "\\end{bmatrix}\n",
    "$$\n",
    "Donde donde podemos definir $\\mathbf x = \\mathbf x(t)$ como el ***vector de estado*** donde:\n",
    "$$ \\mathbf x(t) = \\begin{bmatrix} v(t)\\\\x(t) \\end{bmatrix} $$ \n",
    "\n",
    "Por motivos informativos pero no relevantes para el tema de métodos númericos podemos mostrar la ecuacion generica de estado:\n",
    "$$ \\frac{\\mathrm d}{\\mathrm d t}\\mathbf x(t) = \\mathbf A \\mathbf x(t) + \\mathbf u(t)$$\n",
    "\n",
    "donde `A` es la matriz de coeficientes, `x`es nuestro estado y `u` son las entradas al sistema, en nuestro caso es cero. Para recapitular cualquier ecuacion de orden superior `n` se puede transforma a un sistema de `n` ecuaciones y viceversa. Cabe mencionar que este procedimiento no es unicos. Estas transformaciones puden transformar en diferentes formas. La forma canonica o caracteristica del sistemas de ODE's esta fuera del alcance de este curso."
   ]
  },
  {
   "cell_type": "markdown",
   "metadata": {
    "slideshow": {
     "slide_type": "slide"
    }
   },
   "source": [
    "###  {Ejemplo 5.1}\n",
    "Siguiendo la metodología propuesta vamos a deifinir un problema simple para resolverlo de forma analitica y siguiente\n",
    "$$ f'(x) =  \\mathrm{sin}(x) $$\n",
    "\n",
    "donde la función incognita es $f = f(x)$ y la variable independiente es $x$\n",
    "Podemos escribir esto como \n",
    "$$ \\frac{\\mathrm d}{\\mathrm d x} f(x) = g(x) $$\n",
    "donde $g(x) = x + \\mathrm{sin}(x)$\n",
    "\n",
    "Si queremos darle un significado geometrico podemos hacer el cambio de variable $y = f(x)$ \n",
    "$$ \\frac{\\mathrm d y}{\\mathrm d x} = \\mathrm{sin}(x) = g(x) $$\n",
    "\n",
    "Donde $y(x)$ es un funcion desconocida podemos al igual que en busqueda de raices que buscabamos un valor $x$ que resolvia una ecuacion algebraica. Ir intententado diferentes funciones que al derivar $f(x)$ una vez se iguale a $x + sin(x)$. Esto se puede hacer facilemente debido a a que es una fucnion de una sola variable independiente por lo tanto esta se puede integrar directamente, ya que la integral es la operación inversa de la derivada.\n",
    "la funcion $$ f(x) =  - cos(x)$$ \n",
    "resuelve la ecuacion\n",
    "Si derivamos $$f'(x) = \\frac{\\mathrm d}{\\mathrm d x} f(x) = \\mathrm{sin}(x)$$\n",
    "Por lo tanto tenemos una solución a la ecuacion diferencial. Pero tenemos que investigar otro problema.\n",
    "la funcion $$ f(x) = \\frac{1}{2} x^2 - cos(x) + 1000$$\n",
    "tambies es una solución de la ec. dif.  y de echo tota la familia de curvas :\n",
    "$$ f(x) = \\frac{1}{2} x^2 - cos(x) + c$$\n",
    "donde $c$ es estrictamente un valor que pertenezca a $\\mathbb R$ (en esencia una constante real).\n",
    "Por eso decimos que la solucion particula de una ecuación diferencial es una de los tantos casos generales de la solución general. Para acotar aun mas el problema podemos definir condiciones conocidas como condiciones iniciales. y estas determinan una solución particular.\n",
    "\n",
    "Extendiendo el aspecto geometrico donde $$ \\frac{\\mathrm d y}{\\mathrm d x} = x + \\mathrm{sin}(x) = g(x) $$\n",
    "podemos entonces graficar la pendiente $\\frac{\\mathrm d y}{\\mathrm d x}$ en funcion de x ,f(x).\n",
    "\n"
   ]
  },
  {
   "cell_type": "code",
   "execution_count": 1,
   "metadata": {
    "slideshow": {
     "slide_type": "slide"
    }
   },
   "outputs": [
    {
     "data": {
      "text/plain": [
       "'Pendiente'"
      ]
     },
     "metadata": {},
     "output_type": "display_data"
    },
    {
     "data": {
      "text/plain": [
       "<Figure size 640x480 with 1 Axes>"
      ]
     },
     "metadata": {},
     "output_type": "display_data"
    }
   ],
   "source": [
    "import matplotlib.pyplot as plt\n",
    "import numpy as np\n",
    "\n",
    "X = np.arange(0,10)\n",
    "Y =  np.arange(-5,5)\n",
    "U, V =  np.meshgrid(np.sin(X), np.ones(10))\n",
    "\n",
    "plt.quiver(U, V)\n",
    "plt.plot(X,-np.cos(X) + 2)\n",
    "plt.plot(X,-np.cos(X) + 2.5)\n",
    "\n",
    "plt.ylim(0,5)\n",
    "display(\"Pendiente\")\n",
    "plt.show()"
   ]
  },
  {
   "cell_type": "markdown",
   "metadata": {
    "slideshow": {
     "slide_type": "subslide"
    }
   },
   "source": [
    "Podemos apreciar que el campo vetorial generado por la pendiente de la ecuacion diferencia, ajusta la solucion $-cos(x) +c $ donde graficamos solo cuando $ c= 2$ y $c=2.5$\n",
    "\n",
    "Las condiciones sujetas a $f(x=0) = K$ se conocen como condiciones iniciales. Por ejemplo queremos la solucion particular sujeta a que la curva pase por el punto $f(0) = 2$, entonces porcedemos a remplzar el valor de $x=0$ y $f = 2$ en nuestra solución general, y optenemos que parametro de $c$ satisface esta condición.\n",
    "\n",
    "$$f(0) = -cos(0) + c  = 2$$\n",
    "$$ -1 + c = 2$$\n",
    "$$ c = 3$$\n",
    "Entonces nuestra solucion particular que cumple esta condicion incial es :\n",
    "$$f(x) = -cos(x) + 3$$\n",
    "Vamos a graficar esta solución para ver si pasa por el punto."
   ]
  },
  {
   "cell_type": "code",
   "execution_count": 2,
   "metadata": {
    "slideshow": {
     "slide_type": "subslide"
    }
   },
   "outputs": [
    {
     "data": {
      "image/png": "[encoded data removed]",
      "text/plain": [
       "<Figure size 432x288 with 1 Axes>"
      ]
     },
     "metadata": {},
     "output_type": "display_data"
    }
   ],
   "source": [
    "plt.quiver(U, V)\n",
    "c = 3.0\n",
    "plt.plot(X,-np.cos(X) + c)\n",
    "plt.ylim(0,5)\n",
    "plt.show()"
   ]
  },
  {
   "cell_type": "markdown",
   "metadata": {
    "slideshow": {
     "slide_type": "notes"
    }
   },
   "source": [
    "Efectivamente si $c=3$ la curva pasa por $f(0)=2$, ahora pontremos un manipulador para inspeccionar todas las curvas contenidas en un rango definido:"
   ]
  },
  {
   "cell_type": "code",
   "execution_count": 3,
   "metadata": {
    "slideshow": {
     "slide_type": "slide"
    }
   },
   "outputs": [
    {
     "data": {
      "application/vnd.jupyter.widget-view+json": {
       "model_id": "db485b41f3d1427e906eb82c502838bf",
       "version_major": 2,
       "version_minor": 0
      },
      "text/plain": [
       "interactive(children=(FloatSlider(value=3.0, description='c', max=5.0, min=1.0), Output()), _dom_classes=('wid…"
      ]
     },
     "metadata": {},
     "output_type": "display_data"
    }
   ],
   "source": [
    "from ipywidgets import interact\n",
    "@interact(c=(1.0,5.0))\n",
    "def plot(c):\n",
    "    plt.quiver(U, V)\n",
    "\n",
    "    plt.plot(X,-np.cos(X) + c)\n",
    "    plt.ylim(0,5)\n",
    "    plt.show()"
   ]
  },
  {
   "cell_type": "markdown",
   "metadata": {},
   "source": [
    "Todas las curvas satisfacen el campo de pendientes generados por la ecuacion diferencial. Bueno, suficiente con un repaso elemental de ecuaciones simples ahora vamos a desarrollar  metodos numericos que resuelvan ecuaciones diferenciales.\n",
    "Antes de comezar notamos que la funcoion $g(x)$ no depende de la variable dependiente $f(x)$ o $y$. por lo tanto la ecuación es directamente integrable. El caso mas general es cuando la funcion $g = g(x,y)$ o $g(x,f(x))$. En este caso la ecuacion diferencia depende de su propia funcion.\n",
    "Por ultimo el caso multi variable donde $\\mathbf g(x,\\mathbf y)$ nos dice que la forma general de una ecuacion diferencia ordinaria es $$\\mathbf f'(x) = \\mathbf g(x, \\mathbf f(x))$$. Y mas importante au si podemos escribir $\\mathbf g(x,\\mathbf y)$ como una operacion lineal : $\\mathbf g(x,\\mathbf y) = \\mathbf A  \\mathbf y$ y es una matrir de constantes se dice que la ecuacion diferencial es lineal. Por otro lado si es $\\mathbf A(x)$ se dice que es quasi-lineal.\n"
   ]
  },
  {
   "cell_type": "markdown",
   "metadata": {},
   "source": [
    "## 5.2 Métodos de Runge-Kutta\n",
    "Sin duda alguna los metodos de la familia de Runge-Kutta son la familia de metodos mas ultizados para resolver escuaciones diferencia ordinarias. Como cualquier familia de metodos existe una descripción general, y sub casos dependiendo el grado de aproximación utilizado.\n",
    "\n",
    "El primer caso es el Método de Euler, con este metodo aproximamos el valor que tomar la funcion aproximando el valor de su pendiente. Utilizando la filosofá de \n",
    "\n",
    "`Nuevo Valor = antiguo valor + pendiente*paso`\n",
    "Esto en temrinos matematico lo podemos escribir como\n",
    "$$ y_{i+1} = y_{i} + \\phi h$$\n",
    "\n",
    "### 5.2.1 Método de Euler\n",
    "Debido a que la ecuacion diferencial es a partir de $f'(x) = g(x,y)$, podemos aproximar el valor  de $phi$ como $g(x,y)$\n",
    "Para probar este algoritmo simple vamos a utiliizar un ecuacion diferencia simple\n",
    "$$ \\frac{\\mathrm d y}{\\mathrm d x} = \n",
    "-2 x^3 + 12 x^2 -20 x +8.5 $$\n",
    "y sabemos su solucion:\n",
    "$$ y = - 0.5x^4 + 4x^3 - 10x^2 + 8.5 x +1 $$\n",
    "\n"
   ]
  },
  {
   "cell_type": "code",
   "execution_count": 138,
   "metadata": {},
   "outputs": [],
   "source": [
    "def g(x):\n",
    "    return -2*x**3 + 12*x**2 - 20*x + 8.5\n",
    "\n",
    "def f(x): \n",
    "    return -0.5*x**4 + 4*x**3 - 10*x**2 + 8.5*x + 1"
   ]
  },
  {
   "cell_type": "code",
   "execution_count": 5,
   "metadata": {},
   "outputs": [
    {
     "data": {
      "text/plain": [
       "Text(0.5, 1.0, 'Pendiente')"
      ]
     },
     "execution_count": 5,
     "metadata": {},
     "output_type": "execute_result"
    },
    {
     "data": {
      "image/png": "[encoded data removed]",
      "text/plain": [
       "<Figure size 432x288 with 1 Axes>"
      ]
     },
     "metadata": {},
     "output_type": "display_data"
    }
   ],
   "source": [
    "vg = np.vectorize(g)\n",
    "vf = np.vectorize(f)\n",
    "\n",
    "x = np.linspace(0,4)\n",
    "plt.plot(x,vg(x),label=\"$g(x)$\")\n",
    "plt.legend(loc=\"upper right\")\n",
    "plt.ylabel(\"g(x\")\n",
    "plt.xlabel(\"x\")\n",
    "plt.title(\"Pendiente\")"
   ]
  },
  {
   "cell_type": "code",
   "execution_count": 6,
   "metadata": {},
   "outputs": [
    {
     "data": {
      "image/png": "[encoded data removed]",
      "text/plain": [
       "<Figure size 432x288 with 1 Axes>"
      ]
     },
     "metadata": {},
     "output_type": "display_data"
    }
   ],
   "source": [
    "plt.plot(x,vf(x), label = \"f(x)\")\n",
    "plt.legend(loc=\"upper right\")\n",
    "plt.ylabel(\"f(x)\")\n",
    "plt.xlabel(\"x\")\n",
    "plt.title(\"Solución exacta ed la ecuación diferencial\")\n",
    "plt.show()"
   ]
  },
  {
   "cell_type": "markdown",
   "metadata": {},
   "source": [
    "Vamos a implementar el metodo de euler paso a paso, como entrada vamos a tener la funcion a integrar `f'(x)` o `g(x)`, el paso `h`, condicion inicial, x inicial, y x final. Y el resultado son los puntos solucion de la funcion solucion `f(x)`."
   ]
  },
  {
   "cell_type": "code",
   "execution_count": 7,
   "metadata": {},
   "outputs": [],
   "source": [
    "def euler(df,x0,f0,xf,h=0.001):\n",
    "    #h = paso\n",
    "    longitud = xf - x0\n",
    "    n = int(longitud / h)\n",
    "    print(\"longitud total = %f ; intervalos = %i\"%(longitud,n))\n",
    "    resultado = np.zeros(n) # vector \n",
    "    i = 0\n",
    "    resultado[i] = f0\n",
    "    for x in np.linspace(x0,xf,n):\n",
    "        #print(\"i=%i\\tx=%f\\tdf(x)=%f\\tf(x)=%f\"%(i,x,df(x),resultado[i])) #debug\n",
    "        resultado[i+1] = resultado[i] + df(x)*h\n",
    "        i=i+1\n",
    "        if(i>(n-2)):break\n",
    "        \n",
    "    return resultado"
   ]
  },
  {
   "cell_type": "markdown",
   "metadata": {},
   "source": [
    "Vamos a probar el algoritmo de Euler"
   ]
  },
  {
   "cell_type": "code",
   "execution_count": 8,
   "metadata": {},
   "outputs": [
    {
     "data": {
      "application/vnd.jupyter.widget-view+json": {
       "model_id": "30c9b94be87a4ae0862986aaf4f365a7",
       "version_major": 2,
       "version_minor": 0
      },
      "text/plain": [
       "interactive(children=(FloatSlider(value=0.5005, description='h', max=1.0, min=0.001), Output()), _dom_classes=…"
      ]
     },
     "metadata": {},
     "output_type": "display_data"
    }
   ],
   "source": [
    "@interact(h=(0.001,1))\n",
    "def plot(h):\n",
    "    aprox = euler(g, 0,1 ,4, h)\n",
    "\n",
    "    x = np.linspace(0,4, len(aprox)) \n",
    "    x_real =np.linspace(0,4) \n",
    "    \n",
    "    plt.figure()\n",
    "    plt.plot(x_real,vf(x_real),label=\"real\")\n",
    "    plt.plot(x,aprox,\"-o\",label=\"aprox.\")\n",
    "    plt.legend(loc=\"upper right\");\n",
    "    plt.xlabel(\"x\")\n",
    "    plt.ylabel(\"y\")\n"
   ]
  },
  {
   "cell_type": "code",
   "execution_count": 82,
   "metadata": {},
   "outputs": [],
   "source": [
    "def sis_lin(x,t):\n",
    "    \"x es el estado (velocidad, posicion)\"\n",
    "    c = 1\n",
    "    m = 1\n",
    "    k = 1 \n",
    "    A = np.array([\n",
    "         [-c/m, -k/m],\n",
    "         [  1,    0]])\n",
    "    B = np.array([1, 0])\n",
    "    return A.dot(x) + B"
   ]
  },
  {
   "cell_type": "code",
   "execution_count": 77,
   "metadata": {
    "slideshow": {
     "slide_type": "slide"
    }
   },
   "outputs": [],
   "source": [
    "def euler_md(df,x0,f0,xf,h=0.001):\n",
    "    #h = paso\n",
    "    longitud = xf - x0\n",
    "    n = int(longitud / h) #numero de intervalos\n",
    "    print(\"longitud total = %f ; intervalos = %i\"%(longitud,n))\n",
    "    dim = len(df(f0,x0))\n",
    "    print(\"dimensiones = %i\"%(dim))\n",
    "    resultado = np.zeros((n, dim)) # vector \n",
    "    i = 0\n",
    "    resultado[i] = f0\n",
    "    x = x0\n",
    "    for x in np.linspace(x0,xf,n):\n",
    "        #print(\"i=%i\\tx=%f\\tdf(x)=%f\\tf(x)=%f\"%(i,x,df(x),resultado[i])) #debug\n",
    "        resultado[i+1] = resultado[i] + df(resultado[i],x)*h\n",
    "        i=i+1\n",
    "        x = x + h\n",
    "        if(i>(n-2)):break\n",
    "        \n",
    "    return resultado"
   ]
  },
  {
   "cell_type": "code",
   "execution_count": 85,
   "metadata": {},
   "outputs": [
    {
     "name": "stdout",
     "output_type": "stream",
     "text": [
      "longitud total = 10.000000 ; intervalos = 10000\n",
      "dimensiones = 2\n"
     ]
    },
    {
     "data": {
      "text/plain": [
       "array([[10.        ,  1.        ],\n",
       "       [ 9.99      ,  1.011     ],\n",
       "       [ 9.979999  ,  1.02199   ],\n",
       "       ...,\n",
       "       [-1.07808294,  2.06156226],\n",
       "       [-1.07806642,  2.06148417],\n",
       "       [-1.07804984,  2.06140611]])"
      ]
     },
     "execution_count": 85,
     "metadata": {},
     "output_type": "execute_result"
    }
   ],
   "source": [
    "euler_md(sis_lin, 0, [10,1], 10)"
   ]
  },
  {
   "cell_type": "code",
   "execution_count": 86,
   "metadata": {
    "scrolled": true
   },
   "outputs": [
    {
     "data": {
      "application/vnd.jupyter.widget-view+json": {
       "model_id": "447cc7ecfaeb4fd3ad4909456bd7ceb1",
       "version_major": 2,
       "version_minor": 0
      },
      "text/plain": [
       "interactive(children=(FloatSlider(value=0.5005, description='h', max=1.0, min=0.001), Output()), _dom_classes=…"
      ]
     },
     "metadata": {},
     "output_type": "display_data"
    }
   ],
   "source": [
    "@interact(h=(0.001,1))\n",
    "def plot(h):\n",
    "    t_final = 10.0 #segundos\n",
    "    aprox = euler_md(sis_lin, 0, [10,1], t_final, h)\n",
    "\n",
    "    x = np.linspace(0,t_final, len(aprox)) \n",
    "    plt.figure()\n",
    "    plt.plot(x,aprox[:,0],\"-o\",label=\"velocidad\")\n",
    "    plt.plot(x,aprox[:,1],\"-o\",label=\"pos\")\n",
    "    plt.legend(loc=\"upper right\");\n",
    "    plt.xlabel(\"tiempo\")\n",
    "    plt.ylabel(\"variables\")"
   ]
  },
  {
   "cell_type": "markdown",
   "metadata": {},
   "source": [
    "# Método del punto medio o Euler modificado (mid point method)\n",
    "\n",
    "# Métodos de Heun (predictor corrector)\n",
    "\n",
    "# Método de Runge-Kutta de 4to orden"
   ]
  },
  {
   "cell_type": "code",
   "execution_count": null,
   "metadata": {},
   "outputs": [],
   "source": []
  },
  {
   "cell_type": "markdown",
   "metadata": {},
   "source": [
    "## Método Generalizado de Runge Kutta\n",
    "Por medio de la notacion conocida como tablatura de Butcher podemos escribir el metodo de Runge-Kutta Clasico de 4to orden de la siguiente mandera\n",
    "\n",
    "$$ \\boxed{\\quad y_{n+1} = y_n + h \\sum^s_{i-1}{b_i k_i} \\quad } $$\n",
    "where\n",
    "$$\n",
    "\\begin{array}{rcl}\n",
    "k_1 & = & f(t_n, y_n), \\\\\n",
    "k_2 & = & f(t_n + c_2h, y_n + h(a_{21}k_1) ), \\\\\n",
    "k_3 & = & f(t_n + c_2h, y_n + h(a_{31}k_1 + a_{32}k_2) ), \\\\\n",
    "k_4 & = & f(t_n + c_2h, y_n + h(a_{41}k_1 + a_{42}k_2 + a_{43}k_3) ), \\\\\n",
    "\\end{array}\n",
    "$$\n",
    "\n",
    "$$ \\begin{array}\n",
    "{c|cccc}\n",
    "0\\\\\n",
    "c_2 & a_{21}\\\\\n",
    "c_3 & a_{31} & a_{32} \\\\\n",
    "c_4 & a_{41} & a_{42}& a_{43}\\\\\n",
    "\\hline\n",
    "& b_1 & b_2 & b_3 & b_4\n",
    "\\end{array}\n",
    "$$\n",
    "\n",
    "A contnuacion la dunfion \"RK\" que implementa el algoritmo generalizado de Runge kutta, por consiguiente es necesario subminstrar los vectores c, b y la matriz a\n"
   ]
  },
  {
   "cell_type": "code",
   "execution_count": 130,
   "metadata": {},
   "outputs": [],
   "source": [
    "def RK(f, y0, t0, tf, c, a , b, h=0.1):\n",
    "    #h = paso\n",
    "    longitud = tf - t0\n",
    "    n = int(longitud / h) #numero de intervalos\n",
    "    print(\"longitud total = %f ; intervalos = %i; h = %f\"%(longitud,n,h))\n",
    "    dim = len(f(y0,t0))\n",
    "    substeps = len(c)\n",
    "    print(\"dimensiones = %i, substeps = %i\"%(dim, substeps))\n",
    "    \n",
    "    y = np.zeros((n, dim)) # predimensionamiento del resultado\n",
    "    \n",
    "    i = 0\n",
    "    t = t0\n",
    "    y[i] = y0\n",
    "\n",
    "    for t in np.linspace(t0,tf,n):\n",
    "        print(\"i=%i\\tt=%f\\tf(t,y)=%f\\ty(t)=%f\"%(i,t,f(t,y[i]),y[i])) #debug\n",
    "        k = np.zeros(substeps)\n",
    "        for s in range(substeps):\n",
    "            # ki = f( t, x)\n",
    "            k[s] = f(t + h*c[s], y[i] + h *  sum([a[s,j] for j in range(s)]))\n",
    "            print(\"\\t\\t s=%i, \\tk(s)=%f\"%(s,k[s]))\n",
    "        \n",
    "        y[i+1] = y[i] + h * b.dot(k)\n",
    "        \n",
    "        t = t + h\n",
    "        i = i + 1\n",
    "        if(i>(n-2)):break\n",
    "        \n",
    "    return y"
   ]
  },
  {
   "cell_type": "markdown",
   "metadata": {},
   "source": [
    "Utilizando el metodo clasico de Runge-kutta de cuarto orden podemos llenar la tablatura de Butche de la sigueinte manera:\n",
    "$$ \\begin{array}\n",
    "{c|cccc}\n",
    "0\\\\\n",
    "\\frac{1}{2} & \\frac{1}{2}\\\\\n",
    "\\frac{1}{2} &0 &\\frac{1}{2} \\\\\n",
    "1& 0& 0& 1\\\\\n",
    "\\hline\n",
    "& \\frac{1}{6} &\\frac{1}{3} &\\frac{1}{3} &\\frac{1}{6} \n",
    "\\end{array}\n",
    "$$\n",
    "\n",
    "la razon porque le metodo de Euler, Heun , Euler modificado y Rk4 son llamados metodos de ls *familia* de Runge-Kutta es qporque al cambiar los coeficientes $c_i$, $b_i$ y $a_{ij}$ podemos reescribirlos utilizando la formula generalizada."
   ]
  },
  {
   "cell_type": "code",
   "execution_count": 135,
   "metadata": {},
   "outputs": [],
   "source": [
    "metodo = \"RK4\"\n",
    "\n",
    "if metodo == \"RK4\":\n",
    "    b = np.array([1/6, 1/3, 1/3, 1/6])\n",
    "    c = np.array([0, 1/2, 1/2, 1])\n",
    "    a = np.array([[0,   0,   0,  0],\n",
    "                  [1/2, 0,   0,  0],\n",
    "                  [0,   1/2, 0,  0],\n",
    "                  [0,   0,   1,  0]])"
   ]
  },
  {
   "cell_type": "code",
   "execution_count": 148,
   "metadata": {},
   "outputs": [
    {
     "name": "stdout",
     "output_type": "stream",
     "text": [
      "longitud total = 4.000000 ; intervalos = 40; h = 0.100000\n",
      "dimensiones = 1, substeps = 4\n",
      "i=0\tt=0.000000\tf(t,y)=8.500000\ty(t)=1.000000\n",
      "\t\t s=0, \tk(s)=8.500000\n",
      "\t\t s=1, \tk(s)=7.529750\n",
      "\t\t s=2, \tk(s)=7.529750\n",
      "\t\t s=3, \tk(s)=6.618000\n",
      "i=1\tt=0.102564\tf(t,y)=6.572793\ty(t)=1.753950\n",
      "\t\t s=0, \tk(s)=6.572793\n",
      "\t\t s=1, \tk(s)=5.720926\n",
      "\t\t s=2, \tk(s)=5.720926\n",
      "\t\t s=3, \tk(s)=4.924481\n",
      "i=2\tt=0.205128\tf(t,y)=4.885104\ty(t)=2.326966\n",
      "\t\t s=0, \tk(s)=4.885104\n",
      "\t\t s=1, \tk(s)=4.145308\n",
      "\t\t s=2, \tk(s)=4.145308\n",
      "\t\t s=3, \tk(s)=3.457858\n",
      "i=3\tt=0.307692\tf(t,y)=3.423987\ty(t)=2.742369\n",
      "\t\t s=0, \tk(s)=3.423987\n",
      "\t\t s=1, \tk(s)=2.789950\n",
      "\t\t s=2, \tk(s)=2.789950\n",
      "\t\t s=3, \tk(s)=2.205183\n",
      "i=4\tt=0.410256\tf(t,y)=2.176495\ty(t)=3.022186\n",
      "\t\t s=0, \tk(s)=2.176495\n",
      "\t\t s=1, \tk(s)=1.641906\n",
      "\t\t s=2, \tk(s)=1.641906\n",
      "\t\t s=3, \tk(s)=1.153509\n",
      "i=5\tt=0.512821\tf(t,y)=1.129680\ty(t)=3.187146\n",
      "\t\t s=0, \tk(s)=1.129680\n",
      "\t\t s=1, \tk(s)=0.688227\n",
      "\t\t s=2, \tk(s)=0.688227\n",
      "\t\t s=3, \tk(s)=0.289889\n",
      "i=6\tt=0.615385\tf(t,y)=0.270596\ty(t)=3.256687\n",
      "\t\t s=0, \tk(s)=0.270596\n",
      "\t\t s=1, \tk(s)=-0.084032\n",
      "\t\t s=2, \tk(s)=-0.084032\n",
      "\t\t s=3, \tk(s)=-0.398623\n",
      "i=7\tt=0.717949\tf(t,y)=-0.413704\ty(t)=3.248951\n",
      "\t\t s=0, \tk(s)=-0.413704\n",
      "\t\t s=1, \tk(s)=-0.687820\n",
      "\t\t s=2, \tk(s)=-0.687820\n",
      "\t\t s=3, \tk(s)=-0.924974\n",
      "i=8\tt=0.820513\tf(t,y)=-0.936167\ty(t)=3.180786\n",
      "\t\t s=0, \tk(s)=-0.936167\n",
      "\t\t s=1, \tk(s)=-1.136082\n",
      "\t\t s=2, \tk(s)=-1.136082\n",
      "\t\t s=3, \tk(s)=-1.302112\n",
      "i=9\tt=0.923077\tf(t,y)=-1.309741\ty(t)=3.067742\n",
      "\t\t s=0, \tk(s)=-1.309741\n",
      "\t\t s=1, \tk(s)=-1.441766\n",
      "\t\t s=2, \tk(s)=-1.441766\n",
      "\t\t s=3, \tk(s)=-1.542983\n",
      "i=10\tt=1.025641\tf(t,y)=-1.547371\ty(t)=2.924079\n",
      "\t\t s=0, \tk(s)=-1.547371\n",
      "\t\t s=1, \tk(s)=-1.617818\n",
      "\t\t s=2, \tk(s)=-1.617818\n",
      "\t\t s=3, \tk(s)=-1.660535\n",
      "i=11\tt=1.128205\tf(t,y)=-1.662005\ty(t)=2.762759\n",
      "\t\t s=0, \tk(s)=-1.662005\n",
      "\t\t s=1, \tk(s)=-1.677186\n",
      "\t\t s=2, \tk(s)=-1.677186\n",
      "\t\t s=3, \tk(s)=-1.667714\n",
      "i=12\tt=1.230769\tf(t,y)=-1.666591\ty(t)=2.595452\n",
      "\t\t s=0, \tk(s)=-1.666591\n",
      "\t\t s=1, \tk(s)=-1.632817\n",
      "\t\t s=2, \tk(s)=-1.632817\n",
      "\t\t s=3, \tk(s)=-1.577467\n",
      "i=13\tt=1.333333\tf(t,y)=-1.574074\ty(t)=2.432529\n",
      "\t\t s=0, \tk(s)=-1.574074\n",
      "\t\t s=1, \tk(s)=-1.497657\n",
      "\t\t s=2, \tk(s)=-1.497657\n",
      "\t\t s=3, \tk(s)=-1.402741\n",
      "i=14\tt=1.435897\tf(t,y)=-1.397402\ty(t)=2.283072\n",
      "\t\t s=0, \tk(s)=-1.397402\n",
      "\t\t s=1, \tk(s)=-1.284654\n",
      "\t\t s=2, \tk(s)=-1.284654\n",
      "\t\t s=3, \tk(s)=-1.156483\n",
      "i=15\tt=1.538462\tf(t,y)=-1.149522\ty(t)=2.154864\n",
      "\t\t s=0, \tk(s)=-1.149522\n",
      "\t\t s=1, \tk(s)=-1.006754\n",
      "\t\t s=2, \tk(s)=-1.006754\n",
      "\t\t s=3, \tk(s)=-0.851640\n",
      "i=16\tt=1.641026\tf(t,y)=-0.843381\ty(t)=2.054394\n",
      "\t\t s=0, \tk(s)=-0.843381\n",
      "\t\t s=1, \tk(s)=-0.676905\n",
      "\t\t s=2, \tk(s)=-0.676905\n",
      "\t\t s=3, \tk(s)=-0.501160\n",
      "i=17\tt=1.743590\tf(t,y)=-0.491925\ty(t)=1.986858\n",
      "\t\t s=0, \tk(s)=-0.491925\n",
      "\t\t s=1, \tk(s)=-0.308053\n",
      "\t\t s=2, \tk(s)=-0.308053\n",
      "\t\t s=3, \tk(s)=-0.117988\n",
      "i=18\tt=1.846154\tf(t,y)=-0.108102\ty(t)=1.956156\n",
      "\t\t s=0, \tk(s)=-0.108102\n",
      "\t\t s=1, \tk(s)=0.086855\n",
      "\t\t s=2, \tk(s)=0.086855\n",
      "\t\t s=3, \tk(s)=0.284928\n",
      "i=19\tt=1.948718\tf(t,y)=0.295142\ty(t)=1.964893\n",
      "\t\t s=0, \tk(s)=0.295142\n",
      "\t\t s=1, \tk(s)=0.494872\n",
      "\t\t s=2, \tk(s)=0.494872\n",
      "\t\t s=3, \tk(s)=0.694641\n",
      "i=20\tt=2.051282\tf(t,y)=0.704858\ty(t)=2.014381\n",
      "\t\t s=0, \tk(s)=0.704858\n",
      "\t\t s=1, \tk(s)=0.903050\n",
      "\t\t s=2, \tk(s)=0.903050\n",
      "\t\t s=3, \tk(s)=1.098204\n",
      "i=21\tt=2.153846\tf(t,y)=1.108102\ty(t)=2.104636\n",
      "\t\t s=0, \tk(s)=1.108102\n",
      "\t\t s=1, \tk(s)=1.298444\n",
      "\t\t s=2, \tk(s)=1.298444\n",
      "\t\t s=3, \tk(s)=1.482670\n",
      "i=22\tt=2.256410\tf(t,y)=1.491925\ty(t)=2.234378\n",
      "\t\t s=0, \tk(s)=1.491925\n",
      "\t\t s=1, \tk(s)=1.668105\n",
      "\t\t s=2, \tk(s)=1.668105\n",
      "\t\t s=3, \tk(s)=1.835093\n",
      "i=23\tt=2.358974\tf(t,y)=1.843381\ty(t)=2.401035\n",
      "\t\t s=0, \tk(s)=1.843381\n",
      "\t\t s=1, \tk(s)=1.999087\n",
      "\t\t s=2, \tk(s)=1.999087\n",
      "\t\t s=3, \tk(s)=2.142525\n",
      "i=24\tt=2.461538\tf(t,y)=2.149522\ty(t)=2.600740\n",
      "\t\t s=0, \tk(s)=2.149522\n",
      "\t\t s=1, \tk(s)=2.278444\n",
      "\t\t s=2, \tk(s)=2.278444\n",
      "\t\t s=3, \tk(s)=2.392019\n",
      "i=25\tt=2.564103\tf(t,y)=2.397402\ty(t)=2.828328\n",
      "\t\t s=0, \tk(s)=2.397402\n",
      "\t\t s=1, \tk(s)=2.493227\n",
      "\t\t s=2, \tk(s)=2.493227\n",
      "\t\t s=3, \tk(s)=2.570629\n",
      "i=26\tt=2.666667\tf(t,y)=2.574074\ty(t)=3.077344\n",
      "\t\t s=0, \tk(s)=2.574074\n",
      "\t\t s=1, \tk(s)=2.630491\n",
      "\t\t s=2, \tk(s)=2.630491\n",
      "\t\t s=3, \tk(s)=2.665407\n",
      "i=27\tt=2.769231\tf(t,y)=2.666591\ty(t)=3.340035\n",
      "\t\t s=0, \tk(s)=2.666591\n",
      "\t\t s=1, \tk(s)=2.677288\n",
      "\t\t s=2, \tk(s)=2.677288\n",
      "\t\t s=3, \tk(s)=2.663407\n",
      "i=28\tt=2.871795\tf(t,y)=2.662005\ty(t)=3.607354\n",
      "\t\t s=0, \tk(s)=2.662005\n",
      "\t\t s=1, \tk(s)=2.620671\n",
      "\t\t s=2, \tk(s)=2.620671\n",
      "\t\t s=3, \tk(s)=2.551682\n",
      "i=29\tt=2.974359\tf(t,y)=2.547371\ty(t)=3.868960\n",
      "\t\t s=0, \tk(s)=2.547371\n",
      "\t\t s=1, \tk(s)=2.447693\n",
      "\t\t s=2, \tk(s)=2.447693\n",
      "\t\t s=3, \tk(s)=2.317284\n",
      "i=30\tt=3.076923\tf(t,y)=2.309741\ty(t)=4.113217\n",
      "\t\t s=0, \tk(s)=2.309741\n",
      "\t\t s=1, \tk(s)=2.145408\n",
      "\t\t s=2, \tk(s)=2.145408\n",
      "\t\t s=3, \tk(s)=1.947267\n",
      "i=31\tt=3.179487\tf(t,y)=1.936167\ty(t)=4.327194\n",
      "\t\t s=0, \tk(s)=1.936167\n",
      "\t\t s=1, \tk(s)=1.700868\n",
      "\t\t s=2, \tk(s)=1.700868\n",
      "\t\t s=3, \tk(s)=1.428684\n",
      "i=32\tt=3.282051\tf(t,y)=1.413704\ty(t)=4.496666\n",
      "\t\t s=0, \tk(s)=1.413704\n",
      "\t\t s=1, \tk(s)=1.101126\n",
      "\t\t s=2, \tk(s)=1.101126\n",
      "\t\t s=3, \tk(s)=0.748588\n",
      "i=33\tt=3.384615\tf(t,y)=0.729404\ty(t)=4.606113\n",
      "\t\t s=0, \tk(s)=0.729404\n",
      "\t\t s=1, \tk(s)=0.333237\n",
      "\t\t s=2, \tk(s)=0.333237\n",
      "\t\t s=3, \tk(s)=-0.105969\n",
      "i=34\tt=3.487179\tf(t,y)=-0.129680\ty(t)=4.638719\n",
      "\t\t s=0, \tk(s)=-0.129680\n",
      "\t\t s=1, \tk(s)=-0.615749\n",
      "\t\t s=2, \tk(s)=-0.615749\n",
      "\t\t s=3, \tk(s)=-1.147933\n",
      "i=35\tt=3.589744\tf(t,y)=-1.176495\ty(t)=4.576376\n",
      "\t\t s=0, \tk(s)=-1.176495\n",
      "\t\t s=1, \tk(s)=-1.758776\n",
      "\t\t s=2, \tk(s)=-1.758776\n",
      "\t\t s=3, \tk(s)=-2.390250\n",
      "i=36\tt=3.692308\tf(t,y)=-2.423987\ty(t)=4.399678\n",
      "\t\t s=0, \tk(s)=-2.423987\n",
      "\t\t s=1, \tk(s)=-3.108793\n",
      "\t\t s=2, \tk(s)=-3.108793\n",
      "\t\t s=3, \tk(s)=-3.845869\n",
      "i=37\tt=3.794872\tf(t,y)=-3.885104\ty(t)=4.087928\n",
      "\t\t s=0, \tk(s)=-3.885104\n",
      "\t\t s=1, \tk(s)=-4.678747\n",
      "\t\t s=2, \tk(s)=-4.678747\n",
      "\t\t s=3, \tk(s)=-5.527735\n",
      "i=38\tt=3.897436\tf(t,y)=-5.572793\ty(t)=3.619131\n",
      "\t\t s=0, \tk(s)=-5.572793\n",
      "\t\t s=1, \tk(s)=-6.481583\n",
      "\t\t s=2, \tk(s)=-6.481583\n",
      "\t\t s=3, \tk(s)=-7.448797\n"
     ]
    }
   ],
   "source": [
    "def test_RK(t,y):\n",
    "    return np.array([g(t)])\n",
    "\n",
    "\n",
    "test_out = RK(test_RK, 1, 0, 4, c, a , b, h=.1)"
   ]
  },
  {
   "cell_type": "code",
   "execution_count": 151,
   "metadata": {},
   "outputs": [
    {
     "data": {
      "text/plain": [
       "Text(0, 0.5, 'y')"
      ]
     },
     "execution_count": 151,
     "metadata": {},
     "output_type": "execute_result"
    },
    {
     "data": {
      "image/png": "[encoded data removed]",
      "text/plain": [
       "<Figure size 432x288 with 1 Axes>"
      ]
     },
     "metadata": {},
     "output_type": "display_data"
    }
   ],
   "source": [
    "X = np.linspace(0,4,len(test_out))\n",
    "plt.plot(X,test_out, label=\"RK4\")\n",
    "plt.plot(X,f(X), label=\"exact\")\n",
    "#plt.plot(X,g(X), label=\"gen\")\n",
    "plt.title(\"Runge Kutta generalizado\")\n",
    "plt.legend(loc=\"best\")\n",
    "plt.xlabel(\"t\")\n",
    "plt.ylabel(\"y\")"
   ]
  },
  {
   "cell_type": "code",
   "execution_count": 129,
   "metadata": {},
   "outputs": [
    {
     "data": {
      "text/plain": [
       "[0, 1, 2, 3]"
      ]
     },
     "execution_count": 129,
     "metadata": {},
     "output_type": "execute_result"
    }
   ],
   "source": [
    "list(range(4))"
   ]
  },
  {
   "cell_type": "code",
   "execution_count": null,
   "metadata": {},
   "outputs": [],
   "source": []
  }
 ],
 "metadata": {
  "celltoolbar": "Tags",
  "kernelspec": {
   "display_name": "Python 3",
   "language": "python",
   "name": "python3"
  },
  "language_info": {
   "codemirror_mode": {
    "name": "ipython",
    "version": 3
   },
   "file_extension": ".py",
   "mimetype": "text/x-python",
   "name": "python",
   "nbconvert_exporter": "python",
   "pygments_lexer": "ipython3",
   "version": "3.7.2"
  }
 },
 "nbformat": 4,
 "nbformat_minor": 2
}
