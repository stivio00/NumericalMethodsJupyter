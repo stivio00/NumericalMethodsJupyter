{
 "cells": [
  {
   "cell_type": "markdown",
   "metadata": {
    "slideshow": {
     "slide_type": "slide"
    },
    "tags": [
     "intro"
    ]
   },
   "source": [
    "# 5 Ecuaciones Diferenciales Ordinaria (ODE)\n",
    "Ecuaciones diferenciales ordinarias son esenciales en las aplicaciones en ingenieria, ya que muchos modelos fisicos utilizan derivada para cuantificar cantidades fisicas. Por ejemplo el casi mas esencial en ingenieria mecania son las ecuaciones de conservacion. Conservacion de energia, de momentum y masa. Estas ecuaciones se escriben de forma diferencial y su solucion muchas veces el el comportamiento del sistema. Como variable depentiendes de tiempo podemos detectar la posición y sus derivadas velocidad y aceleracion. Un sistema mecanica podemos escribirlos, si las condiciones son propicias, como un sistema diferencial lineal. Por lo tanto la solucion se busqueda puede recaer en una solucion analitica o numerica.\n",
    "En el caso de las soluciones numericas si los teoremas de -- podemos aplicarlos a sistemas no lineas."
   ]
  },
  {
   "cell_type": "markdown",
   "metadata": {
    "slideshow": {
     "slide_type": "slide"
    }
   },
   "source": [
    "## 5.1 Introducción\n",
    "Una ecuacion diferencia ordinaria es una ecuacion el que la funcion incognita solo deriva con respecto a a la variable independiente. Esto contrasta con las ecuaciones diferenciales parciales que su definicion canonica es una ecuacionq ue posee derivada de una funcion de de dos o mas variable.\n",
    "Un ejemplo de ecuacion diferencia es la ecuacion de un grado de liberatd lineal\n",
    "\n",
    "$$m \\frac{\\mathrm d^2 x}{\\mathrm d t^2} - c \\frac{\\mathrm d x}{\\mathrm d t} + k x = f(t) $$\n",
    "\n",
    "Para el caso homogeneeo de $f(t) = 0$ optenemos un ecuación homogenea donde la funcion $x(t)$ es desconocida.  Y podemos utilizar metodos analiticos simples para determinar la familia de curvas que resuelve la ecuacion.\n",
    "\n",
    "Antes de continuar tenemos que mencionar que una ecución deferencial de primer orden superior, por ejemplo de orden `n`, se puede transformar a un sistema de  `n`ecuaciones. En el ejemplo anterior se puede convertir al hacer un cambio de variables. El objetivo es Convertir las derivadas de orden superior por ejmplo la velocidad se puede escribir como \n",
    "$$ v = \\frac{\\mathrm d x}{\\mathrm d t}$$\n",
    "\n",
    "y reescribir la ecuacion de primer orden en un sistemas de dos ecuaciones de primer orden:\n",
    "\n",
    "$  \\frac{\\mathrm d v}{\\mathrm d t} = \\frac{c}{m} v(t) - \\frac{k}{m} x(t)  $\n",
    "\n",
    "$ \\frac{\\mathrm d x}{\\mathrm d t} = v(t)$\n",
    "\n",
    "Donde la variable incognitas son $x(t)$ y $v(t)$. Y se pueden escribir en forma matricial como:\n",
    "$$\n",
    "\\begin{bmatrix}\n",
    " \\frac{\\mathrm d v}{\\mathrm d t} \\\\\n",
    " \\frac{\\mathrm d x}{\\mathrm d t}\n",
    "\\end{bmatrix}\n",
    "=\n",
    "\\begin{bmatrix}\n",
    " \\frac{c}{m} & -\\frac{k}{m} \\\\\n",
    " 0 & 1\n",
    "\\end{bmatrix}\n",
    "\\begin{bmatrix}\n",
    " x(t)\\\\\n",
    " v(t)\n",
    "\\end{bmatrix}\n",
    "$$\n",
    "Donde donde podemos definir $\\mathbf x = \\mathbf x(t)$ como el ***vector de estado*** donde:\n",
    "$$ \\mathbf x(t) = \\begin{bmatrix} v(t)\\\\x(t) \\end{bmatrix} $$ \n",
    "\n",
    "Por motivos informativos pero no relevantes para el tema de métodos númericos podemos mostrar la ecuacion generica de estado:\n",
    "$$ \\frac{\\mathrm d}{\\mathrm d t}\\mathbf x(t) = \\mathbf A \\mathbf x(t) + \\mathbf u(t)$$\n",
    "\n",
    "donde `A` es la matriz de coeficientes, `x`es nuestro estado y `u` son las entradas al sistema, en nuestro caso es cero. Para recapitular cualquier ecuacion de orden superior `n` se puede transforma a un sistema de `n` ecuaciones y viceversa. Cabe mencionar que este procedimiento no es unicos. Estas transformaciones puden transformar en diferentes formas. La forma canonica o caracteristica del sistemas de ODE's esta fuera del alcance de este curso."
   ]
  },
  {
   "cell_type": "markdown",
   "metadata": {
    "slideshow": {
     "slide_type": "slide"
    }
   },
   "source": [
    "###  {Ejemplo 5.1}\n",
    "Siguiendo la metodología propuesta vamos a deifinir un problema simple para resolverlo de forma analitica y siguiente\n",
    "$$ f'(x) =  \\mathrm{sin}(x) $$\n",
    "\n",
    "donde la función incognita es $f = f(x)$ y la variable independiente es $x$\n",
    "Podemos escribir esto como \n",
    "$$ \\frac{\\mathrm d}{\\mathrm d x} f(x) = g(x) $$\n",
    "donde $g(x) = x + \\mathrm{sin}(x)$\n",
    "\n",
    "Si queremos darle un significado geometrico podemos hacer el cambio de variable $y = f(x)$ \n",
    "$$ \\frac{\\mathrm d y}{\\mathrm d x} = \\mathrm{sin}(x) = g(x) $$\n",
    "\n",
    "Donde $y(x)$ es un funcion desconocida podemos al igual que en busqueda de raices que buscabamos un valor $x$ que resolvia una ecuacion algebraica. Ir intententado diferentes funciones que al derivar $f(x)$ una vez se iguale a $x + sin(x)$. Esto se puede hacer facilemente debido a a que es una fucnion de una sola variable independiente por lo tanto esta se puede integrar directamente, ya que la integral es la operación inversa de la derivada.\n",
    "la funcion $$ f(x) =  - cos(x)$$ \n",
    "resuelve la ecuacion\n",
    "Si derivamos $$f'(x) = \\frac{\\mathrm d}{\\mathrm d x} f(x) = \\mathrm{sin}(x)$$\n",
    "Por lo tanto tenemos una solución a la ecuacion diferencial. Pero tenemos que investigar otro problema.\n",
    "la funcion $$ f(x) = \\frac{1}{2} x^2 - cos(x) + 1000$$\n",
    "tambies es una solución de la ec. dif.  y de echo tota la familia de curvas :\n",
    "$$ f(x) = \\frac{1}{2} x^2 - cos(x) + c$$\n",
    "donde $c$ es estrictamente un valor que pertenezca a $\\mathbb R$ (en esencia una constante real).\n",
    "Por eso decimos que la solucion particula de una ecuación diferencial es una de los tantos casos generales de la solución general. Para acotar aun mas el problema podemos definir condiciones conocidas como condiciones iniciales. y estas determinan una solución particular.\n",
    "\n",
    "Extendiendo el aspecto geometrico donde $$ \\frac{\\mathrm d y}{\\mathrm d x} = x + \\mathrm{sin}(x) = g(x) $$\n",
    "podemos entonces graficar la pendiente $\\frac{\\mathrm d y}{\\mathrm d x}$ en funcion de x ,f(x).\n",
    "\n"
   ]
  },
  {
   "cell_type": "code",
   "execution_count": 1,
   "metadata": {
    "slideshow": {
     "slide_type": "slide"
    }
   },
   "outputs": [
    {
     "data": {
      "text/plain": [
       "'Pendiente'"
      ]
     },
     "metadata": {},
     "output_type": "display_data"
    },
    {
     "data": {
      "text/plain": [
       "<Figure size 640x480 with 1 Axes>"
      ]
     },
     "metadata": {},
     "output_type": "display_data"
    }
   ],
   "source": [
    "import matplotlib.pyplot as plt\n",
    "import numpy as np\n",
    "\n",
    "X = np.arange(0,10)\n",
    "Y =  np.arange(-5,5)\n",
    "U, V =  np.meshgrid(np.sin(X), np.ones(10))\n",
    "\n",
    "plt.quiver(U, V)\n",
    "plt.plot(X,-np.cos(X) + 2)\n",
    "plt.plot(X,-np.cos(X) + 2.5)\n",
    "\n",
    "plt.ylim(0,5)\n",
    "display(\"Pendiente\")\n",
    "plt.show()"
   ]
  },
  {
   "cell_type": "markdown",
   "metadata": {
    "slideshow": {
     "slide_type": "subslide"
    }
   },
   "source": [
    "Podemos apreciar que el campo vetorial generado por la pendiente de la ecuacion diferencia, ajusta la solucion $-cos(x) +c $ donde graficamos solo cuando $ c= 2$ y $c=2.5$\n",
    "\n",
    "Las condiciones sujetas a $f(x=0) = K$ se conocen como condiciones iniciales. Por ejemplo queremos la solucion particular sujeta a que la curva pase por el punto $f(0) = 2$, entonces porcedemos a remplzar el valor de $x=0$ y $f = 2$ en nuestra solución general, y optenemos que parametro de $c$ satisface esta condición.\n",
    "\n",
    "$$f(0) = -cos(0) + c  = 2$$\n",
    "$$ -1 + c = 2$$\n",
    "$$ c = 3$$\n",
    "Entonces nuestra solucion particular que cumple esta condicion incial es :\n",
    "$$f(x) = -cos(x) + 3$$\n",
    "Vamos a graficar esta solución para ver si pasa por el punto."
   ]
  },
  {
   "cell_type": "code",
   "execution_count": 2,
   "metadata": {
    "slideshow": {
     "slide_type": "subslide"
    }
   },
   "outputs": [
    {
     "data": {
      "image/png": "[encoded data removed]",
      "text/plain": [
       "<Figure size 432x288 with 1 Axes>"
      ]
     },
     "metadata": {},
     "output_type": "display_data"
    }
   ],
   "source": [
    "plt.quiver(U, V)\n",
    "c = 3.0\n",
    "plt.plot(X,-np.cos(X) + c)\n",
    "plt.ylim(0,5)\n",
    "plt.show()"
   ]
  },
  {
   "cell_type": "markdown",
   "metadata": {
    "slideshow": {
     "slide_type": "notes"
    }
   },
   "source": [
    "Efectivamente si $c=3$ la curva pasa por $f(0)=2$, ahora pontremos un manipulador para inspeccionar todas las curvas contenidas en un rango definido:"
   ]
  },
  {
   "cell_type": "code",
   "execution_count": 3,
   "metadata": {
    "slideshow": {
     "slide_type": "slide"
    }
   },
   "outputs": [
    {
     "data": {
      "application/vnd.jupyter.widget-view+json": {
       "model_id": "c87fa19b82694442a2e8ac48a0d694ce",
       "version_major": 2,
       "version_minor": 0
      },
      "text/plain": [
       "interactive(children=(FloatSlider(value=3.0, description='c', max=5.0, min=1.0), Output()), _dom_classes=('wid…"
      ]
     },
     "metadata": {},
     "output_type": "display_data"
    }
   ],
   "source": [
    "from ipywidgets import interact\n",
    "@interact(c=(1.0,5.0))\n",
    "def plot(c):\n",
    "    plt.quiver(U, V)\n",
    "\n",
    "    plt.plot(X,-np.cos(X) + c)\n",
    "    plt.ylim(0,5)\n",
    "    plt.show()"
   ]
  },
  {
   "cell_type": "markdown",
   "metadata": {},
   "source": [
    "Todas las curvas satisfacen el campo de pendientes generados por la ecuacion diferencial. Bueno, suficiente con un repaso elemental de ecuaciones simples ahora vamos a desarrollar  metodos numericos que resuelvan ecuaciones diferenciales.\n",
    "Antes de comezar notamos que la funcoion $g(x)$ no depende de la variable dependiente $f(x)$ o $y$. por lo tanto la ecuación es directamente integrable. El caso mas general es cuando la funcion $g = g(x,y)$ o $g(x,f(x))$. En este caso la ecuacion diferencia depende de su propia funcion.\n",
    "Por ultimo el caso multi variable donde $\\mathbf g(x,\\mathbf y)$ nos dice que la forma general de una ecuacion diferencia ordinaria es $$\\mathbf f'(x) = \\mathbf g(x, \\mathbf f(x))$$. Y mas importante au si podemos escribir $\\mathbf g(x,\\mathbf y)$ como una operacion lineal : $\\mathbf g(x,\\mathbf y) = \\mathbf A  \\mathbf y$ y es una matrir de constantes se dice que la ecuacion diferencial es lineal. Por otro lado si es $\\mathbf A(x)$ se dice que es quasi-lineal.\n"
   ]
  },
  {
   "cell_type": "markdown",
   "metadata": {},
   "source": [
    "## 5.2 Métodos de Runge-Kutta\n",
    "Sin duda alguna los metodos de la familia de Runge-Kutta son la familia de metodos mas ultizados para resolver escuaciones diferencia ordinarias. Como cualquier familia de metodos existe una descripción general, y sub casos dependiendo el grado de aproximación utilizado.\n",
    "\n",
    "El primer caso es el Método de Euler, con este metodo aproximamos el valor que tomar la funcion aproximando el valor de su pendiente. Utilizando la filosofá de \n",
    "\n",
    "`Nuevo Valor = antiguo valor + pendiente*paso`\n",
    "Esto en temrinos matematico lo podemos escribir como\n",
    "$$ y_{i+1} = y_{i} + \\phi h$$\n",
    "\n",
    "### 5.2.1 Método de Euler\n",
    "Debido a que la ecuacion diferencial es a partir de $f'(x) = g(x,y)$, podemos aproximar el valor  de $phi$ como $g(x,y)$\n",
    "Para probar este algoritmo simple vamos a utiliizar un ecuacion diferencia simple\n",
    "$$ \\frac{\\mathrm d y}{\\mathrm d x} = \n",
    "-2 x^3 + 12 x^2 -20 x +8.5 $$\n",
    "y sabemos su solucion:\n",
    "$$ y = - 0.5x^4 + 4x^3 - 10x^2 + 8.5 x +1 $$\n",
    "\n"
   ]
  },
  {
   "cell_type": "code",
   "execution_count": 4,
   "metadata": {},
   "outputs": [],
   "source": [
    "def g(x):\n",
    "    return -2*x**3 + 12*x**2 - 20*x + 8.5\n",
    "\n",
    "def f(x): \n",
    "    return -0.5*x**4 + 4*x**3 - 10*x**2 + 8.5*x + 1"
   ]
  },
  {
   "cell_type": "code",
   "execution_count": 5,
   "metadata": {},
   "outputs": [
    {
     "data": {
      "text/plain": [
       "Text(0.5, 1.0, 'Pendiente')"
      ]
     },
     "execution_count": 5,
     "metadata": {},
     "output_type": "execute_result"
    },
    {
     "data": {
      "image/png": "[encoded data removed]",
      "text/plain": [
       "<Figure size 432x288 with 1 Axes>"
      ]
     },
     "metadata": {},
     "output_type": "display_data"
    }
   ],
   "source": [
    "vg = np.vectorize(g)\n",
    "vf = np.vectorize(f)\n",
    "\n",
    "x = np.linspace(0,4)\n",
    "plt.plot(x,vg(x),label=\"$g(x)$\")\n",
    "plt.legend(loc=\"upper right\")\n",
    "plt.ylabel(\"g(x\")\n",
    "plt.xlabel(\"x\")\n",
    "plt.title(\"Pendiente\")"
   ]
  },
  {
   "cell_type": "code",
   "execution_count": 6,
   "metadata": {},
   "outputs": [
    {
     "data": {
      "image/png": "[encoded data removed]",
      "text/plain": [
       "<Figure size 432x288 with 1 Axes>"
      ]
     },
     "metadata": {},
     "output_type": "display_data"
    }
   ],
   "source": [
    "plt.plot(x,vf(x), label = \"f(x)\")\n",
    "plt.legend(loc=\"upper right\")\n",
    "plt.ylabel(\"f(x)\")\n",
    "plt.xlabel(\"x\")\n",
    "plt.title(\"Solución exacta ed la ecuación diferencial\")\n",
    "plt.show()"
   ]
  },
  {
   "cell_type": "markdown",
   "metadata": {},
   "source": [
    "Vamos a implementar el metodo de euler paso a paso, como entrada vamos a tener la funcion a integrar `f'(x)` o `g(x)`, el paso `h`, condicion inicial, x inicial, y x final. Y el resultado son los puntos solucion de la funcion solucion `f(x)`."
   ]
  },
  {
   "cell_type": "code",
   "execution_count": 7,
   "metadata": {},
   "outputs": [],
   "source": [
    "def euler(df,x0,f0,xf,h=0.001):\n",
    "    #h = paso\n",
    "    longitud = xf - x0\n",
    "    n = int(longitud / h)\n",
    "    print(\"longitud total = %f ; intervalos = %i\"%(longitud,n))\n",
    "    resultado = np.zeros(n) # vector \n",
    "    i = 0\n",
    "    resultado[i] = f0\n",
    "    for x in np.linspace(x0,xf,n):\n",
    "        #print(\"i=%i\\tx=%f\\tdf(x)=%f\\tf(x)=%f\"%(i,x,df(x),resultado[i])) #debug\n",
    "        resultado[i+1] = resultado[i] + df(x)*h\n",
    "        i=i+1\n",
    "        if(i>(n-2)):break\n",
    "        \n",
    "    return resultado"
   ]
  },
  {
   "cell_type": "markdown",
   "metadata": {},
   "source": [
    "Vamos a probar el algoritmo de Euler"
   ]
  },
  {
   "cell_type": "code",
   "execution_count": 8,
   "metadata": {},
   "outputs": [
    {
     "data": {
      "application/vnd.jupyter.widget-view+json": {
       "model_id": "dcd00620dc574bfcaab6e80603ddc998",
       "version_major": 2,
       "version_minor": 0
      },
      "text/plain": [
       "interactive(children=(FloatSlider(value=0.5005, description='h', max=1.0, min=0.001), Output()), _dom_classes=…"
      ]
     },
     "metadata": {},
     "output_type": "display_data"
    }
   ],
   "source": [
    "@interact(h=(0.001,1))\n",
    "def plot(h):\n",
    "    aprox = euler(g, 0,1 ,4, h)\n",
    "\n",
    "    x = np.linspace(0,4, len(aprox)) \n",
    "    x_real =np.linspace(0,4) \n",
    "    \n",
    "    plt.figure()\n",
    "    plt.plot(x_real,vf(x_real),label=\"real\")\n",
    "    plt.plot(x,aprox,\"-o\",label=\"aprox.\")\n",
    "    plt.legend(loc=\"upper right\");\n",
    "    plt.xlabel(\"x\")\n",
    "    plt.ylabel(\"y\")\n"
   ]
  },
  {
   "cell_type": "code",
   "execution_count": 9,
   "metadata": {},
   "outputs": [],
   "source": [
    "def sis_lin(x,t):\n",
    "    \"x es el estado (velocidad, posicion)\"\n",
    "    c = 1\n",
    "    m = 1\n",
    "    k = 1 \n",
    "    A = np.array([\n",
    "         [-c/m, -k/m],\n",
    "         [  1,    0]])\n",
    "    B = np.array([1, 0])\n",
    "    return A.dot(x) + B"
   ]
  },
  {
   "cell_type": "code",
   "execution_count": 10,
   "metadata": {
    "slideshow": {
     "slide_type": "slide"
    }
   },
   "outputs": [],
   "source": [
    "def euler_md(df,x0,f0,xf,h=0.001):\n",
    "    #h = paso\n",
    "    longitud = xf - x0\n",
    "    n = int(longitud / h) #numero de intervalos\n",
    "    print(\"longitud total = %f ; intervalos = %i\"%(longitud,n))\n",
    "    dim = len(df(f0,x0))\n",
    "    print(\"dimensiones = %i\"%(dim))\n",
    "    resultado = np.zeros((n, dim)) # vector \n",
    "    i = 0\n",
    "    resultado[i] = f0\n",
    "    x = x0\n",
    "    for x in np.linspace(x0,xf,n):\n",
    "        #print(\"i=%i\\tx=%f\\tdf(x)=%f\\tf(x)=%f\"%(i,x,df(x),resultado[i])) #debug\n",
    "        resultado[i+1] = resultado[i] + df(resultado[i],x)*h\n",
    "        i=i+1\n",
    "        x = x + h\n",
    "        if(i>(n-2)):break\n",
    "        \n",
    "    return resultado"
   ]
  },
  {
   "cell_type": "code",
   "execution_count": 11,
   "metadata": {},
   "outputs": [
    {
     "name": "stdout",
     "output_type": "stream",
     "text": [
      "longitud total = 10.000000 ; intervalos = 10000\n",
      "dimensiones = 2\n"
     ]
    },
    {
     "data": {
      "text/plain": [
       "array([[10.        ,  1.        ],\n",
       "       [ 9.99      ,  1.01      ],\n",
       "       [ 9.98      ,  1.01999   ],\n",
       "       ...,\n",
       "       [-0.07589114,  1.05397314],\n",
       "       [-0.07586923,  1.05389725],\n",
       "       [-0.07584725,  1.05382138]])"
      ]
     },
     "execution_count": 11,
     "metadata": {},
     "output_type": "execute_result"
    }
   ],
   "source": [
    "euler_md(sis_lin, 0, [10,1], 10)"
   ]
  },
  {
   "cell_type": "code",
   "execution_count": 12,
   "metadata": {
    "scrolled": true
   },
   "outputs": [
    {
     "data": {
      "application/vnd.jupyter.widget-view+json": {
       "model_id": "f728f0774168466b9a0e04854c26ab96",
       "version_major": 2,
       "version_minor": 0
      },
      "text/plain": [
       "interactive(children=(FloatSlider(value=0.5005, description='h', max=1.0, min=0.001), Output()), _dom_classes=…"
      ]
     },
     "metadata": {},
     "output_type": "display_data"
    }
   ],
   "source": [
    "@interact(h=(0.001,1))\n",
    "def plot(h):\n",
    "    t_final = 10.0 #segundos\n",
    "    aprox = euler_md(sis_lin, 0, [10,1], t_final, h)\n",
    "\n",
    "    x = np.linspace(0,t_final, len(aprox)) \n",
    "    plt.figure()\n",
    "    plt.plot(x,aprox[:,0],\"-o\",label=\"velocidad\")\n",
    "    plt.plot(x,aprox[:,1],\"-o\",label=\"pos\")\n",
    "    plt.legend(loc=\"upper right\");\n",
    "    plt.xlabel(\"tiempo\")\n",
    "    plt.ylabel(\"variables\")"
   ]
  },
  {
   "cell_type": "markdown",
   "metadata": {},
   "source": [
    "# Método del punto medio o Euler modificado (mid point method)\n",
    "\n",
    "Euler explicito en adelante\n",
    "$$\n",
    "\\begin{array}{c|c}\n",
    "0 & 0 \\\\\n",
    "\\hline\n",
    "  & 1 \\\\\n",
    "\\end{array}\n",
    "$$\n",
    "\n",
    "Euler modificado o punto medio\n",
    "\n",
    "$$\n",
    "\\begin{array}{c|cc}\n",
    "0   & 0   & 0  \\\\\n",
    "1/2 & 1/2 & 0  \\\\\n",
    "\\hline\n",
    "    & 0   & 1  \\\\\n",
    "\\end{array}\n",
    "$$\n",
    "\n",
    "# Métodos de Heun (predictor corrector)\n",
    "$$\n",
    "{\\begin{array}{c|cc}0&0&0\\\\1&1&0\\\\\\hline &1/2&1/2\\\\\\end{array}}\n",
    "$$\n",
    "\n",
    "# Ralston\n",
    "$$\n",
    "{\\begin{array}{c|cc}0&0&0\\\\2/3&2/3&0\\\\\\hline &1/4&3/4\\\\\\end{array}}\n",
    "$$\n",
    "\n",
    "\n",
    "# Método de Runge-Kutta de 4to orden\n",
    "\n",
    "\n",
    "\\begin{array}{c|cccc}\n",
    "0   & 0   & 0   & 0   & 0\\\\\n",
    "1/2 & 1/2 & 0   & 0   & 0\\\\\n",
    "1/2 & 0   & 1/2 & 0   & 0\\\\\n",
    "1   & 0   & 0   & 1   & 0\\\\\n",
    "\\hline\n",
    "    & 1/6 & 1/3 & 1/3 & 1/6\\\\\n",
    "\\end{array}\n"
   ]
  },
  {
   "cell_type": "markdown",
   "metadata": {},
   "source": [
    "## Método Generalizado de Runge Kutta\n",
    "Por medio de la notacion conocida como tablatura de Butcher podemos escribir el metodo de Runge-Kutta Clasico de 4to orden de la siguiente mandera\n",
    "\n",
    "$$ \\boxed{\\quad y_{n+1} = y_n + h \\sum^s_{i-1}{b_i k_i} \\quad } $$\n",
    "donde $s$ es en numero de subpasos y,\n",
    "\n",
    "\n",
    "$$\n",
    "\\begin{array}{rcl}\n",
    "k_1 & = & f(t_n, y_n), \\\\\n",
    "k_2 & = & f(t_n + c_2h, y_n + h(a_{21}k_1) ), \\\\\n",
    "k_3 & = & f(t_n + c_2h, y_n + h(a_{31}k_1 + a_{32}k_2) ), \\\\\n",
    "k_4 & = & f(t_n + c_2h, y_n + h(a_{41}k_1 + a_{42}k_2 + a_{43}k_3) ), \\\\\n",
    "\\end{array}\n",
    "$$\n",
    "\n",
    "$$ \\begin{array}\n",
    "{c|cccc}\n",
    "0\\\\\n",
    "c_2 & a_{21}\\\\\n",
    "c_3 & a_{31} & a_{32} \\\\\n",
    "c_4 & a_{41} & a_{42}& a_{43}\\\\\n",
    "\\hline\n",
    "& b_1 & b_2 & b_3 & b_4\n",
    "\\end{array}\n",
    "$$\n",
    "\n",
    "A contnuacion la dunfion \"RK\" que implementa el algoritmo generalizado de Runge kutta, por consiguiente es necesario subminstrar los vectores c, b y la matriz a\n"
   ]
  },
  {
   "cell_type": "code",
   "execution_count": 13,
   "metadata": {},
   "outputs": [],
   "source": [
    "def RK(f, y0, t0, tf, c, a , b, h=0.1):\n",
    "    #h = paso\n",
    "    longitud = tf - t0\n",
    "    n = int(longitud / h) #numero de intervalos\n",
    "    print(\"longitud total = %f ; intervalos = %i; h = %f\"%(longitud,n,h))\n",
    "    dim = len(f(y0,t0))\n",
    "    substeps = len(c)\n",
    "    print(\"dimensiones = %i, substeps = %i\"%(dim, substeps))\n",
    "    \n",
    "    y = np.zeros((n, dim)) # predimensionamiento del resultado\n",
    "    \n",
    "    i = 0\n",
    "    t = t0\n",
    "    y[i] = y0\n",
    "\n",
    "    for t in np.linspace(t0,tf,n):\n",
    "        #print(\"i=%i\\tt=%f\\tf(t,y)=%f\\ty(t)=%f\"%(i,t,f(t,y[i]),y[i])) #debug steps\n",
    "        k = np.zeros(substeps)\n",
    "        for s in range(substeps):\n",
    "            # ki = f( t, x)\n",
    "            k[s] = f(t + h*c[s], y[i] + h *  sum([a[s,j] for j in range(s)]))\n",
    "            #print(\"\\t\\t s=%i, \\tk(s)=%f\"%(s,k[s])) #debug substeps\n",
    "        \n",
    "        y[i+1] = y[i] + h * b.dot(k)\n",
    "        \n",
    "        t = t + h\n",
    "        i = i + 1\n",
    "        if(i>(n-2)):break\n",
    "        \n",
    "    return y"
   ]
  },
  {
   "cell_type": "markdown",
   "metadata": {},
   "source": [
    "Utilizando el metodo clasico de Runge-kutta de cuarto orden podemos llenar la tablatura de Butche de la sigueinte manera:\n",
    "$$ \\begin{array}\n",
    "{c|cccc}\n",
    "0\\\\\n",
    "\\frac{1}{2} & \\frac{1}{2}\\\\\n",
    "\\frac{1}{2} &0 &\\frac{1}{2} \\\\\n",
    "1& 0& 0& 1\\\\\n",
    "\\hline\n",
    "& \\frac{1}{6} &\\frac{1}{3} &\\frac{1}{3} &\\frac{1}{6} \n",
    "\\end{array}\n",
    "$$\n",
    "\n",
    "La tablatura de Butcher más simple es la del método de Euler:\n",
    "$$ \\begin{array}\n",
    "{c|c}\n",
    "0\\\\\n",
    "\\hline\n",
    "& 1\n",
    "\\end{array}\n",
    "$$\n",
    "\n",
    "la razon porque le metodo de Euler, Heun , Euler modificado y Rk4 son llamados metodos de ls *familia* de Runge-Kutta es qporque al cambiar los coeficientes $c_i$, $b_i$ y $a_{ij}$ podemos reescribirlos utilizando la formula generalizada.\n",
    "\n",
    "A continuacion mencionaremos las tabalaturas para los emetodos explicitos mas comunes dentro de la familia de los metodos de Runge Kutta.\n",
    " "
   ]
  },
  {
   "cell_type": "code",
   "execution_count": 14,
   "metadata": {},
   "outputs": [],
   "source": [
    "def ButcherTableu(metodo):\n",
    "    if metodo == \"RK4\":\n",
    "        b = np.array([1/6, 1/3, 1/3, 1/6])\n",
    "        c = np.array([0, 1/2, 1/2, 1])\n",
    "        a = np.array([[0,   0,   0,  0],\n",
    "                  [1/2, 0,   0,  0],\n",
    "                  [0,   1/2, 0,  0],\n",
    "                  [0,   0,   1,  0]])\n",
    "    elif metodo == \"RK3\":\n",
    "        b = np.array([1/6, 1/3, 1/3, 1/6])\n",
    "        c = np.array([0, 1/2, 1/2, 1])\n",
    "        a = np.array([[0,   0,   0,  0],\n",
    "                  [1/2, 0,   0,  0],\n",
    "                  [0,   1/2, 0,  0],\n",
    "                  [0,   0,   1,  0]])\n",
    "    elif metodo == \"euler\":\n",
    "        b = np.array([1])\n",
    "        c = np.array([0])\n",
    "        a = np.array([[0]])\n",
    "    elif metodo == \"midpoint\":\n",
    "        b = np.array([0, 1])\n",
    "        c = np.array([0, 1/2])\n",
    "        a = np.array([[0,   0],\n",
    "                      [1/2, 0]])\n",
    "    elif metodo == \"heun\":\n",
    "        b = np.array([1/2, 1/2])\n",
    "        c = np.array([0, 1])\n",
    "        a = np.array([[0,   0],\n",
    "                      [1, 0]])\n",
    "    elif metodo == \"ralston\":\n",
    "        b = np.array([0, 1])\n",
    "        c = np.array([0, 1/2])\n",
    "        a = np.array([[0,   0],\n",
    "                      [1/2, 0]])\n",
    "        \n",
    "    else:\n",
    "        print(\"no existe el metodo!\")\n",
    "        return None\n",
    "        \n",
    "    return b,c,a"
   ]
  },
  {
   "cell_type": "code",
   "execution_count": 15,
   "metadata": {},
   "outputs": [
    {
     "data": {
      "application/vnd.jupyter.widget-view+json": {
       "model_id": "f96479ff6f0046f9b5a7f42806775b24",
       "version_major": 2,
       "version_minor": 0
      },
      "text/plain": [
       "interactive(children=(Dropdown(description='metodo', options=('euler', 'RK4', 'RK3', 'midpoint', 'heun', 'rals…"
      ]
     },
     "metadata": {},
     "output_type": "display_data"
    }
   ],
   "source": [
    "def test_RK(t,y):\n",
    "    return np.array([g(t)])\n",
    "\n",
    "@interact(metodo=[\"euler\",\"RK4\",\"RK3\",\"midpoint\",\"heun\",\"ralston\"], h=(.01,1,.01) )\n",
    "def plot(metodo,h):\n",
    "    b,c,a = ButcherTableu(metodo)\n",
    "    print(a)\n",
    "\n",
    "    #Prueba del metodo generalizado utilizando el polinomioo de prueba g(x)\n",
    "    test_out = RK(test_RK, 1, 0, 4, c, a , b, h=h)\n",
    "\n",
    "    X = np.linspace(0,4,len(test_out))\n",
    "    plt.plot(X,test_out, label=metodo)\n",
    "    plt.plot(X,f(X), label=\"exact\")\n",
    "    #plt.plot(X,g(X), label=\"gen\")\n",
    "    plt.title(\"Runge Kutta generalizado\")\n",
    "    plt.legend(loc=\"best\")\n",
    "    plt.xlabel(\"t\")\n",
    "    plt.ylabel(\"y\")\n",
    "    plt.show()"
   ]
  },
  {
   "cell_type": "markdown",
   "metadata": {},
   "source": [
    "## Métodos Adaptativos\n",
    "Los métodos adptativos en esencia manipulan el valor del paso (h) para capturar mejor la pendiente de la solución.\n",
    "En orden de entender si necesitamos un mejor paso (en esencia un valor de incrementeo mas pequeño) tenemos que comprar nuestro paso y tener en mano alguna manera de calcular un error. Esto es posible si se repite el paso con un metodo de mayor o menor orden, esto echo, podremos calcular la diferencia entre el paso de menor orden con el de mayor orden. en caso que el valor de error sea mayor que el permitido previamente definido por el usuario.\n",
    "\n",
    "Los métodos adaptativos se componen de dos pasos un orden inferior $\\mathbf{(p -1)}$ y despues computar un paso de orden superior $ \\mathbf {(p)} $, para despues comprar el el error de truncamiento entre estos dos diferente pasos. Si utilizamos el método generalizado de Runge-Kutta podemos extender la tablatura de Butcher para incluir  un conjunto de coeficiente $ \\mathbf {b^*} $.\n",
    "\n",
    "Por ejmplo la tablatura de Butcher extendida pa metodos adaptativos include los coeficientes $ \\mathbf {b} $  y $ \\mathbf {b^*} $ de orden superior e inferieor.\n",
    "\n",
    "\n",
    "$$ \\begin{array}\n",
    "{c|cccc}\n",
    "c_1 \\\\\n",
    "c_2 & a_{21} \\\\\n",
    "c_3 & a_{31} & a_{32} \\\\\n",
    "c_4 & a_{41} & a_{42} & a_{43} \\\\\n",
    "\\hline\n",
    "& b^*_1 & b^*_2 & b^*_3 & b^*_4 \\\\\n",
    "& b_1 & b_2 & b_3 & b_4\n",
    "\\end{array}\n",
    "$$\n",
    "\n",
    "El paso de orden superior $\\mathbf{(p)}$ lo calculamos como:\n",
    "\n",
    "$$\n",
    "y^*_{n+1} = y_i +  h \\cdot \\sum^s_{j=1}{b^*_j k_j}\n",
    "$$ \n",
    "\n",
    "y el valor de orden inferior $\\mathbf{(p -1)}$ como usualmente los calculamos\n",
    "$$\n",
    "y_{n+1} = y_i + h\\cdot\\sum^s_{j=1}{b_j k_j}\n",
    "$$\n",
    "\n",
    "\n",
    "Podemos expresar la diferencia entre los pasos $\\mathbf{(p -1)}$ y $\\mathbf{(p)}$ como el error $ e $\n",
    "$$ \n",
    "e = y^*_{n+1} - y_{n+1} = \\sum^s_{j=1} { (b^*_j - b_j) k_j }\n",
    "$$\n",
    "\n",
    "Donde $s$ es la cantidad de subpasos dentro del proceso recursivo de Runge-Kutta.\n",
    "\n",
    "En resumen para tener un metodo adaptativo, necesitamos  obtener un criterio para decidir en disminuir o aumentar el paso para ajustarlos a una distancia optima, minimizando el error de trucnamiento. En este caos el criterio es el error de truncamiento entre metodos de ordenes difeente.\n",
    " El caso mas simple de un metodo adaptativo es combina los dos metodos mas simples, El metodo de Heun y el metodo de Euler y comprar entre si el error de truncamiento\n",
    " \n",
    " \n",
    " Una ventaja de utilizar el metodo de Runge-Kutta generalizado para calcular el error, es el ahorro de calculos. Al calcularo los coeficientes $k_i$ solo se reutilizan para calcula el valor $y^*_{n+1}$ y $y_{n+1} $ por ejemplo \n",
    " el valor de $e$ previamente calculado se puede utilizara para crear un condicion de  refinamiento de h para optimizar el error.\n",
    " \n",
    " \n",
    "El pseudo codigo seria algo como\n",
    "\n",
    "\n",
    "Si error <= limite_inferior entonces \n",
    "\n",
    "    h := h / (factor)\n",
    "    \n",
    "de lo contrario entonces\n",
    "\n",
    "    h := h * factor\n",
    "\n",
    "\n",
    "donde el factor seria por ejemplo 2, y el error de truncamiento ${1.0}\\cdot \\mathrm{e^{-5}} $. podemos interpretar que el algoritmo dismuniria el el paso h hasta que el paso tenga un error de truncamiendo (en diferencia de sus ordenes) , en caso contrario aumentara el paso al doble y asi permitir avanzar en la solucion mas rapido sin sacrificar presicion.\n",
    "\n",
    "Entre los algorimtos adaptativos mas comunes se encuentra el Cash&Karp y el Normand&Prince\n",
    "ambos algoritmos\n",
    "    \n",
    "    "
   ]
  },
  {
   "cell_type": "markdown",
   "metadata": {},
   "source": [
    "El metodo Euler Heun adapatativo thene la tablatura de Butcher extendida\n",
    "$$ \\begin{array}\n",
    "{c|cc}\n",
    "  & 0 \\\\\n",
    "1 & 1 \\\\\n",
    "\\hline\n",
    "&\\frac{1}{2} & \\frac{1}{2} \\\\\n",
    "&1 & 0 &  \\\\\n",
    "\\end{array}\n",
    "$$\n",
    "\n",
    "Donde se combina el metodo de orden 1 de euler, con el metodo de segundo orden de Heun, sin embargo es de poca utilidad practica. Solo sirve como metodo ilustrativo de una combinacion de metodos de diferentes ordenes para estimar o sensar algun error para corregir el tamõ de paso. \n",
    "\n",
    "Un metodo simple de implentación pero con mayor orden de precision es el metodo de Bogacki- Shampine este combina ordenes de 2do y tercer orden. En Matlab y simulink es implemmetnada en la funcion primitiva \"ode23\"\n",
    "\n",
    "$$ \\begin{array}{c|cc}\n",
    "0 \\\\\n",
    "1/2\t& 1/2            \\\\\n",
    "3/4\t& 0\t  & 3/4      \\\\\n",
    "1\t& 2/9 & 1/3\t& 4/9 \\\\\n",
    "\\hline\n",
    " & 2/9\t& 1/3 &\t4/9\t& 0    \\\\\n",
    " & 7/24& 1/4 &\t1/3\t& 1/8\n",
    "\\end{array}\n",
    "$$\n",
    "\n",
    "\n",
    "El siguiente metodo es el de Cash-Karp que combina metodos de orden 3 y 4 y su tablatura extendida de Butcher es:\n",
    "\n",
    "$$ \\begin{array}{c|cc}\n",
    "0 \\\\\n",
    "1/5 &\t1/5 \\\\\n",
    "3/10&\t3/40   &\t9/40\\\\\n",
    "3/5 &\t3/10   &\t−9/10 &\t6/5\\\\\n",
    "1   &\t−11/54 &\t5/2\t& −70/27&\t35/27\\\\\n",
    "7/8 &\t1631/55296 &\t175/512&\t575/13824&\t44275/110592&\t253/4096\\\\\n",
    "\\hline\n",
    "    & 37/378    &  \t0&\t250/621&\t125/594&\t0&\t512/1771\\\\\n",
    "    & 2825/27648 &\t0&\t18575/48384&\t13525/55296&\t277/14336&\t1/4\\\\\n",
    "\\end{array}\n",
    "$$\n",
    "\n",
    "Y por ultimo y sin duda el metodo mas utilizado de todos los anteriores debido a que combina buena precision sin sacrificar complejidad de calculo es el metodo de Dormand-Prince que combina 4to y 5to orden. Es implemnetado en matlab y simulink en ode45. Ademas es la funcion predeterminada para resolver los sistemas de integracion en tiempo de simulink. La tablatura de Butche es:\n",
    "\n",
    "\n",
    "La primera linea de los coeficientes b es la solucion de quinto orden. Si se desea solo utiliziar Runge-Kutta de quinto orden sin adaptar la malla podemos simplemente utilizar la primera linea de los coeficiente de la tablatura de Butcher sin computar el error.\n",
    "\n",
    "\n",
    "Un metodo alternativo al de Normad-Prince es el metodo \"Runge Kutta Fehlberg\" es un metodo  que iguelmente combina esquemas de 4to y 5to orden su tablatura de Butcher:\n",
    "\n",
    "\n",
    "Este uiltimo es la funcion por default de los integradores en Octave os software de codigo abierto o libres."
   ]
  },
  {
   "cell_type": "markdown",
   "metadata": {},
   "source": [
    "## Métodos de la Familia Runge-Kutta Implicitos"
   ]
  },
  {
   "cell_type": "markdown",
   "metadata": {},
   "source": [
    "Los metodos implicitos al contrario de los metodos explicito previamnete desarrollados, no podemos evaluar los coefficiente s $k_i$ de manera explicita es decir, dependecia directa de la funcion $f(y,t)$. En poca palabras para evalue $k_n$ solo necesitamos $k_{n-1}$, $k_{n-2}$, ... por lo tanto la evaluacion de $k_{n}$ solo depende de las evaluaciones anteriores.\n",
    "En el caso implicito buscamos unos coeficiente que depende de ellos mismo, por lo tanto una \"busqueda\" iterativa de la raiz.\n",
    "\n",
    "$$ \\begin{array}\n",
    "{c|cccc}\n",
    "c_1 & a_{11} & a_{12} & a_{13} & a_{14} \\\\\n",
    "c_2 & a_{21} & a_{22} & a_{23} & a_{24} \\\\\n",
    "c_3 & a_{31} & a_{32} & a_{33} & a_{34} \\\\\n",
    "c_4 & a_{41} & a_{42} & a_{43} & a_{44} \\\\\n",
    "\\hline\n",
    "& b_1 & b_2 & b_3 & b_4\n",
    "\\end{array}\n",
    "$$\n",
    "\n",
    "y Para evaluar el siguiente paso\n",
    "$$\n",
    "y_{n+1} = y_i +  h \\cdot \\sum^s_{j=1}{b_j k_j}\n",
    "$$ \n",
    "\n",
    "donde:\n",
    "\n",
    "$$\n",
    "k_j = f \\left( t +c_j, y_n + h \\cdot \\sum^s_{l=1}{a_{jl} k_l} \\right)\n",
    "$$\n",
    "\n",
    "\n",
    "Esto aumenta considerablemente la la evaluacion de funciones para calucular, esto hace complicada la solucion de los metodos implicitos. Por lo tanto es necesario poder encontrar los valores de K_i que resultvan las ecuaciones. En caso la ecuacion diferencia sea lineal, el sistema se piede convertir en un sistema quasilineal y resolverlo por medio de algebra lineal. En caso que la ecuacion diferencial no sea linea, eso producira un sitema no linea de ecuciones donde las inconitas sera el vector $k_i$ y por lo tanto utilizaremos un metodo de newton para resolver los coeficiente  $k_i$\n",
    "\n",
    "Para hacer esto podemos llamar al residuo como:\n",
    "$$\n",
    "Res_j = f \\left( t +c_j, y_n + h \\cdot \\sum^s_{l=1}{a_{jl} k_l} \\right) - k_j\n",
    "$$\n",
    "Y nuestro objetivo seria encontrar los valores $k_i$ que hagan todos los valores de $R_i = 0$, para esto podemos utilizar un metodo de newton, y por lo tanto podemos utilizar el Si utilizamos un metodo de newthon, podemos aplicar \n",
    "$$\n",
    "\\frac{\\partial Res_j }{\\partial k_l} = \n",
    "\\frac\n",
    "{\\partial f \\left( t +c_j, y_n + h \\cdot \\sum^s_{l=1}{a_{jl} k_l }\\right)}\n",
    "{\\partial k_l} \n",
    " - \\frac{\\partial k_j}{\\partial k_l}\n",
    "$$\n",
    "\n",
    "Si aplicamos la regla de la cadena y resolvermo $\\frac{\\partial k_j}{\\partial k_l} = \\delta_{ij}$\n",
    "\n",
    "$$\n",
    "\\frac{\\partial Res_j }{\\partial k_l} = \n",
    "\\frac\n",
    "{\\partial f \\left( t +c_j, y_n + h \\cdot \\sum^s_{l=1}{a_{jl} k_l }\\right)}\n",
    "{\\partial k_l} \n",
    " - \\delta_{ij}\n",
    "$$\n",
    "\n",
    "El paso de iteración de Newton $\\nu$ para encontrar los valores de $k_i$ se puede escribir como\n",
    "$$\n",
    "\\frac{}{}\n",
    "$$"
   ]
  },
  {
   "cell_type": "code",
   "execution_count": null,
   "metadata": {},
   "outputs": [],
   "source": []
  }
 ],
 "metadata": {
  "kernelspec": {
   "display_name": "Python 3",
   "language": "python",
   "name": "python3"
  },
  "language_info": {
   "codemirror_mode": {
    "name": "ipython",
    "version": 3
   },
   "file_extension": ".py",
   "mimetype": "text/x-python",
   "name": "python",
   "nbconvert_exporter": "python",
   "pygments_lexer": "ipython3",
   "version": "3.7.2"
  }
 },
 "nbformat": 4,
 "nbformat_minor": 2
}
