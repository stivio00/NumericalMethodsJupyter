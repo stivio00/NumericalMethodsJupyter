{
 "cells": [
  {
   "cell_type": "markdown",
   "metadata": {},
   "source": [
    "# Apendice B - Programacion Cientifica en Python"
   ]
  },
  {
   "cell_type": "markdown",
   "metadata": {},
   "source": [
    "## Contenido\n",
    "* Intorduccion\n",
    "  * variable tipos de datos y operaciones\n",
    "  * Funciones y flujo de programas\n",
    "  * Modulos\n",
    "  * Objetos y clases\n",
    "  * metodos, miembros\n",
    "  * tipos fundamentales \n",
    "  * Libreria estandard\n",
    "  * Ayuda\n",
    "  \n",
    "* Jupyter\n",
    "  * Notebook Creacion, guardado\n",
    "  * Markdown Titulo secciones parrafor, tablas, links imagenes.\n",
    "  * Latex, ecucaiones inline, equation.\n",
    "  * Combinacion de teclas\n",
    "  \n"
   ]
  },
  {
   "cell_type": "code",
   "execution_count": null,
   "metadata": {},
   "outputs": [],
   "source": []
  }
 ],
 "metadata": {
  "kernelspec": {
   "display_name": "Python 3",
   "language": "python",
   "name": "python3"
  },
  "language_info": {
   "codemirror_mode": {
    "name": "ipython",
    "version": 3
   },
   "file_extension": ".py",
   "mimetype": "text/x-python",
   "name": "python",
   "nbconvert_exporter": "python",
   "pygments_lexer": "ipython3",
   "version": "3.7.1"
  }
 },
 "nbformat": 4,
 "nbformat_minor": 2
}
